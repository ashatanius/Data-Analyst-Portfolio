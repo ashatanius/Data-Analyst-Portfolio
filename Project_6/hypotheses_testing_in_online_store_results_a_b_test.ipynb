{
 "cells": [
  {
   "cell_type": "markdown",
   "metadata": {},
   "source": [
    "# Анализ А/В-теста для интернет-магазина\n",
    "Вы — аналитик крупного интернет-магазина. Вместе с отделом маркетинга вы подготовили список гипотез для увеличения выручки.\n",
    "\n",
    "<b> Часть 1. Приоритизация гипотез </b>\n",
    "\n",
    "Задача:\n",
    "- Приоритизировать гипотезы, применив фреймворки ICE и RICE.\n",
    "\n",
    "\n",
    "<b> Часть 2. Анализ A/B-теста </b>\n",
    "\n",
    "Задача:\n",
    "- Проанализировать A/B-тест."
   ]
  },
  {
   "cell_type": "code",
   "execution_count": 2,
   "metadata": {},
   "outputs": [],
   "source": [
    "#импортируем библиотеки\n",
    "import pandas as pd\n",
    "import numpy as np\n",
    "import matplotlib.pyplot as plt\n",
    "from scipy import stats\n",
    "from datetime import timedelta\n",
    "import datetime as dt"
   ]
  },
  {
   "cell_type": "markdown",
   "metadata": {},
   "source": [
    "## Приоритизация гипотез"
   ]
  },
  {
   "cell_type": "code",
   "execution_count": 4,
   "metadata": {},
   "outputs": [
    {
     "data": {
      "text/html": [
       "<div>\n",
       "<style scoped>\n",
       "    .dataframe tbody tr th:only-of-type {\n",
       "        vertical-align: middle;\n",
       "    }\n",
       "\n",
       "    .dataframe tbody tr th {\n",
       "        vertical-align: top;\n",
       "    }\n",
       "\n",
       "    .dataframe thead th {\n",
       "        text-align: right;\n",
       "    }\n",
       "</style>\n",
       "<table border=\"1\" class=\"dataframe\">\n",
       "  <thead>\n",
       "    <tr style=\"text-align: right;\">\n",
       "      <th></th>\n",
       "      <th>Hypothesis</th>\n",
       "      <th>Reach</th>\n",
       "      <th>Impact</th>\n",
       "      <th>Confidence</th>\n",
       "      <th>Efforts</th>\n",
       "    </tr>\n",
       "  </thead>\n",
       "  <tbody>\n",
       "    <tr>\n",
       "      <th>0</th>\n",
       "      <td>Добавить два новых канала привлечения трафика, что позволит привлекать на 30% больше пользователей</td>\n",
       "      <td>3</td>\n",
       "      <td>10</td>\n",
       "      <td>8</td>\n",
       "      <td>6</td>\n",
       "    </tr>\n",
       "    <tr>\n",
       "      <th>1</th>\n",
       "      <td>Запустить собственную службу доставки, что сократит срок доставки заказов</td>\n",
       "      <td>2</td>\n",
       "      <td>5</td>\n",
       "      <td>4</td>\n",
       "      <td>10</td>\n",
       "    </tr>\n",
       "    <tr>\n",
       "      <th>2</th>\n",
       "      <td>Добавить блоки рекомендаций товаров на сайт интернет магазина, чтобы повысить конверсию и средний чек заказа</td>\n",
       "      <td>8</td>\n",
       "      <td>3</td>\n",
       "      <td>7</td>\n",
       "      <td>3</td>\n",
       "    </tr>\n",
       "    <tr>\n",
       "      <th>3</th>\n",
       "      <td>Изменить структура категорий, что увеличит конверсию, т.к. пользователи быстрее найдут нужный товар</td>\n",
       "      <td>8</td>\n",
       "      <td>3</td>\n",
       "      <td>3</td>\n",
       "      <td>8</td>\n",
       "    </tr>\n",
       "    <tr>\n",
       "      <th>4</th>\n",
       "      <td>Изменить цвет фона главной страницы, чтобы увеличить вовлеченность пользователей</td>\n",
       "      <td>3</td>\n",
       "      <td>1</td>\n",
       "      <td>1</td>\n",
       "      <td>1</td>\n",
       "    </tr>\n",
       "  </tbody>\n",
       "</table>\n",
       "</div>"
      ],
      "text/plain": [
       "                                                                                                     Hypothesis  \\\n",
       "0            Добавить два новых канала привлечения трафика, что позволит привлекать на 30% больше пользователей   \n",
       "1                                     Запустить собственную службу доставки, что сократит срок доставки заказов   \n",
       "2  Добавить блоки рекомендаций товаров на сайт интернет магазина, чтобы повысить конверсию и средний чек заказа   \n",
       "3           Изменить структура категорий, что увеличит конверсию, т.к. пользователи быстрее найдут нужный товар   \n",
       "4                              Изменить цвет фона главной страницы, чтобы увеличить вовлеченность пользователей   \n",
       "\n",
       "   Reach  Impact  Confidence  Efforts  \n",
       "0      3      10           8        6  \n",
       "1      2       5           4       10  \n",
       "2      8       3           7        3  \n",
       "3      8       3           3        8  \n",
       "4      3       1           1        1  "
      ]
     },
     "execution_count": 4,
     "metadata": {},
     "output_type": "execute_result"
    }
   ],
   "source": [
    "# загрузим файл с 9 гипотезами по увеличению выручки интернет-магазина\n",
    "pd.set_option('display.max_colwidth', None)\n",
    "hypothesis = pd.read_csv(path+'hypothesis.csv')\n",
    "hypothesis.head()"
   ]
  },
  {
   "cell_type": "code",
   "execution_count": 5,
   "metadata": {},
   "outputs": [
    {
     "name": "stdout",
     "output_type": "stream",
     "text": [
      "<class 'pandas.core.frame.DataFrame'>\n",
      "RangeIndex: 9 entries, 0 to 8\n",
      "Data columns (total 5 columns):\n",
      " #   Column      Non-Null Count  Dtype \n",
      "---  ------      --------------  ----- \n",
      " 0   Hypothesis  9 non-null      object\n",
      " 1   Reach       9 non-null      int64 \n",
      " 2   Impact      9 non-null      int64 \n",
      " 3   Confidence  9 non-null      int64 \n",
      " 4   Efforts     9 non-null      int64 \n",
      "dtypes: int64(4), object(1)\n",
      "memory usage: 488.0+ bytes\n"
     ]
    }
   ],
   "source": [
    "hypothesis.info()"
   ]
  },
  {
   "cell_type": "markdown",
   "metadata": {},
   "source": [
    "Пропусков в таблице нет, типы данных соответствуют требуемым (гипотеза - текст, метрики - числа), значит, можно работать с файлом."
   ]
  },
  {
   "cell_type": "code",
   "execution_count": 6,
   "metadata": {},
   "outputs": [
    {
     "data": {
      "text/plain": [
       "0              Добавить два новых канала привлечения трафика, что позволит привлекать на 30% больше пользователей\n",
       "1                                       Запустить собственную службу доставки, что сократит срок доставки заказов\n",
       "2    Добавить блоки рекомендаций товаров на сайт интернет магазина, чтобы повысить конверсию и средний чек заказа\n",
       "3             Изменить структура категорий, что увеличит конверсию, т.к. пользователи быстрее найдут нужный товар\n",
       "4                                Изменить цвет фона главной страницы, чтобы увеличить вовлеченность пользователей\n",
       "5                        Добавить страницу отзывов клиентов о магазине, что позволит увеличить количество заказов\n",
       "6            Показать на главной странице баннеры с актуальными акциями и распродажами, чтобы увеличить конверсию\n",
       "7                Добавить форму подписки на все основные страницы, чтобы собрать базу клиентов для email-рассылок\n",
       "8                                                         Запустить акцию, дающую скидку на товар в день рождения\n",
       "Name: Hypothesis, dtype: object"
      ]
     },
     "execution_count": 6,
     "metadata": {},
     "output_type": "execute_result"
    }
   ],
   "source": [
    "hypothesis.loc[:, 'Hypothesis']"
   ]
  },
  {
   "cell_type": "markdown",
   "metadata": {},
   "source": [
    "### Приоритизация гипотез, применяя ICE"
   ]
  },
  {
   "cell_type": "markdown",
   "metadata": {},
   "source": [
    "Формула для расчета приоритета гипотез ICE: \n",
    "$$ICE = \\frac{Impact * Confidence}{Efforts}$$"
   ]
  },
  {
   "cell_type": "code",
   "execution_count": 7,
   "metadata": {},
   "outputs": [
    {
     "data": {
      "text/html": [
       "<div>\n",
       "<style scoped>\n",
       "    .dataframe tbody tr th:only-of-type {\n",
       "        vertical-align: middle;\n",
       "    }\n",
       "\n",
       "    .dataframe tbody tr th {\n",
       "        vertical-align: top;\n",
       "    }\n",
       "\n",
       "    .dataframe thead th {\n",
       "        text-align: right;\n",
       "    }\n",
       "</style>\n",
       "<table border=\"1\" class=\"dataframe\">\n",
       "  <thead>\n",
       "    <tr style=\"text-align: right;\">\n",
       "      <th></th>\n",
       "      <th>Hypothesis</th>\n",
       "      <th>Reach</th>\n",
       "      <th>Impact</th>\n",
       "      <th>Confidence</th>\n",
       "      <th>Efforts</th>\n",
       "      <th>ICE</th>\n",
       "    </tr>\n",
       "  </thead>\n",
       "  <tbody>\n",
       "    <tr>\n",
       "      <th>8</th>\n",
       "      <td>Запустить акцию, дающую скидку на товар в день рождения</td>\n",
       "      <td>1</td>\n",
       "      <td>9</td>\n",
       "      <td>9</td>\n",
       "      <td>5</td>\n",
       "      <td>16.200000</td>\n",
       "    </tr>\n",
       "    <tr>\n",
       "      <th>0</th>\n",
       "      <td>Добавить два новых канала привлечения трафика, что позволит привлекать на 30% больше пользователей</td>\n",
       "      <td>3</td>\n",
       "      <td>10</td>\n",
       "      <td>8</td>\n",
       "      <td>6</td>\n",
       "      <td>13.333333</td>\n",
       "    </tr>\n",
       "    <tr>\n",
       "      <th>7</th>\n",
       "      <td>Добавить форму подписки на все основные страницы, чтобы собрать базу клиентов для email-рассылок</td>\n",
       "      <td>10</td>\n",
       "      <td>7</td>\n",
       "      <td>8</td>\n",
       "      <td>5</td>\n",
       "      <td>11.200000</td>\n",
       "    </tr>\n",
       "    <tr>\n",
       "      <th>6</th>\n",
       "      <td>Показать на главной странице баннеры с актуальными акциями и распродажами, чтобы увеличить конверсию</td>\n",
       "      <td>5</td>\n",
       "      <td>3</td>\n",
       "      <td>8</td>\n",
       "      <td>3</td>\n",
       "      <td>8.000000</td>\n",
       "    </tr>\n",
       "    <tr>\n",
       "      <th>2</th>\n",
       "      <td>Добавить блоки рекомендаций товаров на сайт интернет магазина, чтобы повысить конверсию и средний чек заказа</td>\n",
       "      <td>8</td>\n",
       "      <td>3</td>\n",
       "      <td>7</td>\n",
       "      <td>3</td>\n",
       "      <td>7.000000</td>\n",
       "    </tr>\n",
       "    <tr>\n",
       "      <th>1</th>\n",
       "      <td>Запустить собственную службу доставки, что сократит срок доставки заказов</td>\n",
       "      <td>2</td>\n",
       "      <td>5</td>\n",
       "      <td>4</td>\n",
       "      <td>10</td>\n",
       "      <td>2.000000</td>\n",
       "    </tr>\n",
       "    <tr>\n",
       "      <th>5</th>\n",
       "      <td>Добавить страницу отзывов клиентов о магазине, что позволит увеличить количество заказов</td>\n",
       "      <td>3</td>\n",
       "      <td>2</td>\n",
       "      <td>2</td>\n",
       "      <td>3</td>\n",
       "      <td>1.333333</td>\n",
       "    </tr>\n",
       "    <tr>\n",
       "      <th>3</th>\n",
       "      <td>Изменить структура категорий, что увеличит конверсию, т.к. пользователи быстрее найдут нужный товар</td>\n",
       "      <td>8</td>\n",
       "      <td>3</td>\n",
       "      <td>3</td>\n",
       "      <td>8</td>\n",
       "      <td>1.125000</td>\n",
       "    </tr>\n",
       "    <tr>\n",
       "      <th>4</th>\n",
       "      <td>Изменить цвет фона главной страницы, чтобы увеличить вовлеченность пользователей</td>\n",
       "      <td>3</td>\n",
       "      <td>1</td>\n",
       "      <td>1</td>\n",
       "      <td>1</td>\n",
       "      <td>1.000000</td>\n",
       "    </tr>\n",
       "  </tbody>\n",
       "</table>\n",
       "</div>"
      ],
      "text/plain": [
       "                                                                                                     Hypothesis  \\\n",
       "8                                                       Запустить акцию, дающую скидку на товар в день рождения   \n",
       "0            Добавить два новых канала привлечения трафика, что позволит привлекать на 30% больше пользователей   \n",
       "7              Добавить форму подписки на все основные страницы, чтобы собрать базу клиентов для email-рассылок   \n",
       "6          Показать на главной странице баннеры с актуальными акциями и распродажами, чтобы увеличить конверсию   \n",
       "2  Добавить блоки рекомендаций товаров на сайт интернет магазина, чтобы повысить конверсию и средний чек заказа   \n",
       "1                                     Запустить собственную службу доставки, что сократит срок доставки заказов   \n",
       "5                      Добавить страницу отзывов клиентов о магазине, что позволит увеличить количество заказов   \n",
       "3           Изменить структура категорий, что увеличит конверсию, т.к. пользователи быстрее найдут нужный товар   \n",
       "4                              Изменить цвет фона главной страницы, чтобы увеличить вовлеченность пользователей   \n",
       "\n",
       "   Reach  Impact  Confidence  Efforts        ICE  \n",
       "8      1       9           9        5  16.200000  \n",
       "0      3      10           8        6  13.333333  \n",
       "7     10       7           8        5  11.200000  \n",
       "6      5       3           8        3   8.000000  \n",
       "2      8       3           7        3   7.000000  \n",
       "1      2       5           4       10   2.000000  \n",
       "5      3       2           2        3   1.333333  \n",
       "3      8       3           3        8   1.125000  \n",
       "4      3       1           1        1   1.000000  "
      ]
     },
     "execution_count": 7,
     "metadata": {},
     "output_type": "execute_result"
    }
   ],
   "source": [
    "# добавим столбец ICE\n",
    "hypothesis['ICE'] = (hypothesis['Impact'] * hypothesis['Confidence']) / hypothesis['Efforts']\n",
    "hypothesis.sort_values(by='ICE', ascending=False)"
   ]
  },
  {
   "cell_type": "code",
   "execution_count": 8,
   "metadata": {},
   "outputs": [
    {
     "data": {
      "text/plain": [
       "'Запустить акцию, дающую скидку на товар в день рождения'"
      ]
     },
     "execution_count": 8,
     "metadata": {},
     "output_type": "execute_result"
    }
   ],
   "source": [
    "hypothesis.loc[8, 'Hypothesis']"
   ]
  },
  {
   "cell_type": "markdown",
   "metadata": {},
   "source": [
    "<b> Вывод 1.1: </b> провела приоритезацию гипотез, применив фреймворк ICE. Топ-3 гипотез по величение ICE: 8, 0 и 7."
   ]
  },
  {
   "cell_type": "markdown",
   "metadata": {},
   "source": [
    "### Приоритизация гипотез, применяя RICE"
   ]
  },
  {
   "cell_type": "markdown",
   "metadata": {},
   "source": [
    "Формула для расчета приоритета гипотез RICE: \n",
    "$$RICE = \\frac{Reach * Impact * Confidence}{Efforts}$$"
   ]
  },
  {
   "cell_type": "code",
   "execution_count": 9,
   "metadata": {},
   "outputs": [
    {
     "data": {
      "text/html": [
       "<div>\n",
       "<style scoped>\n",
       "    .dataframe tbody tr th:only-of-type {\n",
       "        vertical-align: middle;\n",
       "    }\n",
       "\n",
       "    .dataframe tbody tr th {\n",
       "        vertical-align: top;\n",
       "    }\n",
       "\n",
       "    .dataframe thead th {\n",
       "        text-align: right;\n",
       "    }\n",
       "</style>\n",
       "<table border=\"1\" class=\"dataframe\">\n",
       "  <thead>\n",
       "    <tr style=\"text-align: right;\">\n",
       "      <th></th>\n",
       "      <th>Hypothesis</th>\n",
       "      <th>Reach</th>\n",
       "      <th>Impact</th>\n",
       "      <th>Confidence</th>\n",
       "      <th>Efforts</th>\n",
       "      <th>ICE</th>\n",
       "      <th>RICE</th>\n",
       "    </tr>\n",
       "  </thead>\n",
       "  <tbody>\n",
       "    <tr>\n",
       "      <th>7</th>\n",
       "      <td>Добавить форму подписки на все основные страницы, чтобы собрать базу клиентов для email-рассылок</td>\n",
       "      <td>10</td>\n",
       "      <td>7</td>\n",
       "      <td>8</td>\n",
       "      <td>5</td>\n",
       "      <td>11.200000</td>\n",
       "      <td>112.0</td>\n",
       "    </tr>\n",
       "    <tr>\n",
       "      <th>2</th>\n",
       "      <td>Добавить блоки рекомендаций товаров на сайт интернет магазина, чтобы повысить конверсию и средний чек заказа</td>\n",
       "      <td>8</td>\n",
       "      <td>3</td>\n",
       "      <td>7</td>\n",
       "      <td>3</td>\n",
       "      <td>7.000000</td>\n",
       "      <td>56.0</td>\n",
       "    </tr>\n",
       "    <tr>\n",
       "      <th>0</th>\n",
       "      <td>Добавить два новых канала привлечения трафика, что позволит привлекать на 30% больше пользователей</td>\n",
       "      <td>3</td>\n",
       "      <td>10</td>\n",
       "      <td>8</td>\n",
       "      <td>6</td>\n",
       "      <td>13.333333</td>\n",
       "      <td>40.0</td>\n",
       "    </tr>\n",
       "    <tr>\n",
       "      <th>6</th>\n",
       "      <td>Показать на главной странице баннеры с актуальными акциями и распродажами, чтобы увеличить конверсию</td>\n",
       "      <td>5</td>\n",
       "      <td>3</td>\n",
       "      <td>8</td>\n",
       "      <td>3</td>\n",
       "      <td>8.000000</td>\n",
       "      <td>40.0</td>\n",
       "    </tr>\n",
       "    <tr>\n",
       "      <th>8</th>\n",
       "      <td>Запустить акцию, дающую скидку на товар в день рождения</td>\n",
       "      <td>1</td>\n",
       "      <td>9</td>\n",
       "      <td>9</td>\n",
       "      <td>5</td>\n",
       "      <td>16.200000</td>\n",
       "      <td>16.2</td>\n",
       "    </tr>\n",
       "    <tr>\n",
       "      <th>3</th>\n",
       "      <td>Изменить структура категорий, что увеличит конверсию, т.к. пользователи быстрее найдут нужный товар</td>\n",
       "      <td>8</td>\n",
       "      <td>3</td>\n",
       "      <td>3</td>\n",
       "      <td>8</td>\n",
       "      <td>1.125000</td>\n",
       "      <td>9.0</td>\n",
       "    </tr>\n",
       "    <tr>\n",
       "      <th>1</th>\n",
       "      <td>Запустить собственную службу доставки, что сократит срок доставки заказов</td>\n",
       "      <td>2</td>\n",
       "      <td>5</td>\n",
       "      <td>4</td>\n",
       "      <td>10</td>\n",
       "      <td>2.000000</td>\n",
       "      <td>4.0</td>\n",
       "    </tr>\n",
       "    <tr>\n",
       "      <th>5</th>\n",
       "      <td>Добавить страницу отзывов клиентов о магазине, что позволит увеличить количество заказов</td>\n",
       "      <td>3</td>\n",
       "      <td>2</td>\n",
       "      <td>2</td>\n",
       "      <td>3</td>\n",
       "      <td>1.333333</td>\n",
       "      <td>4.0</td>\n",
       "    </tr>\n",
       "    <tr>\n",
       "      <th>4</th>\n",
       "      <td>Изменить цвет фона главной страницы, чтобы увеличить вовлеченность пользователей</td>\n",
       "      <td>3</td>\n",
       "      <td>1</td>\n",
       "      <td>1</td>\n",
       "      <td>1</td>\n",
       "      <td>1.000000</td>\n",
       "      <td>3.0</td>\n",
       "    </tr>\n",
       "  </tbody>\n",
       "</table>\n",
       "</div>"
      ],
      "text/plain": [
       "                                                                                                     Hypothesis  \\\n",
       "7              Добавить форму подписки на все основные страницы, чтобы собрать базу клиентов для email-рассылок   \n",
       "2  Добавить блоки рекомендаций товаров на сайт интернет магазина, чтобы повысить конверсию и средний чек заказа   \n",
       "0            Добавить два новых канала привлечения трафика, что позволит привлекать на 30% больше пользователей   \n",
       "6          Показать на главной странице баннеры с актуальными акциями и распродажами, чтобы увеличить конверсию   \n",
       "8                                                       Запустить акцию, дающую скидку на товар в день рождения   \n",
       "3           Изменить структура категорий, что увеличит конверсию, т.к. пользователи быстрее найдут нужный товар   \n",
       "1                                     Запустить собственную службу доставки, что сократит срок доставки заказов   \n",
       "5                      Добавить страницу отзывов клиентов о магазине, что позволит увеличить количество заказов   \n",
       "4                              Изменить цвет фона главной страницы, чтобы увеличить вовлеченность пользователей   \n",
       "\n",
       "   Reach  Impact  Confidence  Efforts        ICE   RICE  \n",
       "7     10       7           8        5  11.200000  112.0  \n",
       "2      8       3           7        3   7.000000   56.0  \n",
       "0      3      10           8        6  13.333333   40.0  \n",
       "6      5       3           8        3   8.000000   40.0  \n",
       "8      1       9           9        5  16.200000   16.2  \n",
       "3      8       3           3        8   1.125000    9.0  \n",
       "1      2       5           4       10   2.000000    4.0  \n",
       "5      3       2           2        3   1.333333    4.0  \n",
       "4      3       1           1        1   1.000000    3.0  "
      ]
     },
     "execution_count": 9,
     "metadata": {},
     "output_type": "execute_result"
    }
   ],
   "source": [
    "# добавим столбец RICE\n",
    "hypothesis['RICE'] = (hypothesis['Reach'] * hypothesis['Impact'] * hypothesis['Confidence']) / hypothesis['Efforts']\n",
    "hypothesis.sort_values(by='RICE', ascending=False)"
   ]
  },
  {
   "cell_type": "code",
   "execution_count": 10,
   "metadata": {},
   "outputs": [
    {
     "data": {
      "text/plain": [
       "'Добавить форму подписки на все основные страницы, чтобы собрать базу клиентов для email-рассылок'"
      ]
     },
     "execution_count": 10,
     "metadata": {},
     "output_type": "execute_result"
    }
   ],
   "source": [
    "hypothesis.loc[7, 'Hypothesis']"
   ]
  },
  {
   "cell_type": "markdown",
   "metadata": {},
   "source": [
    "<b> Вывод 1.2: </b> провела приоритезацию гипотез, применив фреймворк RICE. Топ-3 гипотез по величение RICE: 7, 2, 0 и 6."
   ]
  },
  {
   "cell_type": "markdown",
   "metadata": {},
   "source": [
    "<b> Вывод 1: </b> Изучила файл с 9 гипотезами по увеличению выручки интернет-магазина. Применила фреймворки ICE и RICE для приоритизации гипотез.\n",
    "\n",
    "По ICE получила такой топ-3 - 8, 0, 7:\n",
    "- Запустить акцию, дающую скидку на товар в день рождения;\n",
    "- Добавить два новых канала привлечения трафика, что позволит привлекать на 30% больше пользователей;\n",
    "- Добавить форму подписки на все основные страницы, чтобы собрать базу клиентов для email-рассылок.\n",
    "\n",
    "По RICE получила следующий топ-3 - 7, 2, 0 и 6:\n",
    "- Добавить форму подписки на все основные страницы, чтобы собрать базу клиентов для email-рассылок;\n",
    "- Добавить блоки рекомендаций товаров на сайт интернет магазина, чтобы повысить конверсию и средний чек заказа;\n",
    "- Добавить два новых канала привлечения трафика, что позволит привлекать на 30% больше пользователей и Показать на главной странице баннеры с актуальными акциями и распродажами, чтобы увеличить конверсию.\n",
    "\n",
    "Как видим, топ-3 гипотез различаются в зависимости от применяемого фреймворка для приоритизации. В случае ICE учитываются показатели гипотез - Влияние, Уверенность, Усилия. В случае RICE - предыдущие показатели гипотез плюс Охват. Охват изменений - важный показатель оценки гипотез, поэтому в нашем случае будем использовать RICE.\n",
    "\n",
    "Гипотеза 7 имеет наибольший охват (скорее всего применялась 10-балльная шкала), отсюда и такой высокий приоритет. Следующие гипотезы в топе - 2, пара 0 и 6 - имеют оценку в 2 раза ниже."
   ]
  },
  {
   "cell_type": "code",
   "execution_count": 11,
   "metadata": {},
   "outputs": [
    {
     "data": {
      "image/png": "[encoded data removed]",
      "text/plain": [
       "<Figure size 1000x1000 with 1 Axes>"
      ]
     },
     "metadata": {},
     "output_type": "display_data"
    }
   ],
   "source": [
    "y = hypothesis['ICE'] \n",
    "z = hypothesis['RICE'] \n",
    "n = hypothesis.index \n",
    "\n",
    "fig, ax = plt.subplots()\n",
    "ax.scatter(z, y)\n",
    "\n",
    "for i, txt in enumerate(n):\n",
    "    ax.annotate(txt, (z[i], y[i]), size=30)\n",
    "\n",
    "plt.title(\"ICE and RICE гипотезы\") \n",
    "plt.xlabel(\"RICE\") \n",
    "plt.ylabel(\"ICE\")\n",
    "plt.grid()    \n",
    "\n",
    "fig.set_figheight(10)\n",
    "fig.set_figwidth(10) \n",
    "plt.show()"
   ]
  },
  {
   "cell_type": "markdown",
   "metadata": {},
   "source": [
    "## Анализ A/B-теста"
   ]
  },
  {
   "cell_type": "markdown",
   "metadata": {},
   "source": [
    "Сначала загрузим данные из файла с результатами A/B-теста и проверим их корректность."
   ]
  },
  {
   "cell_type": "code",
   "execution_count": 12,
   "metadata": {},
   "outputs": [],
   "source": [
    "orders = pd.read_csv(path+'orders.csv')\n",
    "visitors = pd.read_csv(path+'visitors.csv')"
   ]
  },
  {
   "cell_type": "code",
   "execution_count": 13,
   "metadata": {},
   "outputs": [
    {
     "name": "stdout",
     "output_type": "stream",
     "text": [
      "<class 'pandas.core.frame.DataFrame'>\n",
      "RangeIndex: 1197 entries, 0 to 1196\n",
      "Data columns (total 5 columns):\n",
      " #   Column         Non-Null Count  Dtype \n",
      "---  ------         --------------  ----- \n",
      " 0   transactionId  1197 non-null   int64 \n",
      " 1   visitorId      1197 non-null   int64 \n",
      " 2   date           1197 non-null   object\n",
      " 3   revenue        1197 non-null   int64 \n",
      " 4   group          1197 non-null   object\n",
      "dtypes: int64(3), object(2)\n",
      "memory usage: 46.9+ KB\n"
     ]
    }
   ],
   "source": [
    "orders.info()"
   ]
  },
  {
   "cell_type": "code",
   "execution_count": 14,
   "metadata": {},
   "outputs": [
    {
     "data": {
      "text/html": [
       "<div>\n",
       "<style scoped>\n",
       "    .dataframe tbody tr th:only-of-type {\n",
       "        vertical-align: middle;\n",
       "    }\n",
       "\n",
       "    .dataframe tbody tr th {\n",
       "        vertical-align: top;\n",
       "    }\n",
       "\n",
       "    .dataframe thead th {\n",
       "        text-align: right;\n",
       "    }\n",
       "</style>\n",
       "<table border=\"1\" class=\"dataframe\">\n",
       "  <thead>\n",
       "    <tr style=\"text-align: right;\">\n",
       "      <th></th>\n",
       "      <th>transactionId</th>\n",
       "      <th>visitorId</th>\n",
       "      <th>date</th>\n",
       "      <th>revenue</th>\n",
       "      <th>group</th>\n",
       "    </tr>\n",
       "  </thead>\n",
       "  <tbody>\n",
       "    <tr>\n",
       "      <th>0</th>\n",
       "      <td>3667963787</td>\n",
       "      <td>3312258926</td>\n",
       "      <td>2019-08-15</td>\n",
       "      <td>1650</td>\n",
       "      <td>B</td>\n",
       "    </tr>\n",
       "    <tr>\n",
       "      <th>1</th>\n",
       "      <td>2804400009</td>\n",
       "      <td>3642806036</td>\n",
       "      <td>2019-08-15</td>\n",
       "      <td>730</td>\n",
       "      <td>B</td>\n",
       "    </tr>\n",
       "    <tr>\n",
       "      <th>2</th>\n",
       "      <td>2961555356</td>\n",
       "      <td>4069496402</td>\n",
       "      <td>2019-08-15</td>\n",
       "      <td>400</td>\n",
       "      <td>A</td>\n",
       "    </tr>\n",
       "    <tr>\n",
       "      <th>3</th>\n",
       "      <td>3797467345</td>\n",
       "      <td>1196621759</td>\n",
       "      <td>2019-08-15</td>\n",
       "      <td>9759</td>\n",
       "      <td>B</td>\n",
       "    </tr>\n",
       "    <tr>\n",
       "      <th>4</th>\n",
       "      <td>2282983706</td>\n",
       "      <td>2322279887</td>\n",
       "      <td>2019-08-15</td>\n",
       "      <td>2308</td>\n",
       "      <td>B</td>\n",
       "    </tr>\n",
       "  </tbody>\n",
       "</table>\n",
       "</div>"
      ],
      "text/plain": [
       "   transactionId   visitorId        date  revenue group\n",
       "0     3667963787  3312258926  2019-08-15     1650     B\n",
       "1     2804400009  3642806036  2019-08-15      730     B\n",
       "2     2961555356  4069496402  2019-08-15      400     A\n",
       "3     3797467345  1196621759  2019-08-15     9759     B\n",
       "4     2282983706  2322279887  2019-08-15     2308     B"
      ]
     },
     "execution_count": 14,
     "metadata": {},
     "output_type": "execute_result"
    }
   ],
   "source": [
    "orders.head()"
   ]
  },
  {
   "cell_type": "code",
   "execution_count": 16,
   "metadata": {},
   "outputs": [],
   "source": [
    "# изменю тип данных дат\n",
    "orders['date'] = orders['date'].astype('datetime64[D]')"
   ]
  },
  {
   "cell_type": "code",
   "execution_count": 17,
   "metadata": {},
   "outputs": [
    {
     "name": "stdout",
     "output_type": "stream",
     "text": [
      "<class 'pandas.core.frame.DataFrame'>\n",
      "RangeIndex: 1197 entries, 0 to 1196\n",
      "Data columns (total 5 columns):\n",
      " #   Column         Non-Null Count  Dtype         \n",
      "---  ------         --------------  -----         \n",
      " 0   transactionId  1197 non-null   int64         \n",
      " 1   visitorId      1197 non-null   int64         \n",
      " 2   date           1197 non-null   datetime64[ns]\n",
      " 3   revenue        1197 non-null   int64         \n",
      " 4   group          1197 non-null   object        \n",
      "dtypes: datetime64[ns](1), int64(3), object(1)\n",
      "memory usage: 46.9+ KB\n"
     ]
    }
   ],
   "source": [
    "orders.info()"
   ]
  },
  {
   "cell_type": "code",
   "execution_count": 18,
   "metadata": {},
   "outputs": [
    {
     "name": "stdout",
     "output_type": "stream",
     "text": [
      "Начальная дата 2019-08-01 00:00:00, конечная дата 2019-08-31 00:00:00\n"
     ]
    }
   ],
   "source": [
    "print('Начальная дата {}, конечная дата {}'.format(orders['date'].min(), orders['date'].max()))"
   ]
  },
  {
   "cell_type": "code",
   "execution_count": 19,
   "metadata": {},
   "outputs": [
    {
     "name": "stdout",
     "output_type": "stream",
     "text": [
      "<class 'pandas.core.frame.DataFrame'>\n",
      "RangeIndex: 62 entries, 0 to 61\n",
      "Data columns (total 3 columns):\n",
      " #   Column    Non-Null Count  Dtype \n",
      "---  ------    --------------  ----- \n",
      " 0   date      62 non-null     object\n",
      " 1   group     62 non-null     object\n",
      " 2   visitors  62 non-null     int64 \n",
      "dtypes: int64(1), object(2)\n",
      "memory usage: 1.6+ KB\n"
     ]
    }
   ],
   "source": [
    "visitors.info()"
   ]
  },
  {
   "cell_type": "code",
   "execution_count": 20,
   "metadata": {},
   "outputs": [
    {
     "data": {
      "text/html": [
       "<div>\n",
       "<style scoped>\n",
       "    .dataframe tbody tr th:only-of-type {\n",
       "        vertical-align: middle;\n",
       "    }\n",
       "\n",
       "    .dataframe tbody tr th {\n",
       "        vertical-align: top;\n",
       "    }\n",
       "\n",
       "    .dataframe thead th {\n",
       "        text-align: right;\n",
       "    }\n",
       "</style>\n",
       "<table border=\"1\" class=\"dataframe\">\n",
       "  <thead>\n",
       "    <tr style=\"text-align: right;\">\n",
       "      <th></th>\n",
       "      <th>date</th>\n",
       "      <th>group</th>\n",
       "      <th>visitors</th>\n",
       "    </tr>\n",
       "  </thead>\n",
       "  <tbody>\n",
       "    <tr>\n",
       "      <th>0</th>\n",
       "      <td>2019-08-01</td>\n",
       "      <td>A</td>\n",
       "      <td>719</td>\n",
       "    </tr>\n",
       "    <tr>\n",
       "      <th>1</th>\n",
       "      <td>2019-08-02</td>\n",
       "      <td>A</td>\n",
       "      <td>619</td>\n",
       "    </tr>\n",
       "    <tr>\n",
       "      <th>2</th>\n",
       "      <td>2019-08-03</td>\n",
       "      <td>A</td>\n",
       "      <td>507</td>\n",
       "    </tr>\n",
       "    <tr>\n",
       "      <th>3</th>\n",
       "      <td>2019-08-04</td>\n",
       "      <td>A</td>\n",
       "      <td>717</td>\n",
       "    </tr>\n",
       "    <tr>\n",
       "      <th>4</th>\n",
       "      <td>2019-08-05</td>\n",
       "      <td>A</td>\n",
       "      <td>756</td>\n",
       "    </tr>\n",
       "  </tbody>\n",
       "</table>\n",
       "</div>"
      ],
      "text/plain": [
       "         date group  visitors\n",
       "0  2019-08-01     A       719\n",
       "1  2019-08-02     A       619\n",
       "2  2019-08-03     A       507\n",
       "3  2019-08-04     A       717\n",
       "4  2019-08-05     A       756"
      ]
     },
     "execution_count": 20,
     "metadata": {},
     "output_type": "execute_result"
    }
   ],
   "source": [
    "visitors.head()"
   ]
  },
  {
   "cell_type": "code",
   "execution_count": 22,
   "metadata": {},
   "outputs": [],
   "source": [
    "# изменю тип данных дат\n",
    "visitors['date'] = visitors['date'].astype('datetime64[D]')"
   ]
  },
  {
   "cell_type": "code",
   "execution_count": 23,
   "metadata": {},
   "outputs": [
    {
     "name": "stdout",
     "output_type": "stream",
     "text": [
      "<class 'pandas.core.frame.DataFrame'>\n",
      "RangeIndex: 62 entries, 0 to 61\n",
      "Data columns (total 3 columns):\n",
      " #   Column    Non-Null Count  Dtype         \n",
      "---  ------    --------------  -----         \n",
      " 0   date      62 non-null     datetime64[ns]\n",
      " 1   group     62 non-null     object        \n",
      " 2   visitors  62 non-null     int64         \n",
      "dtypes: datetime64[ns](1), int64(1), object(1)\n",
      "memory usage: 1.6+ KB\n"
     ]
    }
   ],
   "source": [
    "visitors.info()"
   ]
  },
  {
   "cell_type": "code",
   "execution_count": 24,
   "metadata": {},
   "outputs": [
    {
     "name": "stdout",
     "output_type": "stream",
     "text": [
      "Начальная дата 2019-08-01 00:00:00, конечная дата 2019-08-31 00:00:00\n"
     ]
    }
   ],
   "source": [
    "print('Начальная дата {}, конечная дата {}'.format(visitors['date'].min(), visitors['date'].max()))"
   ]
  },
  {
   "cell_type": "markdown",
   "metadata": {},
   "source": [
    "Данные выгрузила. Изменила типы данных в столбцах с датами, первая и последняя даты совпадают. ДАлее проверю корректиность распределения на А/В группы."
   ]
  },
  {
   "cell_type": "code",
   "execution_count": 25,
   "metadata": {},
   "outputs": [
    {
     "name": "stdout",
     "output_type": "stream",
     "text": [
      "Кол-во посетителей гр.А 18736, \n",
      "Кол-во посетителей гр.В 18916, \n",
      "Кол-во покупок гр.А 557, \n",
      "Кол-во покупок гр.В 640.\n",
      "\n",
      "Суммарное кол-во посетителей гр.А и В 37652, \n",
      "Суммарное кол-во покупок гр.А и В 1197.\n",
      "\n",
      "Начальная конверсия (гр.А): 0.030, \n",
      "Конечная конверсия (гр.В): 0.034.\n"
     ]
    }
   ],
   "source": [
    "# кол-во посетителей и покупок в группах А и В\n",
    "visitors_A = visitors[visitors['group']=='A']['visitors'].sum()\n",
    "visitors_B = visitors[visitors['group']=='B']['visitors'].sum()\n",
    "purchases_A = len(orders[orders['group']=='A'])\n",
    "purchases_B = len(orders[orders['group']=='B'])\n",
    "\n",
    "print('Кол-во посетителей гр.А {}, \\nКол-во посетителей гр.В {}, \\nКол-во покупок гр.А {}, \\nКол-во покупок гр.В {}.\\n'.\n",
    "     format(visitors_A, visitors_B, purchases_A, purchases_B))\n",
    "\n",
    "print('Суммарное кол-во посетителей гр.А и В {}, \\nСуммарное кол-во покупок гр.А и В {}.\\n'.\n",
    "     format(visitors_A + visitors_B, purchases_A + purchases_B))\n",
    "\n",
    "# начальная и конечная конверсии\n",
    "print('Начальная конверсия (гр.А): {:.3f}, \\nКонечная конверсия (гр.В): {:.3f}.'\n",
    "      .format(purchases_A/visitors_A, purchases_B/visitors_B))"
   ]
  },
  {
   "cell_type": "code",
   "execution_count": 26,
   "metadata": {},
   "outputs": [
    {
     "name": "stdout",
     "output_type": "stream",
     "text": [
      "ИЗменение конверсии: 0.121\n"
     ]
    }
   ],
   "source": [
    "# конверсия выросла, посмотрим насколько\n",
    "print('ИЗменение конверсии: {:.3f}'.format(abs(1-((purchases_A/visitors_A)/(purchases_B/visitors_B)))))"
   ]
  },
  {
   "cell_type": "markdown",
   "metadata": {},
   "source": [
    "Ссылка на расчет выборки:\n",
    "https://www.evanmiller.org/ab-testing/sample-size.html#!3;80;5;12.1;1\n",
    "\n",
    "Получила, что для набора: начальная конверсия в 3%, изменение конверсии в 12.1%, мощности 80% и уровня стат. значимости 5% - необходимый размер выборки 35269. При этом наша выборка на 37652. Значит, количество для А/В теста подобрано корректно. ДАлее проверить есть ли стат. значимая разница между группами А и В:"
   ]
  },
  {
   "attachments": {
    "2023-06-02_15-31-03.png": {
     "image/png": "[encoded data removed]"
    }
   },
   "cell_type": "markdown",
   "metadata": {},
   "source": [
    "![2023-06-02_15-31-03.png](attachment:2023-06-02_15-31-03.png)"
   ]
  },
  {
   "cell_type": "code",
   "execution_count": 27,
   "metadata": {},
   "outputs": [
    {
     "name": "stdout",
     "output_type": "stream",
     "text": [
      "p-value:  0.7301376549390499\n",
      "Не получилось отвергнуть нулевую гипотезу: разница в кол-ве посетителей групп А и B статистически НЕ значима\n"
     ]
    }
   ],
   "source": [
    "# H0: разница в кол-ве посетителей групп А и В статистически не значима\n",
    "# Н1: разница в кол-ве посетителей групп А и В статистически значима\n",
    "\n",
    "# проведем непараметрический тест Уилкоксона-Манна-Уитни\n",
    "results = stats.mannwhitneyu(visitors[visitors['group']=='A']['visitors'], visitors[visitors['group']=='B']['visitors'])\n",
    "\n",
    "alpha = 0.05 # уровень стат. значимости\n",
    "\n",
    "print('p-value: ', results.pvalue)\n",
    "\n",
    "if results.pvalue < alpha:\n",
    "    print('Отвергаем нулевую гипотезу: разница в кол-ве посетителей групп A и B статистически значима')\n",
    "else:\n",
    "    print('Не получилось отвергнуть нулевую гипотезу: разница в кол-ве посетителей групп А и B статистически НЕ значима')"
   ]
  },
  {
   "cell_type": "markdown",
   "metadata": {},
   "source": [
    "Получила, что выборка для А/В теста подобрана корректно (кол-во больше необходимого, статистически значимой разницы между групп А и В нет). Значит, можем аннализировать результаты А/В-теста."
   ]
  },
  {
   "cell_type": "code",
   "execution_count": 28,
   "metadata": {},
   "outputs": [
    {
     "data": {
      "text/plain": [
       "visitorId\n",
       "2654030115    2\n",
       "3891541246    2\n",
       "3941795274    2\n",
       "1404934699    2\n",
       "351125977     2\n",
       "             ..\n",
       "1476256851    1\n",
       "1476741193    1\n",
       "1484903144    1\n",
       "1485964287    1\n",
       "4283872382    1\n",
       "Name: group, Length: 1031, dtype: int64"
      ]
     },
     "execution_count": 28,
     "metadata": {},
     "output_type": "execute_result"
    }
   ],
   "source": [
    "a = orders.groupby('visitorId')['group'].nunique().sort_values(ascending=False)\n",
    "a"
   ]
  },
  {
   "cell_type": "code",
   "execution_count": 29,
   "metadata": {},
   "outputs": [
    {
     "data": {
      "text/plain": [
       "[2,\n",
       " 2,\n",
       " 2,\n",
       " 2,\n",
       " 2,\n",
       " 2,\n",
       " 2,\n",
       " 2,\n",
       " 2,\n",
       " 2,\n",
       " 2,\n",
       " 2,\n",
       " 2,\n",
       " 2,\n",
       " 2,\n",
       " 2,\n",
       " 2,\n",
       " 2,\n",
       " 2,\n",
       " 2,\n",
       " 2,\n",
       " 2,\n",
       " 2,\n",
       " 2,\n",
       " 2,\n",
       " 2,\n",
       " 2,\n",
       " 2,\n",
       " 2,\n",
       " 2,\n",
       " 2,\n",
       " 2,\n",
       " 2,\n",
       " 2,\n",
       " 2,\n",
       " 2,\n",
       " 2,\n",
       " 2,\n",
       " 2,\n",
       " 2,\n",
       " 2,\n",
       " 2,\n",
       " 2,\n",
       " 2,\n",
       " 2,\n",
       " 2,\n",
       " 2,\n",
       " 2,\n",
       " 2,\n",
       " 2,\n",
       " 2,\n",
       " 2,\n",
       " 2,\n",
       " 2,\n",
       " 2,\n",
       " 2,\n",
       " 2,\n",
       " 2,\n",
       " 1,\n",
       " 1,\n",
       " 1,\n",
       " 1,\n",
       " 1,\n",
       " 1,\n",
       " 1,\n",
       " 1,\n",
       " 1,\n",
       " 1,\n",
       " 1,\n",
       " 1,\n",
       " 1,\n",
       " 1,\n",
       " 1,\n",
       " 1,\n",
       " 1,\n",
       " 1,\n",
       " 1,\n",
       " 1,\n",
       " 1,\n",
       " 1,\n",
       " 1,\n",
       " 1,\n",
       " 1,\n",
       " 1,\n",
       " 1,\n",
       " 1,\n",
       " 1,\n",
       " 1,\n",
       " 1,\n",
       " 1,\n",
       " 1,\n",
       " 1,\n",
       " 1,\n",
       " 1,\n",
       " 1,\n",
       " 1,\n",
       " 1,\n",
       " 1,\n",
       " 1,\n",
       " 1,\n",
       " 1,\n",
       " 1,\n",
       " 1,\n",
       " 1,\n",
       " 1,\n",
       " 1,\n",
       " 1,\n",
       " 1,\n",
       " 1,\n",
       " 1,\n",
       " 1,\n",
       " 1,\n",
       " 1,\n",
       " 1,\n",
       " 1,\n",
       " 1,\n",
       " 1,\n",
       " 1,\n",
       " 1,\n",
       " 1,\n",
       " 1,\n",
       " 1,\n",
       " 1,\n",
       " 1,\n",
       " 1,\n",
       " 1,\n",
       " 1,\n",
       " 1,\n",
       " 1,\n",
       " 1,\n",
       " 1,\n",
       " 1,\n",
       " 1,\n",
       " 1,\n",
       " 1,\n",
       " 1,\n",
       " 1,\n",
       " 1,\n",
       " 1,\n",
       " 1,\n",
       " 1,\n",
       " 1,\n",
       " 1,\n",
       " 1,\n",
       " 1,\n",
       " 1,\n",
       " 1,\n",
       " 1,\n",
       " 1,\n",
       " 1,\n",
       " 1,\n",
       " 1,\n",
       " 1,\n",
       " 1,\n",
       " 1,\n",
       " 1,\n",
       " 1,\n",
       " 1,\n",
       " 1,\n",
       " 1,\n",
       " 1,\n",
       " 1,\n",
       " 1,\n",
       " 1,\n",
       " 1,\n",
       " 1,\n",
       " 1,\n",
       " 1,\n",
       " 1,\n",
       " 1,\n",
       " 1,\n",
       " 1,\n",
       " 1,\n",
       " 1,\n",
       " 1,\n",
       " 1,\n",
       " 1,\n",
       " 1,\n",
       " 1,\n",
       " 1,\n",
       " 1,\n",
       " 1,\n",
       " 1,\n",
       " 1,\n",
       " 1,\n",
       " 1,\n",
       " 1,\n",
       " 1,\n",
       " 1,\n",
       " 1,\n",
       " 1,\n",
       " 1,\n",
       " 1,\n",
       " 1,\n",
       " 1,\n",
       " 1,\n",
       " 1,\n",
       " 1,\n",
       " 1,\n",
       " 1,\n",
       " 1,\n",
       " 1,\n",
       " 1,\n",
       " 1,\n",
       " 1,\n",
       " 1,\n",
       " 1,\n",
       " 1,\n",
       " 1,\n",
       " 1,\n",
       " 1,\n",
       " 1,\n",
       " 1,\n",
       " 1,\n",
       " 1,\n",
       " 1,\n",
       " 1,\n",
       " 1,\n",
       " 1,\n",
       " 1,\n",
       " 1,\n",
       " 1,\n",
       " 1,\n",
       " 1,\n",
       " 1,\n",
       " 1,\n",
       " 1,\n",
       " 1,\n",
       " 1,\n",
       " 1,\n",
       " 1,\n",
       " 1,\n",
       " 1,\n",
       " 1,\n",
       " 1,\n",
       " 1,\n",
       " 1,\n",
       " 1,\n",
       " 1,\n",
       " 1,\n",
       " 1,\n",
       " 1,\n",
       " 1,\n",
       " 1,\n",
       " 1,\n",
       " 1,\n",
       " 1,\n",
       " 1,\n",
       " 1,\n",
       " 1,\n",
       " 1,\n",
       " 1,\n",
       " 1,\n",
       " 1,\n",
       " 1,\n",
       " 1,\n",
       " 1,\n",
       " 1,\n",
       " 1,\n",
       " 1,\n",
       " 1,\n",
       " 1,\n",
       " 1,\n",
       " 1,\n",
       " 1,\n",
       " 1,\n",
       " 1,\n",
       " 1,\n",
       " 1,\n",
       " 1,\n",
       " 1,\n",
       " 1,\n",
       " 1,\n",
       " 1,\n",
       " 1,\n",
       " 1,\n",
       " 1,\n",
       " 1,\n",
       " 1,\n",
       " 1,\n",
       " 1,\n",
       " 1,\n",
       " 1,\n",
       " 1,\n",
       " 1,\n",
       " 1,\n",
       " 1,\n",
       " 1,\n",
       " 1,\n",
       " 1,\n",
       " 1,\n",
       " 1,\n",
       " 1,\n",
       " 1,\n",
       " 1,\n",
       " 1,\n",
       " 1,\n",
       " 1,\n",
       " 1,\n",
       " 1,\n",
       " 1,\n",
       " 1,\n",
       " 1,\n",
       " 1,\n",
       " 1,\n",
       " 1,\n",
       " 1,\n",
       " 1,\n",
       " 1,\n",
       " 1,\n",
       " 1,\n",
       " 1,\n",
       " 1,\n",
       " 1,\n",
       " 1,\n",
       " 1,\n",
       " 1,\n",
       " 1,\n",
       " 1,\n",
       " 1,\n",
       " 1,\n",
       " 1,\n",
       " 1,\n",
       " 1,\n",
       " 1,\n",
       " 1,\n",
       " 1,\n",
       " 1,\n",
       " 1,\n",
       " 1,\n",
       " 1,\n",
       " 1,\n",
       " 1,\n",
       " 1,\n",
       " 1,\n",
       " 1,\n",
       " 1,\n",
       " 1,\n",
       " 1,\n",
       " 1,\n",
       " 1,\n",
       " 1,\n",
       " 1,\n",
       " 1,\n",
       " 1,\n",
       " 1,\n",
       " 1,\n",
       " 1,\n",
       " 1,\n",
       " 1,\n",
       " 1,\n",
       " 1,\n",
       " 1,\n",
       " 1,\n",
       " 1,\n",
       " 1,\n",
       " 1,\n",
       " 1,\n",
       " 1,\n",
       " 1,\n",
       " 1,\n",
       " 1,\n",
       " 1,\n",
       " 1,\n",
       " 1,\n",
       " 1,\n",
       " 1,\n",
       " 1,\n",
       " 1,\n",
       " 1,\n",
       " 1,\n",
       " 1,\n",
       " 1,\n",
       " 1,\n",
       " 1,\n",
       " 1,\n",
       " 1,\n",
       " 1,\n",
       " 1,\n",
       " 1,\n",
       " 1,\n",
       " 1,\n",
       " 1,\n",
       " 1,\n",
       " 1,\n",
       " 1,\n",
       " 1,\n",
       " 1,\n",
       " 1,\n",
       " 1,\n",
       " 1,\n",
       " 1,\n",
       " 1,\n",
       " 1,\n",
       " 1,\n",
       " 1,\n",
       " 1,\n",
       " 1,\n",
       " 1,\n",
       " 1,\n",
       " 1,\n",
       " 1,\n",
       " 1,\n",
       " 1,\n",
       " 1,\n",
       " 1,\n",
       " 1,\n",
       " 1,\n",
       " 1,\n",
       " 1,\n",
       " 1,\n",
       " 1,\n",
       " 1,\n",
       " 1,\n",
       " 1,\n",
       " 1,\n",
       " 1,\n",
       " 1,\n",
       " 1,\n",
       " 1,\n",
       " 1,\n",
       " 1,\n",
       " 1,\n",
       " 1,\n",
       " 1,\n",
       " 1,\n",
       " 1,\n",
       " 1,\n",
       " 1,\n",
       " 1,\n",
       " 1,\n",
       " 1,\n",
       " 1,\n",
       " 1,\n",
       " 1,\n",
       " 1,\n",
       " 1,\n",
       " 1,\n",
       " 1,\n",
       " 1,\n",
       " 1,\n",
       " 1,\n",
       " 1,\n",
       " 1,\n",
       " 1,\n",
       " 1,\n",
       " 1,\n",
       " 1,\n",
       " 1,\n",
       " 1,\n",
       " 1,\n",
       " 1,\n",
       " 1,\n",
       " 1,\n",
       " 1,\n",
       " 1,\n",
       " 1,\n",
       " 1,\n",
       " 1,\n",
       " 1,\n",
       " 1,\n",
       " 1,\n",
       " 1,\n",
       " 1,\n",
       " 1,\n",
       " 1,\n",
       " 1,\n",
       " 1,\n",
       " 1,\n",
       " 1,\n",
       " 1,\n",
       " 1,\n",
       " 1,\n",
       " 1,\n",
       " 1,\n",
       " 1,\n",
       " 1,\n",
       " 1,\n",
       " 1,\n",
       " 1,\n",
       " 1,\n",
       " 1,\n",
       " 1,\n",
       " 1,\n",
       " 1,\n",
       " 1,\n",
       " 1,\n",
       " 1,\n",
       " 1,\n",
       " 1,\n",
       " 1,\n",
       " 1,\n",
       " 1,\n",
       " 1,\n",
       " 1,\n",
       " 1,\n",
       " 1,\n",
       " 1,\n",
       " 1,\n",
       " 1,\n",
       " 1,\n",
       " 1,\n",
       " 1,\n",
       " 1,\n",
       " 1,\n",
       " 1,\n",
       " 1,\n",
       " 1,\n",
       " 1,\n",
       " 1,\n",
       " 1,\n",
       " 1,\n",
       " 1,\n",
       " 1,\n",
       " 1,\n",
       " 1,\n",
       " 1,\n",
       " 1,\n",
       " 1,\n",
       " 1,\n",
       " 1,\n",
       " 1,\n",
       " 1,\n",
       " 1,\n",
       " 1,\n",
       " 1,\n",
       " 1,\n",
       " 1,\n",
       " 1,\n",
       " 1,\n",
       " 1,\n",
       " 1,\n",
       " 1,\n",
       " 1,\n",
       " 1,\n",
       " 1,\n",
       " 1,\n",
       " 1,\n",
       " 1,\n",
       " 1,\n",
       " 1,\n",
       " 1,\n",
       " 1,\n",
       " 1,\n",
       " 1,\n",
       " 1,\n",
       " 1,\n",
       " 1,\n",
       " 1,\n",
       " 1,\n",
       " 1,\n",
       " 1,\n",
       " 1,\n",
       " 1,\n",
       " 1,\n",
       " 1,\n",
       " 1,\n",
       " 1,\n",
       " 1,\n",
       " 1,\n",
       " 1,\n",
       " 1,\n",
       " 1,\n",
       " 1,\n",
       " 1,\n",
       " 1,\n",
       " 1,\n",
       " 1,\n",
       " 1,\n",
       " 1,\n",
       " 1,\n",
       " 1,\n",
       " 1,\n",
       " 1,\n",
       " 1,\n",
       " 1,\n",
       " 1,\n",
       " 1,\n",
       " 1,\n",
       " 1,\n",
       " 1,\n",
       " 1,\n",
       " 1,\n",
       " 1,\n",
       " 1,\n",
       " 1,\n",
       " 1,\n",
       " 1,\n",
       " 1,\n",
       " 1,\n",
       " 1,\n",
       " 1,\n",
       " 1,\n",
       " 1,\n",
       " 1,\n",
       " 1,\n",
       " 1,\n",
       " 1,\n",
       " 1,\n",
       " 1,\n",
       " 1,\n",
       " 1,\n",
       " 1,\n",
       " 1,\n",
       " 1,\n",
       " 1,\n",
       " 1,\n",
       " 1,\n",
       " 1,\n",
       " 1,\n",
       " 1,\n",
       " 1,\n",
       " 1,\n",
       " 1,\n",
       " 1,\n",
       " 1,\n",
       " 1,\n",
       " 1,\n",
       " 1,\n",
       " 1,\n",
       " 1,\n",
       " 1,\n",
       " 1,\n",
       " 1,\n",
       " 1,\n",
       " 1,\n",
       " 1,\n",
       " 1,\n",
       " 1,\n",
       " 1,\n",
       " 1,\n",
       " 1,\n",
       " 1,\n",
       " 1,\n",
       " 1,\n",
       " 1,\n",
       " 1,\n",
       " 1,\n",
       " 1,\n",
       " 1,\n",
       " 1,\n",
       " 1,\n",
       " 1,\n",
       " 1,\n",
       " 1,\n",
       " 1,\n",
       " 1,\n",
       " 1,\n",
       " 1,\n",
       " 1,\n",
       " 1,\n",
       " 1,\n",
       " 1,\n",
       " 1,\n",
       " 1,\n",
       " 1,\n",
       " 1,\n",
       " 1,\n",
       " 1,\n",
       " 1,\n",
       " 1,\n",
       " 1,\n",
       " 1,\n",
       " 1,\n",
       " 1,\n",
       " 1,\n",
       " 1,\n",
       " 1,\n",
       " 1,\n",
       " 1,\n",
       " 1,\n",
       " 1,\n",
       " 1,\n",
       " 1,\n",
       " 1,\n",
       " 1,\n",
       " 1,\n",
       " 1,\n",
       " 1,\n",
       " 1,\n",
       " 1,\n",
       " 1,\n",
       " 1,\n",
       " 1,\n",
       " 1,\n",
       " 1,\n",
       " 1,\n",
       " 1,\n",
       " 1,\n",
       " 1,\n",
       " 1,\n",
       " 1,\n",
       " 1,\n",
       " 1,\n",
       " 1,\n",
       " 1,\n",
       " 1,\n",
       " 1,\n",
       " 1,\n",
       " 1,\n",
       " 1,\n",
       " 1,\n",
       " 1,\n",
       " 1,\n",
       " 1,\n",
       " 1,\n",
       " 1,\n",
       " 1,\n",
       " 1,\n",
       " 1,\n",
       " 1,\n",
       " 1,\n",
       " 1,\n",
       " 1,\n",
       " 1,\n",
       " 1,\n",
       " 1,\n",
       " 1,\n",
       " 1,\n",
       " 1,\n",
       " 1,\n",
       " 1,\n",
       " 1,\n",
       " 1,\n",
       " 1,\n",
       " 1,\n",
       " 1,\n",
       " 1,\n",
       " 1,\n",
       " 1,\n",
       " 1,\n",
       " 1,\n",
       " 1,\n",
       " 1,\n",
       " 1,\n",
       " 1,\n",
       " 1,\n",
       " 1,\n",
       " 1,\n",
       " 1,\n",
       " 1,\n",
       " 1,\n",
       " 1,\n",
       " 1,\n",
       " 1,\n",
       " 1,\n",
       " 1,\n",
       " 1,\n",
       " 1,\n",
       " 1,\n",
       " 1,\n",
       " 1,\n",
       " 1,\n",
       " 1,\n",
       " 1,\n",
       " 1,\n",
       " 1,\n",
       " 1,\n",
       " 1,\n",
       " 1,\n",
       " 1,\n",
       " 1,\n",
       " 1,\n",
       " 1,\n",
       " 1,\n",
       " 1,\n",
       " 1,\n",
       " 1,\n",
       " 1,\n",
       " 1,\n",
       " 1,\n",
       " 1,\n",
       " 1,\n",
       " 1,\n",
       " 1,\n",
       " 1,\n",
       " 1,\n",
       " 1,\n",
       " 1,\n",
       " 1,\n",
       " 1,\n",
       " 1,\n",
       " 1,\n",
       " 1,\n",
       " 1,\n",
       " 1,\n",
       " 1,\n",
       " 1,\n",
       " 1,\n",
       " 1,\n",
       " 1,\n",
       " 1,\n",
       " 1,\n",
       " 1,\n",
       " 1,\n",
       " 1,\n",
       " 1,\n",
       " 1,\n",
       " 1,\n",
       " 1,\n",
       " 1,\n",
       " 1,\n",
       " 1,\n",
       " 1,\n",
       " 1,\n",
       " 1,\n",
       " 1,\n",
       " 1,\n",
       " 1,\n",
       " 1,\n",
       " 1,\n",
       " 1,\n",
       " 1,\n",
       " 1,\n",
       " 1,\n",
       " 1,\n",
       " 1,\n",
       " 1,\n",
       " 1,\n",
       " 1,\n",
       " 1,\n",
       " 1,\n",
       " 1,\n",
       " 1,\n",
       " 1,\n",
       " 1,\n",
       " 1,\n",
       " 1,\n",
       " 1,\n",
       " 1,\n",
       " 1,\n",
       " 1,\n",
       " 1,\n",
       " 1,\n",
       " 1,\n",
       " 1,\n",
       " 1,\n",
       " 1,\n",
       " 1,\n",
       " 1,\n",
       " 1,\n",
       " 1,\n",
       " 1,\n",
       " 1,\n",
       " 1,\n",
       " 1,\n",
       " 1,\n",
       " 1,\n",
       " 1,\n",
       " 1,\n",
       " 1,\n",
       " 1,\n",
       " 1,\n",
       " 1,\n",
       " 1,\n",
       " 1,\n",
       " 1,\n",
       " 1,\n",
       " 1,\n",
       " 1,\n",
       " 1,\n",
       " 1,\n",
       " 1,\n",
       " 1,\n",
       " 1,\n",
       " 1,\n",
       " 1,\n",
       " 1,\n",
       " 1,\n",
       " 1,\n",
       " 1,\n",
       " 1,\n",
       " 1,\n",
       " 1,\n",
       " 1,\n",
       " 1,\n",
       " 1,\n",
       " 1,\n",
       " 1,\n",
       " 1,\n",
       " 1,\n",
       " 1,\n",
       " 1,\n",
       " 1,\n",
       " 1,\n",
       " 1,\n",
       " 1,\n",
       " 1,\n",
       " 1,\n",
       " 1,\n",
       " 1,\n",
       " 1,\n",
       " 1,\n",
       " 1,\n",
       " 1,\n",
       " 1,\n",
       " 1,\n",
       " 1,\n",
       " 1,\n",
       " 1,\n",
       " 1,\n",
       " 1,\n",
       " 1,\n",
       " 1,\n",
       " 1,\n",
       " 1,\n",
       " 1,\n",
       " 1,\n",
       " 1,\n",
       " 1,\n",
       " 1,\n",
       " 1,\n",
       " 1,\n",
       " 1,\n",
       " 1,\n",
       " 1,\n",
       " 1,\n",
       " 1,\n",
       " 1,\n",
       " 1,\n",
       " 1,\n",
       " 1,\n",
       " 1,\n",
       " 1,\n",
       " 1,\n",
       " 1,\n",
       " 1,\n",
       " 1,\n",
       " 1,\n",
       " 1,\n",
       " 1,\n",
       " 1,\n",
       " 1,\n",
       " 1,\n",
       " 1,\n",
       " 1,\n",
       " 1,\n",
       " 1,\n",
       " 1,\n",
       " 1,\n",
       " 1,\n",
       " 1,\n",
       " 1,\n",
       " 1,\n",
       " 1,\n",
       " 1,\n",
       " 1,\n",
       " 1,\n",
       " 1,\n",
       " 1,\n",
       " 1,\n",
       " 1,\n",
       " 1,\n",
       " 1,\n",
       " 1,\n",
       " 1,\n",
       " 1,\n",
       " 1,\n",
       " 1,\n",
       " 1,\n",
       " 1,\n",
       " 1,\n",
       " 1,\n",
       " 1,\n",
       " 1,\n",
       " 1,\n",
       " 1,\n",
       " 1,\n",
       " 1,\n",
       " 1,\n",
       " 1,\n",
       " 1,\n",
       " 1,\n",
       " 1,\n",
       " 1,\n",
       " 1,\n",
       " 1,\n",
       " 1,\n",
       " 1,\n",
       " 1,\n",
       " 1,\n",
       " 1,\n",
       " 1,\n",
       " 1,\n",
       " 1,\n",
       " 1,\n",
       " 1,\n",
       " 1,\n",
       " 1,\n",
       " 1,\n",
       " 1,\n",
       " 1,\n",
       " 1,\n",
       " 1,\n",
       " 1,\n",
       " 1,\n",
       " 1,\n",
       " 1,\n",
       " 1,\n",
       " 1,\n",
       " ...]"
      ]
     },
     "execution_count": 29,
     "metadata": {},
     "output_type": "execute_result"
    }
   ],
   "source": [
    "list(a)"
   ]
  },
  {
   "cell_type": "code",
   "execution_count": 30,
   "metadata": {},
   "outputs": [
    {
     "data": {
      "text/plain": [
       "0"
      ]
     },
     "execution_count": 30,
     "metadata": {},
     "output_type": "execute_result"
    }
   ],
   "source": [
    "orders.duplicated().sum()"
   ]
  },
  {
   "cell_type": "code",
   "execution_count": 31,
   "metadata": {},
   "outputs": [
    {
     "data": {
      "text/plain": [
       "0"
      ]
     },
     "execution_count": 31,
     "metadata": {},
     "output_type": "execute_result"
    }
   ],
   "source": [
    "visitors.duplicated().sum()"
   ]
  },
  {
   "cell_type": "markdown",
   "metadata": {},
   "source": [
    "### Кумулятивные метрики"
   ]
  },
  {
   "cell_type": "code",
   "execution_count": 32,
   "metadata": {},
   "outputs": [
    {
     "data": {
      "text/html": [
       "<div>\n",
       "<style scoped>\n",
       "    .dataframe tbody tr th:only-of-type {\n",
       "        vertical-align: middle;\n",
       "    }\n",
       "\n",
       "    .dataframe tbody tr th {\n",
       "        vertical-align: top;\n",
       "    }\n",
       "\n",
       "    .dataframe thead th {\n",
       "        text-align: right;\n",
       "    }\n",
       "</style>\n",
       "<table border=\"1\" class=\"dataframe\">\n",
       "  <thead>\n",
       "    <tr style=\"text-align: right;\">\n",
       "      <th></th>\n",
       "      <th>date</th>\n",
       "      <th>group</th>\n",
       "      <th>orders</th>\n",
       "      <th>buyers</th>\n",
       "      <th>revenue</th>\n",
       "      <th>visitors</th>\n",
       "    </tr>\n",
       "  </thead>\n",
       "  <tbody>\n",
       "    <tr>\n",
       "      <th>0</th>\n",
       "      <td>2019-08-01</td>\n",
       "      <td>A</td>\n",
       "      <td>24</td>\n",
       "      <td>20</td>\n",
       "      <td>148579</td>\n",
       "      <td>719</td>\n",
       "    </tr>\n",
       "    <tr>\n",
       "      <th>1</th>\n",
       "      <td>2019-08-01</td>\n",
       "      <td>B</td>\n",
       "      <td>21</td>\n",
       "      <td>20</td>\n",
       "      <td>101217</td>\n",
       "      <td>713</td>\n",
       "    </tr>\n",
       "    <tr>\n",
       "      <th>2</th>\n",
       "      <td>2019-08-02</td>\n",
       "      <td>A</td>\n",
       "      <td>44</td>\n",
       "      <td>38</td>\n",
       "      <td>242401</td>\n",
       "      <td>1338</td>\n",
       "    </tr>\n",
       "    <tr>\n",
       "      <th>3</th>\n",
       "      <td>2019-08-02</td>\n",
       "      <td>B</td>\n",
       "      <td>45</td>\n",
       "      <td>43</td>\n",
       "      <td>266748</td>\n",
       "      <td>1294</td>\n",
       "    </tr>\n",
       "    <tr>\n",
       "      <th>4</th>\n",
       "      <td>2019-08-03</td>\n",
       "      <td>A</td>\n",
       "      <td>68</td>\n",
       "      <td>62</td>\n",
       "      <td>354874</td>\n",
       "      <td>1845</td>\n",
       "    </tr>\n",
       "  </tbody>\n",
       "</table>\n",
       "</div>"
      ],
      "text/plain": [
       "        date group  orders  buyers  revenue  visitors\n",
       "0 2019-08-01     A      24      20   148579       719\n",
       "1 2019-08-01     B      21      20   101217       713\n",
       "2 2019-08-02     A      44      38   242401      1338\n",
       "3 2019-08-02     B      45      43   266748      1294\n",
       "4 2019-08-03     A      68      62   354874      1845"
      ]
     },
     "execution_count": 32,
     "metadata": {},
     "output_type": "execute_result"
    }
   ],
   "source": [
    "# уникальные сочетания дат и групп\n",
    "datesGroups = orders[['date','group']].drop_duplicates().sort_values(by=['date', 'group'])\n",
    "\n",
    "# получаем агрегированные кумулятивные по дням данные о заказах\n",
    "ordersAggregated = (\n",
    "    datesGroups.apply(lambda x: orders[np.logical_and(orders['date'] <= x['date'], orders['group'] == x['group'])]\n",
    "                      .agg({'date' : 'max', \n",
    "                            'group' : 'max',\n",
    "                            'transactionId': pd.Series.nunique, \n",
    "                            'visitorId' : pd.Series.nunique, \n",
    "                            'revenue' : 'sum'}),\n",
    "                      axis=1)\n",
    "    .sort_values(by=['date','group'])\n",
    ")\n",
    "\n",
    "# получаем агрегированные кумулятивные по дням данные о посетителях интернет-магазина\n",
    "visitorsAggregated = (\n",
    "    datesGroups.apply(lambda x: visitors[np.logical_and(visitors['date'] <= x['date'], visitors['group'] == x['group'])]\n",
    "                      .agg({'date' : 'max', \n",
    "                            'group' : 'max', \n",
    "                            'visitors' : 'sum'}), \n",
    "                      axis=1)\n",
    "    .sort_values(by=['date','group'])\n",
    ")\n",
    "\n",
    "# объединяем кумулятивные данные в одной таблице и присваиваем ее столбцам понятные названия\n",
    "cummulativeData = ordersAggregated.merge(visitorsAggregated, left_on=['date', 'group'], right_on=['date', 'group'])\n",
    "cummulativeData.columns = ['date', 'group', 'orders', 'buyers', 'revenue', 'visitors']\n",
    "cummulativeData.head()"
   ]
  },
  {
   "cell_type": "markdown",
   "metadata": {},
   "source": [
    "#### Кумулятивная выручка по группам"
   ]
  },
  {
   "cell_type": "code",
   "execution_count": 33,
   "metadata": {},
   "outputs": [
    {
     "data": {
      "image/png": "[encoded data removed]",
      "text/plain": [
       "<Figure size 1200x400 with 1 Axes>"
      ]
     },
     "metadata": {},
     "output_type": "display_data"
    }
   ],
   "source": [
    "# датафрейм с кумулятивным количеством заказов и кумулятивной выручкой по дням в группе А\n",
    "cummulativeRevenueA = cummulativeData[cummulativeData['group']=='A'][['date','revenue', 'orders']]\n",
    "\n",
    "# датафрейм с кумулятивным количеством заказов и кумулятивной выручкой по дням в группе B\n",
    "cummulativeRevenueB = cummulativeData[cummulativeData['group']=='B'][['date','revenue', 'orders']]\n",
    "\n",
    "plt.figure(figsize=(12, 4))\n",
    "# Строим график выручки группы А\n",
    "plt.plot(cummulativeRevenueA['date'], cummulativeRevenueA['revenue'], label='A')\n",
    "\n",
    "# Строим график выручки группы B\n",
    "plt.plot(cummulativeRevenueB['date'], cummulativeRevenueB['revenue'], label='B')\n",
    "\n",
    "plt.xlabel('Дата')\n",
    "plt.ylabel('Выручка, 10^6')\n",
    "plt.title('Графики кумулятивной выручки по группам A/B')\n",
    "plt.legend()\n",
    "plt.show()"
   ]
  },
  {
   "cell_type": "markdown",
   "metadata": {},
   "source": [
    "<b> Вывод 2.1.1: </b> группа В стабильно показывает бОльшую выручку, чем А. Отмечаю резкий скачок 18 августа (возможно, это аномалия)."
   ]
  },
  {
   "cell_type": "markdown",
   "metadata": {},
   "source": [
    "#### Кумулятивный средний чек по группам"
   ]
  },
  {
   "cell_type": "code",
   "execution_count": 35,
   "metadata": {},
   "outputs": [
    {
     "data": {
      "image/png": "[encoded data removed]",
      "text/plain": [
       "<Figure size 1200x400 with 1 Axes>"
      ]
     },
     "metadata": {},
     "output_type": "display_data"
    }
   ],
   "source": [
    "plt.figure(figsize=(12, 4))\n",
    "plt.plot(cummulativeRevenueA['date'], cummulativeRevenueA['revenue']/cummulativeRevenueA['orders'], label='A')\n",
    "plt.plot(cummulativeRevenueB['date'], cummulativeRevenueB['revenue']/cummulativeRevenueB['orders'], label='B')\n",
    "plt.xlabel('Дата')\n",
    "plt.ylabel('Средний чек')\n",
    "plt.title('Графики кумулятивного среднего чека по группам A/B')\n",
    "plt.legend()\n",
    "plt.show()"
   ]
  },
  {
   "cell_type": "markdown",
   "metadata": {},
   "source": [
    "<b> Вывод 2.1.2: </b> средний чек группы В почти всё время выше, чем средний чек группы А (кроме 1 и 13 августа). Также отмечаю резкий скачок 18 августа (возможно, это аномалия)."
   ]
  },
  {
   "cell_type": "markdown",
   "metadata": {},
   "source": [
    "#### Относительное изменение кумулятивного среднего чека группы B к группе A"
   ]
  },
  {
   "cell_type": "code",
   "execution_count": 36,
   "metadata": {},
   "outputs": [
    {
     "data": {
      "image/png": "[encoded data removed]",
      "text/plain": [
       "<Figure size 1200x400 with 1 Axes>"
      ]
     },
     "metadata": {},
     "output_type": "display_data"
    }
   ],
   "source": [
    "# собираем данные в одном датафрейме\n",
    "mergedCummulativeRevenue = (\n",
    "    cummulativeRevenueA.merge(cummulativeRevenueB, left_on='date', right_on='date', how='left', suffixes=['A', 'B'])\n",
    ")\n",
    "\n",
    "plt.figure(figsize=(12, 4))\n",
    "# cтроим отношение средних чеков\n",
    "plt.plot(mergedCummulativeRevenue['date'], \n",
    "         (mergedCummulativeRevenue['revenueB']/mergedCummulativeRevenue['ordersB'])/(mergedCummulativeRevenue['revenueA']/mergedCummulativeRevenue['ordersA'])-1)\n",
    "# добавляем ось X\n",
    "plt.axhline(y=0, color='black', linestyle='--')\n",
    "plt.title('График относительного изменения кумулятивного среднего чека группы B к группе A')\n",
    "plt.xlabel('Дата')\n",
    "plt.show()"
   ]
  },
  {
   "cell_type": "markdown",
   "metadata": {},
   "source": [
    "<b> Вывод 2.1.3: </b> есть резкие изменения в графике, скорее всего из-за аномалий, необходимо будет проверить."
   ]
  },
  {
   "cell_type": "markdown",
   "metadata": {},
   "source": [
    "#### Кумулятивное среднее количества заказов на посетителя по группам"
   ]
  },
  {
   "cell_type": "code",
   "execution_count": 37,
   "metadata": {},
   "outputs": [
    {
     "data": {
      "image/png": "[encoded data removed]",
      "text/plain": [
       "<Figure size 1200x400 with 1 Axes>"
      ]
     },
     "metadata": {},
     "output_type": "display_data"
    }
   ],
   "source": [
    "# то есть конверсия\n",
    "\n",
    "# датафрейм с кумулятивной конверсией по дням в группе А\n",
    "cummulativeConversionA = cummulativeData[cummulativeData['group']=='A'][['date','orders', 'visitors']]\n",
    "cummulativeConversionA['conversion'] = cummulativeConversionA['orders'] / cummulativeConversionA['visitors']\n",
    "\n",
    "# датафрейм с кумулятивной конверсией по дням в группе B\n",
    "cummulativeConversionB = cummulativeData[cummulativeData['group']=='B'][['date','orders', 'visitors']]\n",
    "cummulativeConversionB['conversion'] = cummulativeConversionB['orders'] / cummulativeConversionB['visitors']\n",
    "\n",
    "plt.figure(figsize=(12, 4))\n",
    "# Строим график выручки группы А\n",
    "plt.plot(cummulativeConversionA['date'], cummulativeConversionA['conversion'], label='A')\n",
    "\n",
    "# Строим график выручки группы B\n",
    "plt.plot(cummulativeConversionB['date'], cummulativeConversionB['conversion'], label='B')\n",
    "\n",
    "plt.xlabel('Дата')\n",
    "plt.ylabel('Конверсия')\n",
    "plt.title('Графики кумулятивной конверсии по группам A/B')\n",
    "plt.legend()\n",
    "plt.show()"
   ]
  },
  {
   "cell_type": "markdown",
   "metadata": {},
   "source": [
    "<b> Вывод 2.1.4: </b> в первые дни (до 6 августа) группа А показывала бОльшую конверсию. Далее группа В показывает стабильно бОльшую конверсию, чем в группе А."
   ]
  },
  {
   "cell_type": "markdown",
   "metadata": {},
   "source": [
    "#### Относительные изменения кумулятивного среднего количества заказов на посетителя группы B к группе A"
   ]
  },
  {
   "cell_type": "code",
   "execution_count": 38,
   "metadata": {},
   "outputs": [
    {
     "data": {
      "image/png": "[encoded data removed]",
      "text/plain": [
       "<Figure size 1200x400 with 1 Axes>"
      ]
     },
     "metadata": {},
     "output_type": "display_data"
    }
   ],
   "source": [
    "# собираем данные в одном датафрейме\n",
    "mergedCummulativeConversion = (\n",
    "    cummulativeConversionA.merge(cummulativeConversionB, left_on='date', right_on='date', how='left', suffixes=['A', 'B'])\n",
    ")\n",
    "\n",
    "plt.figure(figsize=(12, 4))\n",
    "# cтроим отношение конверсий\n",
    "plt.plot(mergedCummulativeConversion['date'], \n",
    "         (mergedCummulativeConversion['conversionB']/mergedCummulativeConversion['conversionA'])-1)\n",
    "# добавляем оси X\n",
    "plt.axhline(y=0, color='black', linestyle='--')\n",
    "plt.axhline(y=0.1, color='grey', linestyle='--')\n",
    "plt.title('График относительного изменения кумулятивной конверсии группы B к группе A')\n",
    "plt.xlabel('Дата')\n",
    "plt.show()"
   ]
  },
  {
   "cell_type": "markdown",
   "metadata": {},
   "source": [
    "<b> Вывод 2.1.5: </b> через 1 неделю с начала тестов конверсия группы В выше конверсии группы А на 10%, но конверсия не \"устаканилась\"."
   ]
  },
  {
   "cell_type": "markdown",
   "metadata": {},
   "source": [
    "<b> Вывод 2.1: </b> изучены кумулятивные метрики. \n",
    "- Начиная со второй недели выручка группы В стабильно выше выручки группы А, при этом заметен резкий скачок 18 августа (скорее всего это аномальные значения - необходимо будет проверить). \n",
    "- Средний чек группы В со 2 августа выше среднего чека группы А, но отмечаются колебания: просадка с 12 по 15 августа и резкий скачок 18 августа. \n",
    "- Начиная со второй недели конверсия группы В стабильно выше конверсии группы А, но графики нестабильны. Необходимо исследовать на аномалии."
   ]
  },
  {
   "cell_type": "markdown",
   "metadata": {},
   "source": [
    "### Анализ выбросов"
   ]
  },
  {
   "cell_type": "markdown",
   "metadata": {},
   "source": [
    "#### График количества заказов по пользователям"
   ]
  },
  {
   "cell_type": "code",
   "execution_count": 39,
   "metadata": {},
   "outputs": [
    {
     "data": {
      "text/html": [
       "<div>\n",
       "<style scoped>\n",
       "    .dataframe tbody tr th:only-of-type {\n",
       "        vertical-align: middle;\n",
       "    }\n",
       "\n",
       "    .dataframe tbody tr th {\n",
       "        vertical-align: top;\n",
       "    }\n",
       "\n",
       "    .dataframe thead th {\n",
       "        text-align: right;\n",
       "    }\n",
       "</style>\n",
       "<table border=\"1\" class=\"dataframe\">\n",
       "  <thead>\n",
       "    <tr style=\"text-align: right;\">\n",
       "      <th></th>\n",
       "      <th>visitorId</th>\n",
       "      <th>orders</th>\n",
       "    </tr>\n",
       "  </thead>\n",
       "  <tbody>\n",
       "    <tr>\n",
       "      <th>1023</th>\n",
       "      <td>4256040402</td>\n",
       "      <td>11</td>\n",
       "    </tr>\n",
       "    <tr>\n",
       "      <th>591</th>\n",
       "      <td>2458001652</td>\n",
       "      <td>11</td>\n",
       "    </tr>\n",
       "    <tr>\n",
       "      <th>569</th>\n",
       "      <td>2378935119</td>\n",
       "      <td>9</td>\n",
       "    </tr>\n",
       "    <tr>\n",
       "      <th>487</th>\n",
       "      <td>2038680547</td>\n",
       "      <td>8</td>\n",
       "    </tr>\n",
       "    <tr>\n",
       "      <th>44</th>\n",
       "      <td>199603092</td>\n",
       "      <td>5</td>\n",
       "    </tr>\n",
       "  </tbody>\n",
       "</table>\n",
       "</div>"
      ],
      "text/plain": [
       "       visitorId  orders\n",
       "1023  4256040402      11\n",
       "591   2458001652      11\n",
       "569   2378935119       9\n",
       "487   2038680547       8\n",
       "44     199603092       5"
      ]
     },
     "execution_count": 39,
     "metadata": {},
     "output_type": "execute_result"
    }
   ],
   "source": [
    "ordersByUsers = (\n",
    "    orders.groupby('visitorId', as_index = False)\n",
    "    .agg({'transactionId':'nunique'}).sort_values(by='transactionId', ascending = False)\n",
    ")\n",
    "ordersByUsers.columns = ['visitorId', 'orders']\n",
    "ordersByUsers.head(5)"
   ]
  },
  {
   "cell_type": "code",
   "execution_count": 40,
   "metadata": {},
   "outputs": [
    {
     "data": {
      "image/png": "[encoded data removed]",
      "text/plain": [
       "<Figure size 1200x400 with 1 Axes>"
      ]
     },
     "metadata": {},
     "output_type": "display_data"
    }
   ],
   "source": [
    "plt.figure(figsize=(12,4))\n",
    "plt.hist(ordersByUsers['orders'], bins = 10)\n",
    "plt.title('Гистрограмма распределения количества заказов на одного пользователя')\n",
    "plt.show()"
   ]
  },
  {
   "cell_type": "code",
   "execution_count": 41,
   "metadata": {},
   "outputs": [
    {
     "data": {
      "image/png": "[encoded data removed]",
      "text/plain": [
       "<Figure size 1200x400 with 1 Axes>"
      ]
     },
     "metadata": {},
     "output_type": "display_data"
    }
   ],
   "source": [
    "x_values = pd.Series(range(0, len(ordersByUsers)))\n",
    "plt.figure(figsize=(12,4))\n",
    "plt.scatter(x_values, ordersByUsers['orders'])\n",
    "plt.title('Диаграмма рассеяния количества заказов на одного пользователя')\n",
    "plt.show()"
   ]
  },
  {
   "cell_type": "markdown",
   "metadata": {},
   "source": [
    "<b> Вывод 2.2.1: </b> по графику видно, что бОльшая часть пользователей совершает 1 заказ."
   ]
  },
  {
   "cell_type": "markdown",
   "metadata": {},
   "source": [
    "#### 95-й и 99-й перцентили количества заказов на пользователя"
   ]
  },
  {
   "cell_type": "code",
   "execution_count": 42,
   "metadata": {},
   "outputs": [
    {
     "name": "stdout",
     "output_type": "stream",
     "text": [
      "Перцентили:\n",
      "95 - 2.0\n",
      "99 - 4.0\n"
     ]
    }
   ],
   "source": [
    "percentiles = np.percentile(ordersByUsers['orders'], [95, 99])\n",
    "print('Перцентили:\\n95 - {}\\n99 - {}'.format(percentiles[0],percentiles[1]))"
   ]
  },
  {
   "cell_type": "markdown",
   "metadata": {},
   "source": [
    "<b> Вывод 2.2.2: </b> расчитала 95 и 99 перцентили количества заказов на пользователя. Получается, что 95% всех пользоватлей сделали 1 или 2 заказа, а остальные 5% - от 3 заказов."
   ]
  },
  {
   "cell_type": "code",
   "execution_count": 43,
   "metadata": {},
   "outputs": [],
   "source": [
    "orders_max = percentiles[0]"
   ]
  },
  {
   "cell_type": "markdown",
   "metadata": {},
   "source": [
    "#### График стоимостей заказов"
   ]
  },
  {
   "cell_type": "code",
   "execution_count": 44,
   "metadata": {},
   "outputs": [
    {
     "data": {
      "image/png": "[encoded data removed]",
      "text/plain": [
       "<Figure size 1200x400 with 1 Axes>"
      ]
     },
     "metadata": {},
     "output_type": "display_data"
    }
   ],
   "source": [
    "plt.figure(figsize=(12,4))\n",
    "plt.hist(orders['revenue'], range = (0, 80000), bins = 100)\n",
    "plt.title('Гистрограмма распределения сумм заказов')\n",
    "plt.show()"
   ]
  },
  {
   "cell_type": "code",
   "execution_count": 45,
   "metadata": {},
   "outputs": [
    {
     "data": {
      "image/png": "[encoded data removed]",
      "text/plain": [
       "<Figure size 1200x400 with 1 Axes>"
      ]
     },
     "metadata": {},
     "output_type": "display_data"
    }
   ],
   "source": [
    "x_values = pd.Series(range(0, len(orders)))\n",
    "plt.figure(figsize=(12,4))\n",
    "plt.scatter(x_values, orders['revenue'])\n",
    "plt.title('Диаграмма рассеяния сумм заказов')\n",
    "plt.show()"
   ]
  },
  {
   "cell_type": "code",
   "execution_count": 46,
   "metadata": {},
   "outputs": [
    {
     "data": {
      "image/png": "[encoded data removed]",
      "text/plain": [
       "<Figure size 1200x400 with 1 Axes>"
      ]
     },
     "metadata": {},
     "output_type": "display_data"
    }
   ],
   "source": [
    "plt.figure(figsize=(12,4))\n",
    "plt.scatter(x_values, orders['revenue'])\n",
    "plt.title('Диаграмма рассеяния сумм заказов')\n",
    "plt.axis([0, 1200, 0, 150000])\n",
    "plt.show()"
   ]
  },
  {
   "cell_type": "markdown",
   "metadata": {},
   "source": [
    "<b> Вывод 2.2.3: </b> построила гистограмму и диаграмму рассеяния сумм заказов. Видно, что бОльшая часть заказов в пределах (0, 20000). Гистограмма похожа на распределение Пуассона (пик около 0 и линных хвост)."
   ]
  },
  {
   "cell_type": "markdown",
   "metadata": {},
   "source": [
    "#### 95-й и 99-й перцентили стоимости заказов"
   ]
  },
  {
   "cell_type": "code",
   "execution_count": 47,
   "metadata": {},
   "outputs": [
    {
     "name": "stdout",
     "output_type": "stream",
     "text": [
      "Перцентили:\n",
      "95 - 28000.00\n",
      "99 - 58233.20\n"
     ]
    }
   ],
   "source": [
    "percentiles = np.percentile(orders['revenue'], [95, 99])\n",
    "print('Перцентили:\\n95 - {:.2f}\\n99 - {:.2f}'.format(percentiles[0],percentiles[1]))"
   ]
  },
  {
   "cell_type": "markdown",
   "metadata": {},
   "source": [
    "<b> Вывод 2.2.4: </b> расчитала 95 и 99 перцентили стоимости заказов. Получили, что только 5% заказов больше 28000. А 95% заказов в пределах (0, 28000)."
   ]
  },
  {
   "cell_type": "code",
   "execution_count": 48,
   "metadata": {},
   "outputs": [],
   "source": [
    "revenue_max = percentiles[0]"
   ]
  },
  {
   "cell_type": "markdown",
   "metadata": {},
   "source": [
    "<b> Вывод 2.2: </b> постоила гистограммы и диаграммы рассеяния для количества заказов на 1 пользователя и стоимости заказов, рассчитала 95 и 99 перцентили для этих же значений. Получила:\n",
    "- 95% пользователей делали 1 или 2 заказа,\n",
    "- 95% заказаов стоимостью до 28000."
   ]
  },
  {
   "cell_type": "markdown",
   "metadata": {},
   "source": [
    "### Cтатистическая значимость различий в среднем количестве заказов на посетителя между группами по «сырым» данным"
   ]
  },
  {
   "cell_type": "code",
   "execution_count": 49,
   "metadata": {},
   "outputs": [],
   "source": [
    "# установим уровень крит. значимости в 5%\n",
    "alpha = 0.05"
   ]
  },
  {
   "cell_type": "code",
   "execution_count": 50,
   "metadata": {},
   "outputs": [],
   "source": [
    "# датафреймы с количеством заказов на посетителя по группам\n",
    "ordersByUsersA = orders[orders['group']=='A'].groupby('visitorId', as_index=False).agg({'transactionId':'nunique'})\n",
    "ordersByUsersA.columns = ['visitorId', 'orders']\n",
    "\n",
    "ordersByUsersB = orders[orders['group']=='B'].groupby('visitorId', as_index=False).agg({'transactionId':'nunique'})\n",
    "ordersByUsersB.columns = ['visitorId', 'orders']"
   ]
  },
  {
   "cell_type": "code",
   "execution_count": 51,
   "metadata": {},
   "outputs": [],
   "source": [
    "sampleA = (\n",
    "    pd.concat([ordersByUsersA['orders'], \n",
    "               pd.Series(\n",
    "                   0, \n",
    "                   index=np.arange(visitors[visitors['group']=='A']['visitors'].sum() - len(ordersByUsersA['orders'])), \n",
    "                   name='orders')], axis = 0)\n",
    ")\n",
    "\n",
    "sampleB = (\n",
    "    pd.concat([ordersByUsersB['orders'], \n",
    "               pd.Series(\n",
    "                   0, \n",
    "                   index=np.arange(visitors[visitors['group']=='B']['visitors'].sum() - len(ordersByUsersB['orders'])), \n",
    "                   name='orders')], axis=0)\n",
    ")"
   ]
  },
  {
   "cell_type": "markdown",
   "metadata": {},
   "source": [
    "<b> Гипотезы: </b>\n",
    "\n",
    "H0: различия в среднем количестве заказов на посетителя между группами по «сырым» данным стат. НЕ значимы\n",
    "\n",
    "Н1: различия в среднем количестве заказов на посетителя между группами по «сырым» данным стат. значимы"
   ]
  },
  {
   "cell_type": "code",
   "execution_count": 52,
   "metadata": {},
   "outputs": [
    {
     "name": "stdout",
     "output_type": "stream",
     "text": [
      "p-value: 0.016792355056752608\n",
      "Отвергаем нулевую гипотезу: различия в среднем количестве заказов на посетителя между группами по «сырым» данным стат. значимы\n"
     ]
    }
   ],
   "source": [
    "results = stats.mannwhitneyu(sampleA, sampleB)\n",
    "print('p-value: {}'.format(results.pvalue))\n",
    "if results.pvalue < alpha:\n",
    "    print('Отвергаем нулевую гипотезу: различия в среднем количестве заказов на посетителя между группами по «сырым» данным стат. значимы')\n",
    "else:\n",
    "    print('Не получилось отвергнуть нулевую гипотезу: различия в среднем количестве заказов на посетителя между группами по «сырым» данным стат. НЕ значимы')"
   ]
  },
  {
   "cell_type": "code",
   "execution_count": 53,
   "metadata": {},
   "outputs": [
    {
     "name": "stdout",
     "output_type": "stream",
     "text": [
      "Относительный прирост конверсии группы В относительно группы А - 0.138\n"
     ]
    }
   ],
   "source": [
    "print('Относительный прирост конверсии группы В относительно группы А - {0:.3f}'.format(sampleB.mean() / sampleA.mean() - 1))"
   ]
  },
  {
   "cell_type": "markdown",
   "metadata": {},
   "source": [
    "<b> Вывод 2.3: </b> получили, что различия в среднем количестве заказов на посетителя между группами по «сырым» данным стат. значимы."
   ]
  },
  {
   "cell_type": "markdown",
   "metadata": {},
   "source": [
    "### Статистическая значимость различий в среднем чеке заказа между группами по «сырым» данным"
   ]
  },
  {
   "cell_type": "markdown",
   "metadata": {},
   "source": [
    "<b> Гипотезы: </b>\n",
    "\n",
    "H0: различия в среднем чеке заказа между группами по «сырым» данным стат. НЕ значимы\n",
    "\n",
    "Н1: различия в среднем чеке заказа между группами по «сырым» данным стат. значимы"
   ]
  },
  {
   "cell_type": "code",
   "execution_count": 54,
   "metadata": {},
   "outputs": [
    {
     "name": "stdout",
     "output_type": "stream",
     "text": [
      "p-value: 0.7292909855432458\n",
      "Не получилось отвергнуть нулевую гипотезу: различия в среднем чеке заказа между группами по «сырым» данным стат. НЕ значимы\n"
     ]
    }
   ],
   "source": [
    "results = stats.mannwhitneyu(orders[orders['group']=='A']['revenue'], orders[orders['group']=='B']['revenue'])\n",
    "print('p-value: {}'.format(results.pvalue))\n",
    "if results.pvalue < alpha:\n",
    "    print('Отвергаем нулевую гипотезу: различия в среднем чеке заказа между группами по «сырым» данным стат. значимы')\n",
    "else:\n",
    "    print('Не получилось отвергнуть нулевую гипотезу: различия в среднем чеке заказа между группами по «сырым» данным стат. НЕ значимы')"
   ]
  },
  {
   "cell_type": "code",
   "execution_count": 55,
   "metadata": {},
   "outputs": [
    {
     "name": "stdout",
     "output_type": "stream",
     "text": [
      "Относительный прирост ср. чека группы В относительно группы А - 0.259\n"
     ]
    }
   ],
   "source": [
    "print('Относительный прирост ср. чека группы В относительно группы А - {0:.3f}'\n",
    "      .format(orders[orders['group']=='B']['revenue'].mean() / orders[orders['group']=='A']['revenue'].mean() - 1))"
   ]
  },
  {
   "cell_type": "markdown",
   "metadata": {},
   "source": [
    "<b> Вывод 2.4: </b> получили, что различия в среднем чеке между группами по «сырым» данным стат. не значимы."
   ]
  },
  {
   "cell_type": "markdown",
   "metadata": {},
   "source": [
    "### Cтатистическая значимость различий в среднем количестве заказов на посетителя между группами по «очищенным» данным"
   ]
  },
  {
   "cell_type": "code",
   "execution_count": 56,
   "metadata": {},
   "outputs": [
    {
     "name": "stdout",
     "output_type": "stream",
     "text": [
      "1099    148427295\n",
      "18      199603092\n",
      "928     204675465\n",
      "23      237748145\n",
      "37      249864742\n",
      "Name: visitorId, dtype: int64\n",
      "74\n"
     ]
    }
   ],
   "source": [
    "# для начала очистим данные от выбросов: кол-во заказов пользователя не более 2 и сумма заказа не более 28000 (установили ранее)\n",
    "\n",
    "# посчитаем сколько таких юзеров\n",
    "usersWithManyOrders = pd.concat(\n",
    "    [\n",
    "        ordersByUsersA[ordersByUsersA['orders'] > orders_max]['visitorId'],\n",
    "        ordersByUsersB[ordersByUsersB['orders'] > orders_max]['visitorId'],\n",
    "    ],\n",
    "    axis=0,\n",
    ")\n",
    "usersWithExpensiveOrders = orders[orders['revenue'] > revenue_max]['visitorId']\n",
    "\n",
    "abnormalUsers = (\n",
    "    pd.concat([usersWithManyOrders, usersWithExpensiveOrders], axis=0)\n",
    "    .drop_duplicates()\n",
    "    .sort_values()\n",
    ")\n",
    "print(abnormalUsers.head(5))\n",
    "print(abnormalUsers.shape[0])"
   ]
  },
  {
   "cell_type": "markdown",
   "metadata": {},
   "source": [
    "Кол-во аномальных пользователей - 74. Посмотрим, как они могли повлиять на результат. Очистим данные:"
   ]
  },
  {
   "cell_type": "code",
   "execution_count": 57,
   "metadata": {},
   "outputs": [],
   "source": [
    "sampleAFiltered = pd.concat(\n",
    "    [\n",
    "        ordersByUsersA[\n",
    "            np.logical_not(ordersByUsersA['visitorId'].isin(abnormalUsers))\n",
    "        ]['orders'],\n",
    "        pd.Series(\n",
    "            0,\n",
    "            index=np.arange(\n",
    "                visitors[visitors['group']=='A']['visitors'].sum() - len(ordersByUsersA['orders'])\n",
    "            ),\n",
    "            name='orders',\n",
    "        ),\n",
    "    ],\n",
    "    axis=0,\n",
    ")\n",
    "\n",
    "sampleBFiltered = pd.concat(\n",
    "    [\n",
    "        ordersByUsersB[\n",
    "            np.logical_not(ordersByUsersB['visitorId'].isin(abnormalUsers))\n",
    "        ]['orders'],\n",
    "        pd.Series(\n",
    "            0,\n",
    "            index=np.arange(\n",
    "                visitors[visitors['group']=='B']['visitors'].sum() - len(ordersByUsersB['orders'])\n",
    "            ),\n",
    "            name='orders',\n",
    "        ),\n",
    "    ],\n",
    "    axis=0,\n",
    ")"
   ]
  },
  {
   "cell_type": "markdown",
   "metadata": {},
   "source": [
    "<b> Гипотезы: </b>\n",
    "\n",
    "H0: различия в среднем количестве заказов на посетителя между группами по «очищенным» данным стат. НЕ значимы\n",
    "\n",
    "Н1: различия в среднем количестве заказов на посетителя между группами по «очищенным» данным стат. значимы"
   ]
  },
  {
   "cell_type": "code",
   "execution_count": 58,
   "metadata": {},
   "outputs": [
    {
     "name": "stdout",
     "output_type": "stream",
     "text": [
      "p-value: 0.013042592743036745\n",
      "Отвергаем нулевую гипотезу: различия в среднем количестве заказов на посетителя между группами по «очищенным» данным стат. значимы\n"
     ]
    }
   ],
   "source": [
    "results = stats.mannwhitneyu(sampleAFiltered, sampleBFiltered)\n",
    "print('p-value: {}'.format(results.pvalue))\n",
    "if results.pvalue < alpha:\n",
    "    print('Отвергаем нулевую гипотезу: различия в среднем количестве заказов на посетителя между группами по «очищенным» данным стат. значимы')\n",
    "else:\n",
    "    print('Не получилось отвергнуть нулевую гипотезу: различия в среднем количестве заказов на посетителя между группами по «очищенным» данным стат. НЕ значимы')"
   ]
  },
  {
   "cell_type": "code",
   "execution_count": 59,
   "metadata": {},
   "outputs": [
    {
     "name": "stdout",
     "output_type": "stream",
     "text": [
      "Относительный прирост конверсии группы В относительно группы А - 0.173\n"
     ]
    }
   ],
   "source": [
    "print('Относительный прирост конверсии группы В относительно группы А - {0:.3f}'\n",
    "      .format(sampleBFiltered.mean() / sampleAFiltered.mean() - 1))"
   ]
  },
  {
   "cell_type": "markdown",
   "metadata": {},
   "source": [
    "<b> Вывод 2.5: </b> получили, что различия в среднем количестве заказов на посетителя между группами по «очищенным» данным стат. значимы"
   ]
  },
  {
   "cell_type": "markdown",
   "metadata": {},
   "source": [
    "### Статистическая значимость различий в среднем чеке заказа между группами по «очищенным» данным"
   ]
  },
  {
   "cell_type": "markdown",
   "metadata": {},
   "source": [
    "<b> Гипотезы: </b>\n",
    "\n",
    "H0: различия в среднем чеке заказа между группами по «очищенным» данным стат. НЕ значимы\n",
    "\n",
    "Н1: различия в среднем чеке заказа между группами по «очищенным» данным стат. значимы"
   ]
  },
  {
   "cell_type": "code",
   "execution_count": 60,
   "metadata": {},
   "outputs": [
    {
     "name": "stdout",
     "output_type": "stream",
     "text": [
      "p-value: 0.738481751314565\n",
      "Не получилось отвергнуть нулевую гипотезу: различия в среднем чеке заказа между группами по «очищенным» данным стат. НЕ значимы\n"
     ]
    }
   ],
   "source": [
    "results = (\n",
    "    stats.mannwhitneyu(orders[np.logical_and(orders['group']=='A', np.logical_not(orders['visitorId'].isin(abnormalUsers)))]['revenue'], \n",
    "                       orders[np.logical_and(orders['group']=='B', np.logical_not(orders['visitorId'].isin(abnormalUsers)))]['revenue'])    \n",
    ")\n",
    "\n",
    "print('p-value: {}'.format(results.pvalue))\n",
    "if results.pvalue < alpha:\n",
    "    print('Отвергаем нулевую гипотезу: различия в среднем чеке заказа между группами по «очищенным» данным стат. значимы')\n",
    "else:\n",
    "    print('Не получилось отвергнуть нулевую гипотезу: различия в среднем чеке заказа между группами по «очищенным» данным стат. НЕ значимы')"
   ]
  },
  {
   "cell_type": "code",
   "execution_count": 61,
   "metadata": {},
   "outputs": [
    {
     "name": "stdout",
     "output_type": "stream",
     "text": [
      "Относительный прирост ср. чека группы В относительно группы А - -0.020\n"
     ]
    }
   ],
   "source": [
    "print('Относительный прирост ср. чека группы В относительно группы А - {0:.3f}'\n",
    "      .format(\n",
    "          orders[np.logical_and(orders['group']=='B', np.logical_not(orders['visitorId'].isin(abnormalUsers)))]['revenue'].mean()\\\n",
    "          /orders[np.logical_and(orders['group']=='A', np.logical_not(orders['visitorId'].isin(abnormalUsers)))]['revenue'].mean()-1)\n",
    ")"
   ]
  },
  {
   "cell_type": "markdown",
   "metadata": {},
   "source": [
    "<b> Вывод 2.6: </b> получили, что различия в среднем чеке между группами по «сырым» данным стат. не значимы."
   ]
  },
  {
   "cell_type": "markdown",
   "metadata": {},
   "source": [
    "<b> Вывод 2: </b> проанализированы результаты А/В-теста.\n",
    "\n",
    "Сначала были проанализированы кумулятивные показатели:\n",
    "- Начиная со второй недели выручка группы В стабильно выше выручки группы А. При этом есть резкий скачок 18 августа: либо увеличилось кол-во заказов, либо увеличилась сумма заказов. \n",
    "- Средний чек группы В со 2 августа выше среднего чека группы А, но отмечаются колебания.\n",
    "- Начиная со второй недели конверсия группы В стабильно выше конверсии группы А.\n",
    "\n",
    "Изучены выбросы в количестве заказов на пользователя и в стоимостях заказов. Оказалось:\n",
    "- 5% пользователей совершали более 2 заказов, а 1% - более 4.\n",
    "- 95% пользователей совершали 1 или 2 заказа.\n",
    "- 5% заказов стоимостью более 28000, 1% - более 58233.\n",
    "- Стоимость 95% заказов менее 28000.\n",
    "\n",
    "Были выдвинуты гипотезы относительно среднего количества заказов на посетителя между группами:\n",
    "- По «сырым» данным: различия статистически НЕ значимы,\n",
    "- По «очищенным» данным: различия статистически НЕ значимы.\n",
    "\n",
    "Оказалось, что различия по «сырым» и по «очищенным» данным статистически значимы. Прирост среднего количества заказов на поселителя в группе В относительно группы А по «сырым» данным - 13.8%, а по по «очищенным» - 17.3%.\n",
    "\n",
    "Были выдвинуты гипотезы относительно среднего чека заказа между группами:\n",
    "- По «сырым» данным: различия статистически НЕ значимы,\n",
    "- По «очищенным» данным: различия статистически НЕ значимы.\n",
    "\n",
    "Оказалось, что различия по «сырым» и по «очищенным» данным статистически не значимы. Прирост среднего чека заказа в группе В относительно группы А по «сырым» данным - 25.9%, а по «очищенным» - прирост отрицательный, -2%."
   ]
  },
  {
   "cell_type": "markdown",
   "metadata": {},
   "source": [
    "<b> Принятие решения по результатам теста </b>"
   ]
  },
  {
   "cell_type": "markdown",
   "metadata": {},
   "source": [
    "Варианты решений:\n",
    "1. Остановить тест, зафиксировать победу одной из групп.\n",
    "2. Остановить тест, зафиксировать отсутствие различий между группами.\n",
    "3. Продолжить тест."
   ]
  },
  {
   "cell_type": "markdown",
   "metadata": {},
   "source": [
    "Выборка данных корректного объема, избежали проблемы подглядывания.\n",
    "\n",
    "Кумулятивные метрики по выручке, среднему чеку, конверсии были выше у группы В почти всё время. \n",
    "\n",
    "Цель анализа - увеличение выручки интернет-магазина. Поэтому обращаем внимание на конверсию.\n",
    "\n",
    "Конверсии групп А и В статистически различаются. Причем прирост конверсии группы В относительно группы А по \"сырым\" данным составляет 14%. Убрав выбросы, конверсия в группе В увеличилась даже больше - 17%.\n",
    "\n",
    "Из этого можно принять решение по тесту: остановить тест, зафиксировав победу группы В."
   ]
  }
 ],
 "metadata": {
  "ExecuteTimeLog": [
   {
    "duration": 1641,
    "start_time": "2023-06-01T20:52:26.208Z"
   },
   {
    "duration": 3,
    "start_time": "2023-06-01T20:54:34.716Z"
   },
   {
    "duration": 111,
    "start_time": "2023-06-01T20:55:53.032Z"
   },
   {
    "duration": 43,
    "start_time": "2023-06-01T20:56:28.345Z"
   },
   {
    "duration": 20,
    "start_time": "2023-06-01T20:59:31.018Z"
   },
   {
    "duration": 33,
    "start_time": "2023-06-01T21:00:21.697Z"
   },
   {
    "duration": 117,
    "start_time": "2023-06-01T21:03:58.454Z"
   },
   {
    "duration": 14,
    "start_time": "2023-06-01T21:04:06.691Z"
   },
   {
    "duration": 21,
    "start_time": "2023-06-01T21:10:13.304Z"
   },
   {
    "duration": 2013,
    "start_time": "2023-06-01T21:12:12.370Z"
   },
   {
    "duration": 1996,
    "start_time": "2023-06-01T21:12:21.263Z"
   },
   {
    "duration": 14,
    "start_time": "2023-06-01T21:13:13.517Z"
   },
   {
    "duration": 13,
    "start_time": "2023-06-01T21:13:42.676Z"
   },
   {
    "duration": 8,
    "start_time": "2023-06-01T21:14:05.299Z"
   },
   {
    "duration": 4,
    "start_time": "2023-06-01T21:14:37.764Z"
   },
   {
    "duration": 5,
    "start_time": "2023-06-01T21:14:55.002Z"
   },
   {
    "duration": 4,
    "start_time": "2023-06-01T21:14:59.757Z"
   },
   {
    "duration": 4,
    "start_time": "2023-06-01T21:30:08.569Z"
   },
   {
    "duration": 9,
    "start_time": "2023-06-01T21:30:44.694Z"
   },
   {
    "duration": 4,
    "start_time": "2023-06-01T21:31:57.851Z"
   },
   {
    "duration": 5,
    "start_time": "2023-06-01T21:40:08.247Z"
   },
   {
    "duration": 4,
    "start_time": "2023-06-01T21:42:35.990Z"
   },
   {
    "duration": 6,
    "start_time": "2023-06-01T21:43:00.366Z"
   },
   {
    "duration": 4,
    "start_time": "2023-06-01T21:50:43.873Z"
   },
   {
    "duration": 4,
    "start_time": "2023-06-01T21:50:47.047Z"
   },
   {
    "duration": 175,
    "start_time": "2023-06-01T21:59:42.315Z"
   },
   {
    "duration": 64,
    "start_time": "2023-06-01T22:00:27.792Z"
   },
   {
    "duration": 10,
    "start_time": "2023-06-01T22:00:44.445Z"
   },
   {
    "duration": 8,
    "start_time": "2023-06-01T22:02:00.859Z"
   },
   {
    "duration": 345,
    "start_time": "2023-06-01T22:02:58.267Z"
   },
   {
    "duration": 3,
    "start_time": "2023-06-01T22:03:25.265Z"
   },
   {
    "duration": 3,
    "start_time": "2023-06-01T22:03:36.505Z"
   },
   {
    "duration": 45,
    "start_time": "2023-06-01T22:03:36.513Z"
   },
   {
    "duration": 10,
    "start_time": "2023-06-01T22:03:36.560Z"
   },
   {
    "duration": 9,
    "start_time": "2023-06-01T22:03:36.571Z"
   },
   {
    "duration": 17,
    "start_time": "2023-06-01T22:03:36.581Z"
   },
   {
    "duration": 7,
    "start_time": "2023-06-01T22:03:36.600Z"
   },
   {
    "duration": 43,
    "start_time": "2023-06-01T22:03:36.609Z"
   },
   {
    "duration": 15,
    "start_time": "2023-06-01T22:03:36.653Z"
   },
   {
    "duration": 60,
    "start_time": "2023-06-01T22:03:36.670Z"
   },
   {
    "duration": 10,
    "start_time": "2023-06-01T22:03:36.732Z"
   },
   {
    "duration": 16,
    "start_time": "2023-06-01T22:03:36.743Z"
   },
   {
    "duration": 8,
    "start_time": "2023-06-01T22:03:40.752Z"
   },
   {
    "duration": 35,
    "start_time": "2023-06-01T22:03:42.378Z"
   },
   {
    "duration": 10,
    "start_time": "2023-06-01T22:04:20.954Z"
   },
   {
    "duration": 11,
    "start_time": "2023-06-01T22:04:39.219Z"
   },
   {
    "duration": 14,
    "start_time": "2023-06-01T22:05:04.767Z"
   },
   {
    "duration": 11,
    "start_time": "2023-06-01T22:05:05.455Z"
   },
   {
    "duration": 21,
    "start_time": "2023-06-01T22:05:19.944Z"
   },
   {
    "duration": 11,
    "start_time": "2023-06-01T22:05:21.667Z"
   },
   {
    "duration": 12,
    "start_time": "2023-06-01T22:05:26.753Z"
   },
   {
    "duration": 10,
    "start_time": "2023-06-01T22:05:27.334Z"
   },
   {
    "duration": 342,
    "start_time": "2023-06-01T22:06:21.319Z"
   },
   {
    "duration": 20,
    "start_time": "2023-06-01T22:06:45.715Z"
   },
   {
    "duration": 9,
    "start_time": "2023-06-01T22:07:05.446Z"
   },
   {
    "duration": 10,
    "start_time": "2023-06-01T22:07:06.953Z"
   },
   {
    "duration": 21,
    "start_time": "2023-06-01T22:07:13.226Z"
   },
   {
    "duration": 18,
    "start_time": "2023-06-01T22:07:28.240Z"
   },
   {
    "duration": 12,
    "start_time": "2023-06-01T22:07:28.858Z"
   },
   {
    "duration": 3,
    "start_time": "2023-06-01T22:08:17.601Z"
   },
   {
    "duration": 10,
    "start_time": "2023-06-01T22:08:18.699Z"
   },
   {
    "duration": 4,
    "start_time": "2023-06-01T22:08:33.071Z"
   },
   {
    "duration": 337,
    "start_time": "2023-06-01T22:08:51.449Z"
   },
   {
    "duration": 17,
    "start_time": "2023-06-01T22:09:19.594Z"
   },
   {
    "duration": 5,
    "start_time": "2023-06-01T22:09:36.900Z"
   },
   {
    "duration": 18,
    "start_time": "2023-06-01T22:09:46.500Z"
   },
   {
    "duration": 4,
    "start_time": "2023-06-01T22:09:47.024Z"
   },
   {
    "duration": 10,
    "start_time": "2023-06-01T22:09:48.500Z"
   },
   {
    "duration": 13,
    "start_time": "2023-06-01T22:10:38.389Z"
   },
   {
    "duration": 14,
    "start_time": "2023-06-01T22:10:49.078Z"
   },
   {
    "duration": 10,
    "start_time": "2023-06-01T22:10:49.801Z"
   },
   {
    "duration": 20,
    "start_time": "2023-06-01T22:11:12.128Z"
   },
   {
    "duration": 11,
    "start_time": "2023-06-01T22:11:12.777Z"
   },
   {
    "duration": 5,
    "start_time": "2023-06-01T22:11:18.664Z"
   },
   {
    "duration": 14,
    "start_time": "2023-06-01T22:12:06.393Z"
   },
   {
    "duration": 7,
    "start_time": "2023-06-01T22:12:20.591Z"
   },
   {
    "duration": 7,
    "start_time": "2023-06-01T22:13:33.728Z"
   },
   {
    "duration": 10,
    "start_time": "2023-06-01T22:13:54.092Z"
   },
   {
    "duration": 4,
    "start_time": "2023-06-01T22:14:18.442Z"
   },
   {
    "duration": 4,
    "start_time": "2023-06-01T23:03:37.455Z"
   },
   {
    "duration": 4,
    "start_time": "2023-06-01T23:03:42.438Z"
   },
   {
    "duration": 5,
    "start_time": "2023-06-01T23:03:53.139Z"
   },
   {
    "duration": 9,
    "start_time": "2023-06-01T23:06:11.481Z"
   },
   {
    "duration": 8,
    "start_time": "2023-06-01T23:06:14.856Z"
   },
   {
    "duration": 8,
    "start_time": "2023-06-01T23:08:08.998Z"
   },
   {
    "duration": 8,
    "start_time": "2023-06-01T23:26:37.834Z"
   },
   {
    "duration": 7,
    "start_time": "2023-06-01T23:26:43.546Z"
   },
   {
    "duration": 3,
    "start_time": "2023-06-01T23:31:02.698Z"
   },
   {
    "duration": 13,
    "start_time": "2023-06-01T23:34:23.424Z"
   },
   {
    "duration": 9,
    "start_time": "2023-06-01T23:34:27.050Z"
   },
   {
    "duration": 8,
    "start_time": "2023-06-01T23:34:44.466Z"
   },
   {
    "duration": 9,
    "start_time": "2023-06-01T23:34:49.825Z"
   },
   {
    "duration": 4,
    "start_time": "2023-06-01T23:37:54.040Z"
   },
   {
    "duration": 4,
    "start_time": "2023-06-01T23:38:10.315Z"
   },
   {
    "duration": 8,
    "start_time": "2023-06-01T23:40:33.490Z"
   },
   {
    "duration": 3,
    "start_time": "2023-06-01T23:40:36.490Z"
   },
   {
    "duration": 9,
    "start_time": "2023-06-01T23:50:28.583Z"
   },
   {
    "duration": 11,
    "start_time": "2023-06-02T00:16:47.792Z"
   },
   {
    "duration": 34,
    "start_time": "2023-06-02T00:47:05.702Z"
   },
   {
    "duration": 301,
    "start_time": "2023-06-02T00:48:36.072Z"
   },
   {
    "duration": 288,
    "start_time": "2023-06-02T00:49:04.671Z"
   },
   {
    "duration": 240,
    "start_time": "2023-06-02T00:50:39.773Z"
   },
   {
    "duration": 273,
    "start_time": "2023-06-02T00:53:54.622Z"
   },
   {
    "duration": 204,
    "start_time": "2023-06-02T00:55:24.475Z"
   },
   {
    "duration": 188,
    "start_time": "2023-06-02T00:55:34.262Z"
   },
   {
    "duration": 193,
    "start_time": "2023-06-02T00:55:44.587Z"
   },
   {
    "duration": 182,
    "start_time": "2023-06-02T00:55:56.925Z"
   },
   {
    "duration": 225,
    "start_time": "2023-06-02T00:58:25.113Z"
   },
   {
    "duration": 183,
    "start_time": "2023-06-02T00:59:12.688Z"
   },
   {
    "duration": 392,
    "start_time": "2023-06-02T01:12:15.782Z"
   },
   {
    "duration": 10,
    "start_time": "2023-06-02T01:50:37.495Z"
   },
   {
    "duration": 1147,
    "start_time": "2023-06-02T01:52:58.847Z"
   },
   {
    "duration": 8,
    "start_time": "2023-06-02T01:55:00.836Z"
   },
   {
    "duration": 8,
    "start_time": "2023-06-02T01:56:17.211Z"
   },
   {
    "duration": 213,
    "start_time": "2023-06-02T02:07:12.839Z"
   },
   {
    "duration": 106,
    "start_time": "2023-06-02T02:13:11.844Z"
   },
   {
    "duration": 15,
    "start_time": "2023-06-02T02:13:18.956Z"
   },
   {
    "duration": 301,
    "start_time": "2023-06-02T02:16:16.269Z"
   },
   {
    "duration": 11,
    "start_time": "2023-06-02T03:16:45.874Z"
   },
   {
    "duration": 124,
    "start_time": "2023-06-02T03:17:13.630Z"
   },
   {
    "duration": 127,
    "start_time": "2023-06-02T03:17:29.953Z"
   },
   {
    "duration": 128,
    "start_time": "2023-06-02T03:17:43.173Z"
   },
   {
    "duration": 133,
    "start_time": "2023-06-02T03:19:03.498Z"
   },
   {
    "duration": 11,
    "start_time": "2023-06-02T03:21:38.950Z"
   },
   {
    "duration": 116,
    "start_time": "2023-06-02T03:21:39.418Z"
   },
   {
    "duration": 121,
    "start_time": "2023-06-02T03:21:40.414Z"
   },
   {
    "duration": 4,
    "start_time": "2023-06-02T03:23:30.956Z"
   },
   {
    "duration": 303,
    "start_time": "2023-06-02T03:27:48.291Z"
   },
   {
    "duration": 237,
    "start_time": "2023-06-02T03:28:16.561Z"
   },
   {
    "duration": 243,
    "start_time": "2023-06-02T03:28:21.646Z"
   },
   {
    "duration": 237,
    "start_time": "2023-06-02T03:28:33.202Z"
   },
   {
    "duration": 133,
    "start_time": "2023-06-02T03:29:30.552Z"
   },
   {
    "duration": 239,
    "start_time": "2023-06-02T03:30:29.602Z"
   },
   {
    "duration": 320,
    "start_time": "2023-06-02T03:30:33.749Z"
   },
   {
    "duration": 242,
    "start_time": "2023-06-02T03:30:41.241Z"
   },
   {
    "duration": 142,
    "start_time": "2023-06-02T03:31:01.591Z"
   },
   {
    "duration": 139,
    "start_time": "2023-06-02T03:31:16.798Z"
   },
   {
    "duration": 133,
    "start_time": "2023-06-02T03:31:25.544Z"
   },
   {
    "duration": 5,
    "start_time": "2023-06-02T03:35:23.035Z"
   },
   {
    "duration": 4,
    "start_time": "2023-06-02T03:35:43.646Z"
   },
   {
    "duration": 3,
    "start_time": "2023-06-02T03:54:19.744Z"
   },
   {
    "duration": 2,
    "start_time": "2023-06-02T04:00:50.399Z"
   },
   {
    "duration": 10,
    "start_time": "2023-06-02T04:07:06.916Z"
   },
   {
    "duration": 12,
    "start_time": "2023-06-02T04:08:10.341Z"
   },
   {
    "duration": 10,
    "start_time": "2023-06-02T04:08:11.927Z"
   },
   {
    "duration": 1372,
    "start_time": "2023-06-02T04:11:46.624Z"
   },
   {
    "duration": 7,
    "start_time": "2023-06-02T04:13:12.481Z"
   },
   {
    "duration": 23,
    "start_time": "2023-06-02T04:17:23.741Z"
   },
   {
    "duration": 24,
    "start_time": "2023-06-02T04:22:36.437Z"
   },
   {
    "duration": 23,
    "start_time": "2023-06-02T04:23:47.324Z"
   },
   {
    "duration": 22,
    "start_time": "2023-06-02T04:23:52.912Z"
   },
   {
    "duration": 4,
    "start_time": "2023-06-02T04:24:35.886Z"
   },
   {
    "duration": 4,
    "start_time": "2023-06-02T04:24:40.238Z"
   },
   {
    "duration": 9,
    "start_time": "2023-06-02T04:28:41.213Z"
   },
   {
    "duration": 9,
    "start_time": "2023-06-02T04:30:14.690Z"
   },
   {
    "duration": 6,
    "start_time": "2023-06-02T04:30:33.003Z"
   },
   {
    "duration": 2,
    "start_time": "2023-06-02T04:36:57.322Z"
   },
   {
    "duration": 2510,
    "start_time": "2023-06-02T04:38:31.310Z"
   },
   {
    "duration": 10,
    "start_time": "2023-06-02T04:39:05.771Z"
   },
   {
    "duration": 11,
    "start_time": "2023-06-02T04:40:51.449Z"
   },
   {
    "duration": 9,
    "start_time": "2023-06-02T04:42:26.660Z"
   },
   {
    "duration": 23,
    "start_time": "2023-06-02T04:44:53.025Z"
   },
   {
    "duration": 4,
    "start_time": "2023-06-02T04:45:53.538Z"
   },
   {
    "duration": 4,
    "start_time": "2023-06-02T04:46:02.498Z"
   },
   {
    "duration": 4,
    "start_time": "2023-06-02T04:46:07.322Z"
   },
   {
    "duration": 10,
    "start_time": "2023-06-02T04:51:25.814Z"
   },
   {
    "duration": 7,
    "start_time": "2023-06-02T04:53:34.342Z"
   },
   {
    "duration": 1360,
    "start_time": "2023-06-02T07:16:21.315Z"
   },
   {
    "duration": 77,
    "start_time": "2023-06-02T07:16:22.677Z"
   },
   {
    "duration": 11,
    "start_time": "2023-06-02T07:16:22.756Z"
   },
   {
    "duration": 10,
    "start_time": "2023-06-02T07:16:22.769Z"
   },
   {
    "duration": 24,
    "start_time": "2023-06-02T07:16:22.780Z"
   },
   {
    "duration": 6,
    "start_time": "2023-06-02T07:16:22.805Z"
   },
   {
    "duration": 13,
    "start_time": "2023-06-02T07:16:22.812Z"
   },
   {
    "duration": 6,
    "start_time": "2023-06-02T07:16:22.827Z"
   },
   {
    "duration": 120,
    "start_time": "2023-06-02T07:16:22.851Z"
   },
   {
    "duration": 10,
    "start_time": "2023-06-02T07:16:22.974Z"
   },
   {
    "duration": 19,
    "start_time": "2023-06-02T07:16:22.985Z"
   },
   {
    "duration": 27,
    "start_time": "2023-06-02T07:16:23.006Z"
   },
   {
    "duration": 22,
    "start_time": "2023-06-02T07:16:23.035Z"
   },
   {
    "duration": 6,
    "start_time": "2023-06-02T07:16:23.058Z"
   },
   {
    "duration": 12,
    "start_time": "2023-06-02T07:16:23.066Z"
   },
   {
    "duration": 12,
    "start_time": "2023-06-02T07:16:23.080Z"
   },
   {
    "duration": 34,
    "start_time": "2023-06-02T07:16:23.093Z"
   },
   {
    "duration": 24,
    "start_time": "2023-06-02T07:16:23.129Z"
   },
   {
    "duration": 41,
    "start_time": "2023-06-02T07:16:23.155Z"
   },
   {
    "duration": 30,
    "start_time": "2023-06-02T07:16:23.198Z"
   },
   {
    "duration": 8,
    "start_time": "2023-06-02T07:16:23.229Z"
   },
   {
    "duration": 9,
    "start_time": "2023-06-02T07:16:23.239Z"
   },
   {
    "duration": 320,
    "start_time": "2023-06-02T07:16:23.249Z"
   },
   {
    "duration": 311,
    "start_time": "2023-06-02T07:16:23.571Z"
   },
   {
    "duration": 241,
    "start_time": "2023-06-02T07:16:23.884Z"
   },
   {
    "duration": 387,
    "start_time": "2023-06-02T07:16:24.127Z"
   },
   {
    "duration": 239,
    "start_time": "2023-06-02T07:16:24.516Z"
   },
   {
    "duration": 292,
    "start_time": "2023-06-02T07:16:24.760Z"
   },
   {
    "duration": 11,
    "start_time": "2023-06-02T07:16:25.054Z"
   },
   {
    "duration": 134,
    "start_time": "2023-06-02T07:16:25.067Z"
   },
   {
    "duration": 138,
    "start_time": "2023-06-02T07:16:25.203Z"
   },
   {
    "duration": 5,
    "start_time": "2023-06-02T07:16:25.342Z"
   },
   {
    "duration": 362,
    "start_time": "2023-06-02T07:16:25.350Z"
   },
   {
    "duration": 159,
    "start_time": "2023-06-02T07:16:25.713Z"
   },
   {
    "duration": 146,
    "start_time": "2023-06-02T07:16:25.873Z"
   },
   {
    "duration": 4,
    "start_time": "2023-06-02T07:16:26.021Z"
   },
   {
    "duration": 9,
    "start_time": "2023-06-02T07:16:26.026Z"
   },
   {
    "duration": 14,
    "start_time": "2023-06-02T07:16:26.036Z"
   },
   {
    "duration": 6,
    "start_time": "2023-06-02T07:16:26.052Z"
   },
   {
    "duration": 24,
    "start_time": "2023-06-02T07:16:26.060Z"
   },
   {
    "duration": 4,
    "start_time": "2023-06-02T07:16:26.085Z"
   },
   {
    "duration": 19,
    "start_time": "2023-06-02T07:16:26.091Z"
   },
   {
    "duration": 5,
    "start_time": "2023-06-02T07:16:26.112Z"
   },
   {
    "duration": 12,
    "start_time": "2023-06-02T07:16:26.119Z"
   },
   {
    "duration": 9,
    "start_time": "2023-06-02T07:16:26.132Z"
   },
   {
    "duration": 20,
    "start_time": "2023-06-02T07:16:26.143Z"
   },
   {
    "duration": 3,
    "start_time": "2023-06-02T07:16:26.165Z"
   },
   {
    "duration": 9,
    "start_time": "2023-06-02T07:16:26.169Z"
   },
   {
    "duration": 12,
    "start_time": "2023-06-02T07:16:26.179Z"
   },
   {
    "duration": 49,
    "start_time": "2023-06-02T10:09:43.116Z"
   },
   {
    "duration": 1405,
    "start_time": "2023-06-02T10:09:48.425Z"
   },
   {
    "duration": 71,
    "start_time": "2023-06-02T10:09:51.665Z"
   },
   {
    "duration": 11,
    "start_time": "2023-06-02T10:10:23.357Z"
   },
   {
    "duration": 5,
    "start_time": "2023-06-02T10:10:24.299Z"
   },
   {
    "duration": 14,
    "start_time": "2023-06-02T10:12:07.564Z"
   },
   {
    "duration": 5,
    "start_time": "2023-06-02T10:12:13.265Z"
   },
   {
    "duration": 5,
    "start_time": "2023-06-02T10:12:36.589Z"
   },
   {
    "duration": 15,
    "start_time": "2023-06-02T10:13:39.402Z"
   },
   {
    "duration": 5,
    "start_time": "2023-06-02T10:13:41.669Z"
   },
   {
    "duration": 211,
    "start_time": "2023-06-02T10:14:16.890Z"
   },
   {
    "duration": 138,
    "start_time": "2023-06-02T10:21:52.201Z"
   },
   {
    "duration": 14,
    "start_time": "2023-06-02T10:21:52.888Z"
   },
   {
    "duration": 8,
    "start_time": "2023-06-02T10:21:54.677Z"
   },
   {
    "duration": 27,
    "start_time": "2023-06-02T10:21:55.200Z"
   },
   {
    "duration": 13,
    "start_time": "2023-06-02T10:23:31.577Z"
   },
   {
    "duration": 5,
    "start_time": "2023-06-02T10:23:32.017Z"
   },
   {
    "duration": 14,
    "start_time": "2023-06-02T10:23:32.377Z"
   },
   {
    "duration": 7,
    "start_time": "2023-06-02T10:23:33.778Z"
   },
   {
    "duration": 9,
    "start_time": "2023-06-02T10:23:34.290Z"
   },
   {
    "duration": 5,
    "start_time": "2023-06-02T10:23:51.577Z"
   },
   {
    "duration": 11,
    "start_time": "2023-06-02T10:23:53.489Z"
   },
   {
    "duration": 4,
    "start_time": "2023-06-02T10:23:55.077Z"
   },
   {
    "duration": 9,
    "start_time": "2023-06-02T10:23:57.290Z"
   },
   {
    "duration": 11,
    "start_time": "2023-06-02T10:30:30.817Z"
   },
   {
    "duration": 7,
    "start_time": "2023-06-02T10:30:52.653Z"
   },
   {
    "duration": 71,
    "start_time": "2023-06-02T10:31:04.505Z"
   },
   {
    "duration": 149,
    "start_time": "2023-06-02T10:31:10.393Z"
   },
   {
    "duration": 7,
    "start_time": "2023-06-02T10:31:30.917Z"
   },
   {
    "duration": 10,
    "start_time": "2023-06-02T10:31:56.357Z"
   },
   {
    "duration": 7,
    "start_time": "2023-06-02T10:31:59.705Z"
   },
   {
    "duration": 8,
    "start_time": "2023-06-02T10:32:10.881Z"
   },
   {
    "duration": 6,
    "start_time": "2023-06-02T10:35:10.854Z"
   },
   {
    "duration": 175,
    "start_time": "2023-06-02T10:35:20.300Z"
   },
   {
    "duration": 6,
    "start_time": "2023-06-02T10:35:23.874Z"
   },
   {
    "duration": 6,
    "start_time": "2023-06-02T10:37:25.366Z"
   },
   {
    "duration": 7,
    "start_time": "2023-06-02T10:37:29.374Z"
   },
   {
    "duration": 8,
    "start_time": "2023-06-02T10:37:36.588Z"
   },
   {
    "duration": 2107,
    "start_time": "2023-06-02T10:38:32.061Z"
   },
   {
    "duration": 1820,
    "start_time": "2023-06-02T10:38:40.278Z"
   },
   {
    "duration": 11,
    "start_time": "2023-06-02T10:38:54.565Z"
   },
   {
    "duration": 59,
    "start_time": "2023-06-02T10:40:13.864Z"
   },
   {
    "duration": 7,
    "start_time": "2023-06-02T10:40:19.658Z"
   },
   {
    "duration": 8,
    "start_time": "2023-06-02T10:41:15.768Z"
   },
   {
    "duration": 9,
    "start_time": "2023-06-02T10:41:22.693Z"
   },
   {
    "duration": 8,
    "start_time": "2023-06-02T10:41:45.949Z"
   },
   {
    "duration": 13,
    "start_time": "2023-06-02T10:43:33.710Z"
   },
   {
    "duration": 17,
    "start_time": "2023-06-02T10:43:55.998Z"
   },
   {
    "duration": 8,
    "start_time": "2023-06-02T10:44:09.649Z"
   },
   {
    "duration": 7,
    "start_time": "2023-06-02T10:44:18.212Z"
   },
   {
    "duration": 7,
    "start_time": "2023-06-02T10:44:26.341Z"
   },
   {
    "duration": 5,
    "start_time": "2023-06-02T10:55:17.361Z"
   },
   {
    "duration": 8,
    "start_time": "2023-06-02T10:55:21.819Z"
   },
   {
    "duration": 5,
    "start_time": "2023-06-02T10:56:05.677Z"
   },
   {
    "duration": 9,
    "start_time": "2023-06-02T10:57:15.712Z"
   },
   {
    "duration": 14,
    "start_time": "2023-06-02T11:00:32.670Z"
   },
   {
    "duration": 13,
    "start_time": "2023-06-02T11:00:58.794Z"
   },
   {
    "duration": 12,
    "start_time": "2023-06-02T11:01:34.296Z"
   },
   {
    "duration": 6,
    "start_time": "2023-06-02T11:01:46.995Z"
   },
   {
    "duration": 14,
    "start_time": "2023-06-02T11:02:25.565Z"
   },
   {
    "duration": 15,
    "start_time": "2023-06-02T11:02:40.409Z"
   },
   {
    "duration": 9,
    "start_time": "2023-06-02T11:06:09.807Z"
   },
   {
    "duration": 12,
    "start_time": "2023-06-02T11:06:22.070Z"
   },
   {
    "duration": 9,
    "start_time": "2023-06-02T11:06:45.342Z"
   },
   {
    "duration": 12,
    "start_time": "2023-06-02T11:07:08.799Z"
   },
   {
    "duration": 14,
    "start_time": "2023-06-02T11:07:20.495Z"
   },
   {
    "duration": 8,
    "start_time": "2023-06-02T11:07:41.896Z"
   },
   {
    "duration": 12,
    "start_time": "2023-06-02T11:07:42.685Z"
   },
   {
    "duration": 16,
    "start_time": "2023-06-02T11:07:58.055Z"
   },
   {
    "duration": 11,
    "start_time": "2023-06-02T11:08:03.262Z"
   },
   {
    "duration": 9,
    "start_time": "2023-06-02T11:11:12.383Z"
   },
   {
    "duration": 9,
    "start_time": "2023-06-02T11:11:20.258Z"
   },
   {
    "duration": 15,
    "start_time": "2023-06-02T11:11:29.597Z"
   },
   {
    "duration": 14,
    "start_time": "2023-06-02T11:11:33.326Z"
   },
   {
    "duration": 9,
    "start_time": "2023-06-02T11:11:50.071Z"
   },
   {
    "duration": 10,
    "start_time": "2023-06-02T11:16:51.802Z"
   },
   {
    "duration": 9,
    "start_time": "2023-06-02T11:17:10.403Z"
   },
   {
    "duration": 13,
    "start_time": "2023-06-02T11:17:26.193Z"
   },
   {
    "duration": 13,
    "start_time": "2023-06-02T11:17:31.716Z"
   },
   {
    "duration": 7,
    "start_time": "2023-06-02T11:22:07.349Z"
   },
   {
    "duration": 7,
    "start_time": "2023-06-02T11:23:28.800Z"
   },
   {
    "duration": 15,
    "start_time": "2023-06-02T11:23:37.545Z"
   },
   {
    "duration": 4,
    "start_time": "2023-06-02T11:23:51.961Z"
   },
   {
    "duration": 62,
    "start_time": "2023-06-02T11:23:51.968Z"
   },
   {
    "duration": 15,
    "start_time": "2023-06-02T11:23:52.032Z"
   },
   {
    "duration": 8,
    "start_time": "2023-06-02T11:23:52.050Z"
   },
   {
    "duration": 29,
    "start_time": "2023-06-02T11:23:52.061Z"
   },
   {
    "duration": 11,
    "start_time": "2023-06-02T11:23:52.092Z"
   },
   {
    "duration": 38,
    "start_time": "2023-06-02T11:23:52.105Z"
   },
   {
    "duration": 7,
    "start_time": "2023-06-02T11:23:52.146Z"
   },
   {
    "duration": 216,
    "start_time": "2023-06-02T11:23:52.155Z"
   },
   {
    "duration": 50,
    "start_time": "2023-06-02T11:23:52.373Z"
   },
   {
    "duration": 12,
    "start_time": "2023-06-02T11:23:52.425Z"
   },
   {
    "duration": 18,
    "start_time": "2023-06-02T11:23:52.439Z"
   },
   {
    "duration": 28,
    "start_time": "2023-06-02T11:23:52.460Z"
   },
   {
    "duration": 14,
    "start_time": "2023-06-02T11:23:52.490Z"
   },
   {
    "duration": 7,
    "start_time": "2023-06-02T11:23:52.506Z"
   },
   {
    "duration": 28,
    "start_time": "2023-06-02T11:23:52.515Z"
   },
   {
    "duration": 16,
    "start_time": "2023-06-02T11:23:52.545Z"
   },
   {
    "duration": 22,
    "start_time": "2023-06-02T11:23:52.563Z"
   },
   {
    "duration": 21,
    "start_time": "2023-06-02T11:23:52.587Z"
   },
   {
    "duration": 12,
    "start_time": "2023-06-02T11:23:52.611Z"
   },
   {
    "duration": 13,
    "start_time": "2023-06-02T11:23:52.626Z"
   },
   {
    "duration": 8,
    "start_time": "2023-06-02T11:23:52.641Z"
   },
   {
    "duration": 10,
    "start_time": "2023-06-02T11:23:57.249Z"
   },
   {
    "duration": 12,
    "start_time": "2023-06-02T11:24:19.949Z"
   },
   {
    "duration": 10,
    "start_time": "2023-06-02T11:25:16.746Z"
   },
   {
    "duration": 13,
    "start_time": "2023-06-02T11:26:00.611Z"
   },
   {
    "duration": 19,
    "start_time": "2023-06-02T11:26:08.345Z"
   },
   {
    "duration": 6,
    "start_time": "2023-06-02T11:26:40.297Z"
   },
   {
    "duration": 18,
    "start_time": "2023-06-02T11:26:50.874Z"
   },
   {
    "duration": 11,
    "start_time": "2023-06-02T11:29:08.961Z"
   },
   {
    "duration": 8,
    "start_time": "2023-06-02T11:29:12.545Z"
   },
   {
    "duration": 8,
    "start_time": "2023-06-02T11:33:59.803Z"
   },
   {
    "duration": 9,
    "start_time": "2023-06-02T11:34:12.265Z"
   },
   {
    "duration": 6,
    "start_time": "2023-06-02T11:34:17.853Z"
   },
   {
    "duration": 319,
    "start_time": "2023-06-02T11:34:53.373Z"
   },
   {
    "duration": 298,
    "start_time": "2023-06-02T11:35:21.367Z"
   },
   {
    "duration": 218,
    "start_time": "2023-06-02T11:35:33.042Z"
   },
   {
    "duration": 376,
    "start_time": "2023-06-02T11:35:45.205Z"
   },
   {
    "duration": 227,
    "start_time": "2023-06-02T11:36:05.005Z"
   },
   {
    "duration": 362,
    "start_time": "2023-06-02T11:36:18.144Z"
   },
   {
    "duration": 11,
    "start_time": "2023-06-02T11:36:24.941Z"
   },
   {
    "duration": 124,
    "start_time": "2023-06-02T11:36:25.478Z"
   },
   {
    "duration": 249,
    "start_time": "2023-06-02T11:36:40.739Z"
   },
   {
    "duration": 5,
    "start_time": "2023-06-02T11:36:45.490Z"
   },
   {
    "duration": 269,
    "start_time": "2023-06-02T11:36:49.416Z"
   },
   {
    "duration": 149,
    "start_time": "2023-06-02T11:36:56.745Z"
   },
   {
    "duration": 167,
    "start_time": "2023-06-02T11:36:58.379Z"
   },
   {
    "duration": 5,
    "start_time": "2023-06-02T11:38:41.093Z"
   },
   {
    "duration": 3,
    "start_time": "2023-06-02T11:38:45.093Z"
   },
   {
    "duration": 283,
    "start_time": "2023-06-02T11:39:41.981Z"
   },
   {
    "duration": 145,
    "start_time": "2023-06-02T11:39:42.387Z"
   },
   {
    "duration": 155,
    "start_time": "2023-06-02T11:39:42.843Z"
   },
   {
    "duration": 5,
    "start_time": "2023-06-02T11:39:44.740Z"
   },
   {
    "duration": 3,
    "start_time": "2023-06-02T11:40:42.837Z"
   },
   {
    "duration": 2,
    "start_time": "2023-06-02T11:40:46.595Z"
   },
   {
    "duration": 14,
    "start_time": "2023-06-02T11:40:48.657Z"
   },
   {
    "duration": 12,
    "start_time": "2023-06-02T11:40:49.293Z"
   },
   {
    "duration": 31,
    "start_time": "2023-06-02T11:41:08.344Z"
   },
   {
    "duration": 5,
    "start_time": "2023-06-02T11:41:40.945Z"
   },
   {
    "duration": 10,
    "start_time": "2023-06-02T11:41:48.547Z"
   },
   {
    "duration": 8,
    "start_time": "2023-06-02T11:41:49.739Z"
   },
   {
    "duration": 14,
    "start_time": "2023-06-02T11:42:28.546Z"
   },
   {
    "duration": 13,
    "start_time": "2023-06-02T11:44:00.271Z"
   },
   {
    "duration": 23,
    "start_time": "2023-06-02T11:44:05.072Z"
   },
   {
    "duration": 6,
    "start_time": "2023-06-02T11:44:06.838Z"
   },
   {
    "duration": 13,
    "start_time": "2023-06-02T11:44:16.296Z"
   },
   {
    "duration": 9,
    "start_time": "2023-06-02T11:44:48.486Z"
   },
   {
    "duration": 1123,
    "start_time": "2023-06-02T11:45:49.299Z"
   },
   {
    "duration": 41,
    "start_time": "2023-06-02T11:45:50.425Z"
   },
   {
    "duration": 15,
    "start_time": "2023-06-02T11:45:50.468Z"
   },
   {
    "duration": 21,
    "start_time": "2023-06-02T11:45:50.485Z"
   },
   {
    "duration": 17,
    "start_time": "2023-06-02T11:45:50.507Z"
   },
   {
    "duration": 6,
    "start_time": "2023-06-02T11:45:50.525Z"
   },
   {
    "duration": 27,
    "start_time": "2023-06-02T11:45:50.533Z"
   },
   {
    "duration": 6,
    "start_time": "2023-06-02T11:45:50.561Z"
   },
   {
    "duration": 222,
    "start_time": "2023-06-02T11:45:50.569Z"
   },
   {
    "duration": 49,
    "start_time": "2023-06-02T11:45:50.794Z"
   },
   {
    "duration": 12,
    "start_time": "2023-06-02T11:45:50.845Z"
   },
   {
    "duration": 17,
    "start_time": "2023-06-02T11:45:50.858Z"
   },
   {
    "duration": 24,
    "start_time": "2023-06-02T11:45:50.877Z"
   },
   {
    "duration": 21,
    "start_time": "2023-06-02T11:45:50.903Z"
   },
   {
    "duration": 12,
    "start_time": "2023-06-02T11:45:50.926Z"
   },
   {
    "duration": 13,
    "start_time": "2023-06-02T11:45:50.941Z"
   },
   {
    "duration": 18,
    "start_time": "2023-06-02T11:45:50.957Z"
   },
   {
    "duration": 10,
    "start_time": "2023-06-02T11:45:50.976Z"
   },
   {
    "duration": 15,
    "start_time": "2023-06-02T11:45:50.988Z"
   },
   {
    "duration": 22,
    "start_time": "2023-06-02T11:45:51.005Z"
   },
   {
    "duration": 13,
    "start_time": "2023-06-02T11:45:51.029Z"
   },
   {
    "duration": 4,
    "start_time": "2023-06-02T11:45:51.044Z"
   },
   {
    "duration": 13,
    "start_time": "2023-06-02T11:45:51.050Z"
   },
   {
    "duration": 8,
    "start_time": "2023-06-02T11:45:51.064Z"
   },
   {
    "duration": 13,
    "start_time": "2023-06-02T11:45:51.074Z"
   },
   {
    "duration": 14,
    "start_time": "2023-06-02T11:45:51.088Z"
   },
   {
    "duration": 6,
    "start_time": "2023-06-02T11:45:51.104Z"
   },
   {
    "duration": 348,
    "start_time": "2023-06-02T11:45:51.113Z"
   },
   {
    "duration": 282,
    "start_time": "2023-06-02T11:45:51.463Z"
   },
   {
    "duration": 224,
    "start_time": "2023-06-02T11:45:51.748Z"
   },
   {
    "duration": 287,
    "start_time": "2023-06-02T11:45:51.974Z"
   },
   {
    "duration": 229,
    "start_time": "2023-06-02T11:45:52.263Z"
   },
   {
    "duration": 291,
    "start_time": "2023-06-02T11:45:52.494Z"
   },
   {
    "duration": 11,
    "start_time": "2023-06-02T11:45:52.787Z"
   },
   {
    "duration": 143,
    "start_time": "2023-06-02T11:45:52.800Z"
   },
   {
    "duration": 227,
    "start_time": "2023-06-02T11:45:52.946Z"
   },
   {
    "duration": 5,
    "start_time": "2023-06-02T11:45:53.175Z"
   },
   {
    "duration": 24,
    "start_time": "2023-06-02T11:45:53.183Z"
   },
   {
    "duration": 286,
    "start_time": "2023-06-02T11:45:53.209Z"
   },
   {
    "duration": 158,
    "start_time": "2023-06-02T11:45:53.497Z"
   },
   {
    "duration": 161,
    "start_time": "2023-06-02T11:45:53.657Z"
   },
   {
    "duration": 5,
    "start_time": "2023-06-02T11:45:53.820Z"
   },
   {
    "duration": 18,
    "start_time": "2023-06-02T11:45:53.827Z"
   },
   {
    "duration": 38,
    "start_time": "2023-06-02T11:45:53.847Z"
   },
   {
    "duration": 19,
    "start_time": "2023-06-02T11:45:53.887Z"
   },
   {
    "duration": 8,
    "start_time": "2023-06-02T11:45:53.908Z"
   },
   {
    "duration": 69,
    "start_time": "2023-06-02T11:45:53.918Z"
   },
   {
    "duration": 11,
    "start_time": "2023-06-02T11:45:53.989Z"
   },
   {
    "duration": 31,
    "start_time": "2023-06-02T11:45:54.002Z"
   },
   {
    "duration": 10,
    "start_time": "2023-06-02T11:45:54.034Z"
   },
   {
    "duration": 14,
    "start_time": "2023-06-02T11:45:54.046Z"
   },
   {
    "duration": 22,
    "start_time": "2023-06-02T11:45:54.062Z"
   },
   {
    "duration": 28,
    "start_time": "2023-06-02T11:45:54.086Z"
   },
   {
    "duration": 6,
    "start_time": "2023-06-02T11:45:54.116Z"
   },
   {
    "duration": 41,
    "start_time": "2023-06-02T11:45:54.124Z"
   },
   {
    "duration": 24,
    "start_time": "2023-06-02T11:45:54.167Z"
   },
   {
    "duration": 1042,
    "start_time": "2023-06-02T12:15:58.992Z"
   },
   {
    "duration": 75,
    "start_time": "2023-06-02T12:16:00.036Z"
   },
   {
    "duration": 9,
    "start_time": "2023-06-02T12:16:00.113Z"
   },
   {
    "duration": 38,
    "start_time": "2023-06-02T12:16:00.124Z"
   },
   {
    "duration": 25,
    "start_time": "2023-06-02T12:16:00.164Z"
   },
   {
    "duration": 38,
    "start_time": "2023-06-02T12:16:00.190Z"
   },
   {
    "duration": 59,
    "start_time": "2023-06-02T12:16:00.230Z"
   },
   {
    "duration": 53,
    "start_time": "2023-06-02T12:16:00.291Z"
   },
   {
    "duration": 213,
    "start_time": "2023-06-02T12:16:00.346Z"
   },
   {
    "duration": 125,
    "start_time": "2023-06-02T12:16:00.561Z"
   },
   {
    "duration": 13,
    "start_time": "2023-06-02T12:16:00.688Z"
   },
   {
    "duration": 78,
    "start_time": "2023-06-02T12:16:00.703Z"
   },
   {
    "duration": 90,
    "start_time": "2023-06-02T12:16:00.782Z"
   },
   {
    "duration": 49,
    "start_time": "2023-06-02T12:16:00.874Z"
   },
   {
    "duration": 44,
    "start_time": "2023-06-02T12:16:00.925Z"
   },
   {
    "duration": 45,
    "start_time": "2023-06-02T12:16:00.970Z"
   },
   {
    "duration": 46,
    "start_time": "2023-06-02T12:16:01.017Z"
   },
   {
    "duration": 39,
    "start_time": "2023-06-02T12:16:01.064Z"
   },
   {
    "duration": 72,
    "start_time": "2023-06-02T12:16:01.104Z"
   },
   {
    "duration": 44,
    "start_time": "2023-06-02T12:16:01.178Z"
   },
   {
    "duration": 29,
    "start_time": "2023-06-02T12:16:01.224Z"
   },
   {
    "duration": 69,
    "start_time": "2023-06-02T12:16:01.255Z"
   },
   {
    "duration": 31,
    "start_time": "2023-06-02T12:16:01.326Z"
   },
   {
    "duration": 52,
    "start_time": "2023-06-02T12:16:01.358Z"
   },
   {
    "duration": 33,
    "start_time": "2023-06-02T12:16:01.412Z"
   },
   {
    "duration": 44,
    "start_time": "2023-06-02T12:16:01.446Z"
   },
   {
    "duration": 30,
    "start_time": "2023-06-02T12:16:01.492Z"
   },
   {
    "duration": 367,
    "start_time": "2023-06-02T12:16:01.526Z"
   },
   {
    "duration": 0,
    "start_time": "2023-06-02T12:16:01.895Z"
   },
   {
    "duration": 0,
    "start_time": "2023-06-02T12:16:01.896Z"
   },
   {
    "duration": 0,
    "start_time": "2023-06-02T12:16:01.898Z"
   },
   {
    "duration": 0,
    "start_time": "2023-06-02T12:16:01.899Z"
   },
   {
    "duration": 0,
    "start_time": "2023-06-02T12:16:01.906Z"
   },
   {
    "duration": 0,
    "start_time": "2023-06-02T12:16:01.907Z"
   },
   {
    "duration": 0,
    "start_time": "2023-06-02T12:16:01.907Z"
   },
   {
    "duration": 0,
    "start_time": "2023-06-02T12:16:01.909Z"
   },
   {
    "duration": 0,
    "start_time": "2023-06-02T12:16:01.909Z"
   },
   {
    "duration": 0,
    "start_time": "2023-06-02T12:16:01.911Z"
   },
   {
    "duration": 0,
    "start_time": "2023-06-02T12:16:01.912Z"
   },
   {
    "duration": 0,
    "start_time": "2023-06-02T12:16:01.913Z"
   },
   {
    "duration": 0,
    "start_time": "2023-06-02T12:16:01.915Z"
   },
   {
    "duration": 0,
    "start_time": "2023-06-02T12:16:01.916Z"
   },
   {
    "duration": 0,
    "start_time": "2023-06-02T12:16:01.917Z"
   },
   {
    "duration": 0,
    "start_time": "2023-06-02T12:16:01.918Z"
   },
   {
    "duration": 0,
    "start_time": "2023-06-02T12:16:01.919Z"
   },
   {
    "duration": 0,
    "start_time": "2023-06-02T12:16:01.921Z"
   },
   {
    "duration": 0,
    "start_time": "2023-06-02T12:16:01.922Z"
   },
   {
    "duration": 0,
    "start_time": "2023-06-02T12:16:01.923Z"
   },
   {
    "duration": 0,
    "start_time": "2023-06-02T12:16:01.924Z"
   },
   {
    "duration": 0,
    "start_time": "2023-06-02T12:16:01.925Z"
   },
   {
    "duration": 0,
    "start_time": "2023-06-02T12:16:01.926Z"
   },
   {
    "duration": 0,
    "start_time": "2023-06-02T12:16:01.927Z"
   },
   {
    "duration": 0,
    "start_time": "2023-06-02T12:16:01.928Z"
   },
   {
    "duration": 0,
    "start_time": "2023-06-02T12:16:01.929Z"
   },
   {
    "duration": 0,
    "start_time": "2023-06-02T12:16:01.930Z"
   },
   {
    "duration": 0,
    "start_time": "2023-06-02T12:16:01.931Z"
   },
   {
    "duration": 1033,
    "start_time": "2023-06-02T12:16:19.889Z"
   },
   {
    "duration": 34,
    "start_time": "2023-06-02T12:16:20.923Z"
   },
   {
    "duration": 10,
    "start_time": "2023-06-02T12:16:20.958Z"
   },
   {
    "duration": 23,
    "start_time": "2023-06-02T12:16:20.970Z"
   },
   {
    "duration": 31,
    "start_time": "2023-06-02T12:16:20.994Z"
   },
   {
    "duration": 3,
    "start_time": "2023-06-02T12:16:21.027Z"
   },
   {
    "duration": 22,
    "start_time": "2023-06-02T12:16:21.032Z"
   },
   {
    "duration": 5,
    "start_time": "2023-06-02T12:16:21.056Z"
   },
   {
    "duration": 180,
    "start_time": "2023-06-02T12:16:21.062Z"
   },
   {
    "duration": 48,
    "start_time": "2023-06-02T12:16:21.244Z"
   },
   {
    "duration": 10,
    "start_time": "2023-06-02T12:16:21.293Z"
   },
   {
    "duration": 9,
    "start_time": "2023-06-02T12:16:21.304Z"
   },
   {
    "duration": 9,
    "start_time": "2023-06-02T12:16:21.314Z"
   },
   {
    "duration": 13,
    "start_time": "2023-06-02T12:16:21.324Z"
   },
   {
    "duration": 5,
    "start_time": "2023-06-02T12:16:21.339Z"
   },
   {
    "duration": 10,
    "start_time": "2023-06-02T12:16:21.345Z"
   },
   {
    "duration": 7,
    "start_time": "2023-06-02T12:16:21.357Z"
   },
   {
    "duration": 12,
    "start_time": "2023-06-02T12:16:21.366Z"
   },
   {
    "duration": 16,
    "start_time": "2023-06-02T12:16:21.380Z"
   },
   {
    "duration": 10,
    "start_time": "2023-06-02T12:16:21.397Z"
   },
   {
    "duration": 10,
    "start_time": "2023-06-02T12:16:21.408Z"
   },
   {
    "duration": 7,
    "start_time": "2023-06-02T12:16:21.419Z"
   },
   {
    "duration": 7,
    "start_time": "2023-06-02T12:16:21.427Z"
   },
   {
    "duration": 10,
    "start_time": "2023-06-02T12:16:21.435Z"
   },
   {
    "duration": 11,
    "start_time": "2023-06-02T12:16:21.447Z"
   },
   {
    "duration": 6,
    "start_time": "2023-06-02T12:16:21.459Z"
   },
   {
    "duration": 5,
    "start_time": "2023-06-02T12:16:21.466Z"
   },
   {
    "duration": 319,
    "start_time": "2023-06-02T12:16:21.474Z"
   },
   {
    "duration": 255,
    "start_time": "2023-06-02T12:16:21.794Z"
   },
   {
    "duration": 179,
    "start_time": "2023-06-02T12:16:22.050Z"
   },
   {
    "duration": 302,
    "start_time": "2023-06-02T12:16:22.231Z"
   },
   {
    "duration": 222,
    "start_time": "2023-06-02T12:16:22.535Z"
   },
   {
    "duration": 256,
    "start_time": "2023-06-02T12:16:22.758Z"
   },
   {
    "duration": 10,
    "start_time": "2023-06-02T12:16:23.016Z"
   },
   {
    "duration": 124,
    "start_time": "2023-06-02T12:16:23.028Z"
   },
   {
    "duration": 115,
    "start_time": "2023-06-02T12:16:23.154Z"
   },
   {
    "duration": 4,
    "start_time": "2023-06-02T12:16:23.271Z"
   },
   {
    "duration": 7,
    "start_time": "2023-06-02T12:16:23.276Z"
   },
   {
    "duration": 286,
    "start_time": "2023-06-02T12:16:23.284Z"
   },
   {
    "duration": 129,
    "start_time": "2023-06-02T12:16:23.572Z"
   },
   {
    "duration": 182,
    "start_time": "2023-06-02T12:16:23.703Z"
   },
   {
    "duration": 3,
    "start_time": "2023-06-02T12:16:23.887Z"
   },
   {
    "duration": 2,
    "start_time": "2023-06-02T12:16:23.906Z"
   },
   {
    "duration": 8,
    "start_time": "2023-06-02T12:16:23.910Z"
   },
   {
    "duration": 22,
    "start_time": "2023-06-02T12:16:23.919Z"
   },
   {
    "duration": 8,
    "start_time": "2023-06-02T12:16:23.944Z"
   },
   {
    "duration": 20,
    "start_time": "2023-06-02T12:16:23.954Z"
   },
   {
    "duration": 8,
    "start_time": "2023-06-02T12:16:23.975Z"
   },
   {
    "duration": 25,
    "start_time": "2023-06-02T12:16:23.985Z"
   },
   {
    "duration": 6,
    "start_time": "2023-06-02T12:16:24.012Z"
   },
   {
    "duration": 13,
    "start_time": "2023-06-02T12:16:24.019Z"
   },
   {
    "duration": 12,
    "start_time": "2023-06-02T12:16:24.034Z"
   },
   {
    "duration": 19,
    "start_time": "2023-06-02T12:16:24.047Z"
   },
   {
    "duration": 3,
    "start_time": "2023-06-02T12:16:24.068Z"
   },
   {
    "duration": 41,
    "start_time": "2023-06-02T12:16:24.073Z"
   },
   {
    "duration": 14,
    "start_time": "2023-06-02T12:16:24.116Z"
   },
   {
    "duration": 1048,
    "start_time": "2023-06-02T12:16:43.275Z"
   },
   {
    "duration": 34,
    "start_time": "2023-06-02T12:16:44.325Z"
   },
   {
    "duration": 10,
    "start_time": "2023-06-02T12:16:44.361Z"
   },
   {
    "duration": 12,
    "start_time": "2023-06-02T12:16:44.372Z"
   },
   {
    "duration": 11,
    "start_time": "2023-06-02T12:16:44.385Z"
   },
   {
    "duration": 6,
    "start_time": "2023-06-02T12:16:44.397Z"
   },
   {
    "duration": 21,
    "start_time": "2023-06-02T12:16:44.404Z"
   },
   {
    "duration": 24,
    "start_time": "2023-06-02T12:16:44.427Z"
   },
   {
    "duration": 180,
    "start_time": "2023-06-02T12:16:44.452Z"
   },
   {
    "duration": 49,
    "start_time": "2023-06-02T12:16:44.633Z"
   },
   {
    "duration": 9,
    "start_time": "2023-06-02T12:16:44.683Z"
   },
   {
    "duration": 15,
    "start_time": "2023-06-02T12:16:44.694Z"
   },
   {
    "duration": 20,
    "start_time": "2023-06-02T12:16:44.710Z"
   },
   {
    "duration": 9,
    "start_time": "2023-06-02T12:16:44.732Z"
   },
   {
    "duration": 9,
    "start_time": "2023-06-02T12:16:44.742Z"
   },
   {
    "duration": 19,
    "start_time": "2023-06-02T12:16:44.752Z"
   },
   {
    "duration": 20,
    "start_time": "2023-06-02T12:16:44.772Z"
   },
   {
    "duration": 21,
    "start_time": "2023-06-02T12:16:44.793Z"
   },
   {
    "duration": 24,
    "start_time": "2023-06-02T12:16:44.815Z"
   },
   {
    "duration": 14,
    "start_time": "2023-06-02T12:16:44.840Z"
   },
   {
    "duration": 20,
    "start_time": "2023-06-02T12:16:44.856Z"
   },
   {
    "duration": 5,
    "start_time": "2023-06-02T12:16:44.877Z"
   },
   {
    "duration": 24,
    "start_time": "2023-06-02T12:16:44.883Z"
   },
   {
    "duration": 9,
    "start_time": "2023-06-02T12:16:44.909Z"
   },
   {
    "duration": 11,
    "start_time": "2023-06-02T12:16:44.919Z"
   },
   {
    "duration": 14,
    "start_time": "2023-06-02T12:16:44.931Z"
   },
   {
    "duration": 5,
    "start_time": "2023-06-02T12:16:44.946Z"
   },
   {
    "duration": 290,
    "start_time": "2023-06-02T12:16:44.952Z"
   },
   {
    "duration": 249,
    "start_time": "2023-06-02T12:16:45.243Z"
   },
   {
    "duration": 177,
    "start_time": "2023-06-02T12:16:45.494Z"
   },
   {
    "duration": 269,
    "start_time": "2023-06-02T12:16:45.672Z"
   },
   {
    "duration": 201,
    "start_time": "2023-06-02T12:16:45.944Z"
   },
   {
    "duration": 259,
    "start_time": "2023-06-02T12:16:46.147Z"
   },
   {
    "duration": 11,
    "start_time": "2023-06-02T12:16:46.407Z"
   },
   {
    "duration": 119,
    "start_time": "2023-06-02T12:16:46.419Z"
   },
   {
    "duration": 187,
    "start_time": "2023-06-02T12:16:46.539Z"
   },
   {
    "duration": 4,
    "start_time": "2023-06-02T12:16:46.728Z"
   },
   {
    "duration": 4,
    "start_time": "2023-06-02T12:16:46.733Z"
   },
   {
    "duration": 255,
    "start_time": "2023-06-02T12:16:46.738Z"
   },
   {
    "duration": 137,
    "start_time": "2023-06-02T12:16:46.996Z"
   },
   {
    "duration": 125,
    "start_time": "2023-06-02T12:16:47.137Z"
   },
   {
    "duration": 4,
    "start_time": "2023-06-02T12:16:47.264Z"
   },
   {
    "duration": 7,
    "start_time": "2023-06-02T12:16:47.269Z"
   },
   {
    "duration": 16,
    "start_time": "2023-06-02T12:16:47.277Z"
   },
   {
    "duration": 14,
    "start_time": "2023-06-02T12:16:47.294Z"
   },
   {
    "duration": 6,
    "start_time": "2023-06-02T12:16:47.310Z"
   },
   {
    "duration": 32,
    "start_time": "2023-06-02T12:16:47.318Z"
   },
   {
    "duration": 4,
    "start_time": "2023-06-02T12:16:47.351Z"
   },
   {
    "duration": 26,
    "start_time": "2023-06-02T12:16:47.356Z"
   },
   {
    "duration": 4,
    "start_time": "2023-06-02T12:16:47.384Z"
   },
   {
    "duration": 16,
    "start_time": "2023-06-02T12:16:47.390Z"
   },
   {
    "duration": 15,
    "start_time": "2023-06-02T12:16:47.407Z"
   },
   {
    "duration": 34,
    "start_time": "2023-06-02T12:16:47.424Z"
   },
   {
    "duration": 10,
    "start_time": "2023-06-02T12:16:47.459Z"
   },
   {
    "duration": 14,
    "start_time": "2023-06-02T12:16:47.470Z"
   },
   {
    "duration": 8,
    "start_time": "2023-06-02T12:16:47.486Z"
   }
  ],
  "kernelspec": {
   "display_name": "Python 3",
   "language": "python",
   "name": "python3"
  },
  "language_info": {
   "codemirror_mode": {
    "name": "ipython",
    "version": 3
   },
   "file_extension": ".py",
   "mimetype": "text/x-python",
   "name": "python",
   "nbconvert_exporter": "python",
   "pygments_lexer": "ipython3",
   "version": "3.10.9"
  },
  "toc": {
   "base_numbering": 1,
   "nav_menu": {},
   "number_sections": true,
   "sideBar": true,
   "skip_h1_title": true,
   "title_cell": "Table of Contents",
   "title_sidebar": "Contents",
   "toc_cell": false,
   "toc_position": {
    "height": "calc(100% - 180px)",
    "left": "10px",
    "top": "150px",
    "width": "275px"
   },
   "toc_section_display": true,
   "toc_window_display": false
  }
 },
 "nbformat": 4,
 "nbformat_minor": 2
}
