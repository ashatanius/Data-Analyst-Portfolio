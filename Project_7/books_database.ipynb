{
 "cells": [
  {
   "cell_type": "markdown",
   "id": "0dbc4f3e",
   "metadata": {},
   "source": [
    "# Ad-hoc запросы к базе данных сервиса чтения книг\n",
    "\n",
    "Выполнила Наталья Яковлева, когорта 67."
   ]
  },
  {
   "cell_type": "markdown",
   "id": "2990c511",
   "metadata": {},
   "source": [
    "<b> Контекст </b> коронавирус застал мир врасплох, изменив привычный порядок вещей. В свободное время жители городов больше не выходят на улицу, не посещают кафе и торговые центры. Зато стало больше времени для книг. Это заметили стартаперы — и бросились создавать приложения для тех, кто любит читать. Ваша компания решила быть на волне и купила крупный сервис для чтения книг по подписке. \n",
    "\n",
    "<b> Задача: </b> проанализировать базу данных.\n",
    "\n",
    "<b> Описание данных: </b>\n",
    "- Таблица `books` содержит данные о книгах; \n",
    "- Таблица `authors` содержит данные об авторах; \n",
    "- Таблица `publishers` содержит данные об издательствах;\n",
    "- Таблица `ratings` содержит данные о пользовательских оценках книг;\n",
    "- Таблица `reviews` содержит данные о пользовательских обзорах на книги.\n",
    "\n",
    "<b> Задания: </b> \n",
    "- Посчитайте, сколько книг вышло после 1 января 2000 года;\n",
    "- Для каждой книги посчитайте количество обзоров и среднюю оценку;\n",
    "- Определите издательство, которое выпустило наибольшее число книг толще 50 страниц — так вы исключите из анализа брошюры;\n",
    "- Определите автора с самой высокой средней оценкой книг — учитывайте только книги с 50 и более оценками;\n",
    "- Посчитайте среднее количество обзоров от пользователей, которые поставили больше 48 оценок.\n",
    "\n",
    "<b> Ход проекта: </b>\n",
    "1. [Чтение данных](#reading)\n",
    "2. [Запрос 1](#query1)\n",
    "3. [Запрос 2](#query2)\n",
    "4. [Запрос 3](#query3)\n",
    "5. [Запрос 4](#query4)\n",
    "6. [Запрос 5](#query5)\n",
    "7. [Общий вывод](#ending)"
   ]
  },
  {
   "cell_type": "code",
   "execution_count": 23,
   "id": "bc6328b3",
   "metadata": {},
   "outputs": [],
   "source": [
    "# импортируем библиотеки\n",
    "import pandas as pd\n",
    "from sqlalchemy import text, create_engine\n",
    "\n",
    "# устанавливаем параметры\n",
    "# db_config = {'user': '', # имя пользователя\n",
    "# 'pwd': '', # пароль\n",
    "# 'host': '',\n",
    "# 'port': , # порт подключения\n",
    "# 'db': ''} # название базы данных\n",
    "#connection_string = 'postgresql://{user}:{pwd}@{host}:{port}/{db}'.format(**db_config)\n",
    "\n",
    "# сохраняем коннектор\n",
    "#engine = create_engine(connection_string, connect_args={'sslmode':'require'})"
   ]
  },
  {
   "cell_type": "markdown",
   "id": "40ae74d9",
   "metadata": {},
   "source": [
    "## Загрузка таблиц <a name=\"reading\"></a>"
   ]
  },
  {
   "cell_type": "markdown",
   "id": "d4b5c5bd",
   "metadata": {},
   "source": [
    "### Таблица `books`"
   ]
  },
  {
   "cell_type": "code",
   "execution_count": 2,
   "id": "e5162824",
   "metadata": {},
   "outputs": [
    {
     "data": {
      "text/html": [
       "<div>\n",
       "<style scoped>\n",
       "    .dataframe tbody tr th:only-of-type {\n",
       "        vertical-align: middle;\n",
       "    }\n",
       "\n",
       "    .dataframe tbody tr th {\n",
       "        vertical-align: top;\n",
       "    }\n",
       "\n",
       "    .dataframe thead th {\n",
       "        text-align: right;\n",
       "    }\n",
       "</style>\n",
       "<table border=\"1\" class=\"dataframe\">\n",
       "  <thead>\n",
       "    <tr style=\"text-align: right;\">\n",
       "      <th></th>\n",
       "      <th>book_id</th>\n",
       "      <th>author_id</th>\n",
       "      <th>title</th>\n",
       "      <th>num_pages</th>\n",
       "      <th>publication_date</th>\n",
       "      <th>publisher_id</th>\n",
       "    </tr>\n",
       "  </thead>\n",
       "  <tbody>\n",
       "    <tr>\n",
       "      <th>0</th>\n",
       "      <td>1</td>\n",
       "      <td>546</td>\n",
       "      <td>'Salem's Lot</td>\n",
       "      <td>594</td>\n",
       "      <td>2005-11-01</td>\n",
       "      <td>93</td>\n",
       "    </tr>\n",
       "    <tr>\n",
       "      <th>1</th>\n",
       "      <td>2</td>\n",
       "      <td>465</td>\n",
       "      <td>1 000 Places to See Before You Die</td>\n",
       "      <td>992</td>\n",
       "      <td>2003-05-22</td>\n",
       "      <td>336</td>\n",
       "    </tr>\n",
       "    <tr>\n",
       "      <th>2</th>\n",
       "      <td>3</td>\n",
       "      <td>407</td>\n",
       "      <td>13 Little Blue Envelopes (Little Blue Envelope...</td>\n",
       "      <td>322</td>\n",
       "      <td>2010-12-21</td>\n",
       "      <td>135</td>\n",
       "    </tr>\n",
       "    <tr>\n",
       "      <th>3</th>\n",
       "      <td>4</td>\n",
       "      <td>82</td>\n",
       "      <td>1491: New Revelations of the Americas Before C...</td>\n",
       "      <td>541</td>\n",
       "      <td>2006-10-10</td>\n",
       "      <td>309</td>\n",
       "    </tr>\n",
       "    <tr>\n",
       "      <th>4</th>\n",
       "      <td>5</td>\n",
       "      <td>125</td>\n",
       "      <td>1776</td>\n",
       "      <td>386</td>\n",
       "      <td>2006-07-04</td>\n",
       "      <td>268</td>\n",
       "    </tr>\n",
       "  </tbody>\n",
       "</table>\n",
       "</div>"
      ],
      "text/plain": [
       "   book_id  author_id                                              title  \\\n",
       "0        1        546                                       'Salem's Lot   \n",
       "1        2        465                 1 000 Places to See Before You Die   \n",
       "2        3        407  13 Little Blue Envelopes (Little Blue Envelope...   \n",
       "3        4         82  1491: New Revelations of the Americas Before C...   \n",
       "4        5        125                                               1776   \n",
       "\n",
       "   num_pages publication_date  publisher_id  \n",
       "0        594       2005-11-01            93  \n",
       "1        992       2003-05-22           336  \n",
       "2        322       2010-12-21           135  \n",
       "3        541       2006-10-10           309  \n",
       "4        386       2006-07-04           268  "
      ]
     },
     "execution_count": 2,
     "metadata": {},
     "output_type": "execute_result"
    }
   ],
   "source": [
    "query = '''SELECT * FROM books LIMIT 5'''\n",
    "books = pd.io.sql.read_sql(query, con = engine)\n",
    "books"
   ]
  },
  {
   "cell_type": "markdown",
   "id": "7e8320b5",
   "metadata": {},
   "source": [
    "### Таблица `authors`"
   ]
  },
  {
   "cell_type": "code",
   "execution_count": 3,
   "id": "e6ebfa4e",
   "metadata": {},
   "outputs": [
    {
     "data": {
      "text/html": [
       "<div>\n",
       "<style scoped>\n",
       "    .dataframe tbody tr th:only-of-type {\n",
       "        vertical-align: middle;\n",
       "    }\n",
       "\n",
       "    .dataframe tbody tr th {\n",
       "        vertical-align: top;\n",
       "    }\n",
       "\n",
       "    .dataframe thead th {\n",
       "        text-align: right;\n",
       "    }\n",
       "</style>\n",
       "<table border=\"1\" class=\"dataframe\">\n",
       "  <thead>\n",
       "    <tr style=\"text-align: right;\">\n",
       "      <th></th>\n",
       "      <th>author_id</th>\n",
       "      <th>author</th>\n",
       "    </tr>\n",
       "  </thead>\n",
       "  <tbody>\n",
       "    <tr>\n",
       "      <th>0</th>\n",
       "      <td>1</td>\n",
       "      <td>A.S. Byatt</td>\n",
       "    </tr>\n",
       "    <tr>\n",
       "      <th>1</th>\n",
       "      <td>2</td>\n",
       "      <td>Aesop/Laura Harris/Laura Gibbs</td>\n",
       "    </tr>\n",
       "    <tr>\n",
       "      <th>2</th>\n",
       "      <td>3</td>\n",
       "      <td>Agatha Christie</td>\n",
       "    </tr>\n",
       "    <tr>\n",
       "      <th>3</th>\n",
       "      <td>4</td>\n",
       "      <td>Alan Brennert</td>\n",
       "    </tr>\n",
       "    <tr>\n",
       "      <th>4</th>\n",
       "      <td>5</td>\n",
       "      <td>Alan Moore/David   Lloyd</td>\n",
       "    </tr>\n",
       "  </tbody>\n",
       "</table>\n",
       "</div>"
      ],
      "text/plain": [
       "   author_id                          author\n",
       "0          1                      A.S. Byatt\n",
       "1          2  Aesop/Laura Harris/Laura Gibbs\n",
       "2          3                 Agatha Christie\n",
       "3          4                   Alan Brennert\n",
       "4          5        Alan Moore/David   Lloyd"
      ]
     },
     "execution_count": 3,
     "metadata": {},
     "output_type": "execute_result"
    }
   ],
   "source": [
    "query = '''SELECT * FROM authors LIMIT 5'''\n",
    "authors = pd.io.sql.read_sql(query, con = engine)\n",
    "authors"
   ]
  },
  {
   "cell_type": "markdown",
   "id": "6d1ae22e",
   "metadata": {},
   "source": [
    "### Таблица `publishers`"
   ]
  },
  {
   "cell_type": "code",
   "execution_count": 4,
   "id": "6b76ccd1",
   "metadata": {},
   "outputs": [
    {
     "data": {
      "text/html": [
       "<div>\n",
       "<style scoped>\n",
       "    .dataframe tbody tr th:only-of-type {\n",
       "        vertical-align: middle;\n",
       "    }\n",
       "\n",
       "    .dataframe tbody tr th {\n",
       "        vertical-align: top;\n",
       "    }\n",
       "\n",
       "    .dataframe thead th {\n",
       "        text-align: right;\n",
       "    }\n",
       "</style>\n",
       "<table border=\"1\" class=\"dataframe\">\n",
       "  <thead>\n",
       "    <tr style=\"text-align: right;\">\n",
       "      <th></th>\n",
       "      <th>publisher_id</th>\n",
       "      <th>publisher</th>\n",
       "    </tr>\n",
       "  </thead>\n",
       "  <tbody>\n",
       "    <tr>\n",
       "      <th>0</th>\n",
       "      <td>1</td>\n",
       "      <td>Ace</td>\n",
       "    </tr>\n",
       "    <tr>\n",
       "      <th>1</th>\n",
       "      <td>2</td>\n",
       "      <td>Ace Book</td>\n",
       "    </tr>\n",
       "    <tr>\n",
       "      <th>2</th>\n",
       "      <td>3</td>\n",
       "      <td>Ace Books</td>\n",
       "    </tr>\n",
       "    <tr>\n",
       "      <th>3</th>\n",
       "      <td>4</td>\n",
       "      <td>Ace Hardcover</td>\n",
       "    </tr>\n",
       "    <tr>\n",
       "      <th>4</th>\n",
       "      <td>5</td>\n",
       "      <td>Addison Wesley Publishing Company</td>\n",
       "    </tr>\n",
       "  </tbody>\n",
       "</table>\n",
       "</div>"
      ],
      "text/plain": [
       "   publisher_id                          publisher\n",
       "0             1                                Ace\n",
       "1             2                           Ace Book\n",
       "2             3                          Ace Books\n",
       "3             4                      Ace Hardcover\n",
       "4             5  Addison Wesley Publishing Company"
      ]
     },
     "execution_count": 4,
     "metadata": {},
     "output_type": "execute_result"
    }
   ],
   "source": [
    "query = '''SELECT * FROM publishers LIMIT 5'''\n",
    "publishers = pd.io.sql.read_sql(query, con = engine)\n",
    "publishers"
   ]
  },
  {
   "cell_type": "markdown",
   "id": "4803e743",
   "metadata": {},
   "source": [
    "### Таблица `ratings`"
   ]
  },
  {
   "cell_type": "code",
   "execution_count": 5,
   "id": "cf223c2b",
   "metadata": {},
   "outputs": [
    {
     "data": {
      "text/html": [
       "<div>\n",
       "<style scoped>\n",
       "    .dataframe tbody tr th:only-of-type {\n",
       "        vertical-align: middle;\n",
       "    }\n",
       "\n",
       "    .dataframe tbody tr th {\n",
       "        vertical-align: top;\n",
       "    }\n",
       "\n",
       "    .dataframe thead th {\n",
       "        text-align: right;\n",
       "    }\n",
       "</style>\n",
       "<table border=\"1\" class=\"dataframe\">\n",
       "  <thead>\n",
       "    <tr style=\"text-align: right;\">\n",
       "      <th></th>\n",
       "      <th>rating_id</th>\n",
       "      <th>book_id</th>\n",
       "      <th>username</th>\n",
       "      <th>rating</th>\n",
       "    </tr>\n",
       "  </thead>\n",
       "  <tbody>\n",
       "    <tr>\n",
       "      <th>0</th>\n",
       "      <td>1</td>\n",
       "      <td>1</td>\n",
       "      <td>ryanfranco</td>\n",
       "      <td>4</td>\n",
       "    </tr>\n",
       "    <tr>\n",
       "      <th>1</th>\n",
       "      <td>2</td>\n",
       "      <td>1</td>\n",
       "      <td>grantpatricia</td>\n",
       "      <td>2</td>\n",
       "    </tr>\n",
       "    <tr>\n",
       "      <th>2</th>\n",
       "      <td>3</td>\n",
       "      <td>1</td>\n",
       "      <td>brandtandrea</td>\n",
       "      <td>5</td>\n",
       "    </tr>\n",
       "    <tr>\n",
       "      <th>3</th>\n",
       "      <td>4</td>\n",
       "      <td>2</td>\n",
       "      <td>lorichen</td>\n",
       "      <td>3</td>\n",
       "    </tr>\n",
       "    <tr>\n",
       "      <th>4</th>\n",
       "      <td>5</td>\n",
       "      <td>2</td>\n",
       "      <td>mariokeller</td>\n",
       "      <td>2</td>\n",
       "    </tr>\n",
       "  </tbody>\n",
       "</table>\n",
       "</div>"
      ],
      "text/plain": [
       "   rating_id  book_id       username  rating\n",
       "0          1        1     ryanfranco       4\n",
       "1          2        1  grantpatricia       2\n",
       "2          3        1   brandtandrea       5\n",
       "3          4        2       lorichen       3\n",
       "4          5        2    mariokeller       2"
      ]
     },
     "execution_count": 5,
     "metadata": {},
     "output_type": "execute_result"
    }
   ],
   "source": [
    "query = '''SELECT * FROM ratings LIMIT 5'''\n",
    "ratings = pd.io.sql.read_sql(query, con = engine)\n",
    "ratings"
   ]
  },
  {
   "cell_type": "markdown",
   "id": "8487f81d",
   "metadata": {},
   "source": [
    "### Таблица `reviews`"
   ]
  },
  {
   "cell_type": "code",
   "execution_count": 6,
   "id": "18a7f2c5",
   "metadata": {},
   "outputs": [
    {
     "data": {
      "text/html": [
       "<div>\n",
       "<style scoped>\n",
       "    .dataframe tbody tr th:only-of-type {\n",
       "        vertical-align: middle;\n",
       "    }\n",
       "\n",
       "    .dataframe tbody tr th {\n",
       "        vertical-align: top;\n",
       "    }\n",
       "\n",
       "    .dataframe thead th {\n",
       "        text-align: right;\n",
       "    }\n",
       "</style>\n",
       "<table border=\"1\" class=\"dataframe\">\n",
       "  <thead>\n",
       "    <tr style=\"text-align: right;\">\n",
       "      <th></th>\n",
       "      <th>review_id</th>\n",
       "      <th>book_id</th>\n",
       "      <th>username</th>\n",
       "      <th>text</th>\n",
       "    </tr>\n",
       "  </thead>\n",
       "  <tbody>\n",
       "    <tr>\n",
       "      <th>0</th>\n",
       "      <td>1</td>\n",
       "      <td>1</td>\n",
       "      <td>brandtandrea</td>\n",
       "      <td>Mention society tell send professor analysis. ...</td>\n",
       "    </tr>\n",
       "    <tr>\n",
       "      <th>1</th>\n",
       "      <td>2</td>\n",
       "      <td>1</td>\n",
       "      <td>ryanfranco</td>\n",
       "      <td>Foot glass pretty audience hit themselves. Amo...</td>\n",
       "    </tr>\n",
       "    <tr>\n",
       "      <th>2</th>\n",
       "      <td>3</td>\n",
       "      <td>2</td>\n",
       "      <td>lorichen</td>\n",
       "      <td>Listen treat keep worry. Miss husband tax but ...</td>\n",
       "    </tr>\n",
       "    <tr>\n",
       "      <th>3</th>\n",
       "      <td>4</td>\n",
       "      <td>3</td>\n",
       "      <td>johnsonamanda</td>\n",
       "      <td>Finally month interesting blue could nature cu...</td>\n",
       "    </tr>\n",
       "    <tr>\n",
       "      <th>4</th>\n",
       "      <td>5</td>\n",
       "      <td>3</td>\n",
       "      <td>scotttamara</td>\n",
       "      <td>Nation purpose heavy give wait song will. List...</td>\n",
       "    </tr>\n",
       "  </tbody>\n",
       "</table>\n",
       "</div>"
      ],
      "text/plain": [
       "   review_id  book_id       username  \\\n",
       "0          1        1   brandtandrea   \n",
       "1          2        1     ryanfranco   \n",
       "2          3        2       lorichen   \n",
       "3          4        3  johnsonamanda   \n",
       "4          5        3    scotttamara   \n",
       "\n",
       "                                                text  \n",
       "0  Mention society tell send professor analysis. ...  \n",
       "1  Foot glass pretty audience hit themselves. Amo...  \n",
       "2  Listen treat keep worry. Miss husband tax but ...  \n",
       "3  Finally month interesting blue could nature cu...  \n",
       "4  Nation purpose heavy give wait song will. List...  "
      ]
     },
     "execution_count": 6,
     "metadata": {},
     "output_type": "execute_result"
    }
   ],
   "source": [
    "query = '''SELECT * FROM reviews LIMIT 5'''\n",
    "reviews = pd.io.sql.read_sql(query, con = engine)\n",
    "reviews"
   ]
  },
  {
   "cell_type": "markdown",
   "id": "e810a0f3",
   "metadata": {},
   "source": [
    "<b> Вывод: </b> Успешно загрузила хэды пяти таблиц, далее напиши нужные запросы."
   ]
  },
  {
   "cell_type": "markdown",
   "id": "20c15e8b",
   "metadata": {},
   "source": [
    "## Написание запросов\n",
    "\n",
    "### Сколько книг вышло после 1 января 2000 года? <a name=\"query1\"></a>"
   ]
  },
  {
   "cell_type": "code",
   "execution_count": 8,
   "id": "85d98570",
   "metadata": {},
   "outputs": [
    {
     "data": {
      "text/html": [
       "<div>\n",
       "<style scoped>\n",
       "    .dataframe tbody tr th:only-of-type {\n",
       "        vertical-align: middle;\n",
       "    }\n",
       "\n",
       "    .dataframe tbody tr th {\n",
       "        vertical-align: top;\n",
       "    }\n",
       "\n",
       "    .dataframe thead th {\n",
       "        text-align: right;\n",
       "    }\n",
       "</style>\n",
       "<table border=\"1\" class=\"dataframe\">\n",
       "  <thead>\n",
       "    <tr style=\"text-align: right;\">\n",
       "      <th></th>\n",
       "      <th>books_count</th>\n",
       "    </tr>\n",
       "  </thead>\n",
       "  <tbody>\n",
       "    <tr>\n",
       "      <th>0</th>\n",
       "      <td>819</td>\n",
       "    </tr>\n",
       "  </tbody>\n",
       "</table>\n",
       "</div>"
      ],
      "text/plain": [
       "   books_count\n",
       "0          819"
      ]
     },
     "execution_count": 8,
     "metadata": {},
     "output_type": "execute_result"
    }
   ],
   "source": [
    "query = '''\n",
    "    SELECT COUNT(book_id) books_count\n",
    "    FROM books\n",
    "    WHERE publication_date > '2000-01-01'\n",
    "'''\n",
    "books_count_from_01_01_2000 = pd.io.sql.read_sql(query, con = engine)\n",
    "books_count_from_01_01_2000"
   ]
  },
  {
   "cell_type": "markdown",
   "id": "182b223a",
   "metadata": {},
   "source": [
    "<b> Вывод: </b> после 1 января 2000г. было опубликовано 819 книг."
   ]
  },
  {
   "cell_type": "markdown",
   "id": "915754a4",
   "metadata": {},
   "source": [
    "### Для каждой книги посчитайте количество обзоров и среднюю оценку <a name=\"query2\"></a>"
   ]
  },
  {
   "cell_type": "code",
   "execution_count": 9,
   "id": "27817700",
   "metadata": {},
   "outputs": [
    {
     "data": {
      "text/html": [
       "<div>\n",
       "<style scoped>\n",
       "    .dataframe tbody tr th:only-of-type {\n",
       "        vertical-align: middle;\n",
       "    }\n",
       "\n",
       "    .dataframe tbody tr th {\n",
       "        vertical-align: top;\n",
       "    }\n",
       "\n",
       "    .dataframe thead th {\n",
       "        text-align: right;\n",
       "    }\n",
       "</style>\n",
       "<table border=\"1\" class=\"dataframe\">\n",
       "  <thead>\n",
       "    <tr style=\"text-align: right;\">\n",
       "      <th></th>\n",
       "      <th>book_id</th>\n",
       "      <th>title</th>\n",
       "      <th>avg_rating</th>\n",
       "      <th>review_count</th>\n",
       "    </tr>\n",
       "  </thead>\n",
       "  <tbody>\n",
       "    <tr>\n",
       "      <th>0</th>\n",
       "      <td>1</td>\n",
       "      <td>'Salem's Lot</td>\n",
       "      <td>3.666667</td>\n",
       "      <td>2</td>\n",
       "    </tr>\n",
       "    <tr>\n",
       "      <th>1</th>\n",
       "      <td>2</td>\n",
       "      <td>1 000 Places to See Before You Die</td>\n",
       "      <td>2.500000</td>\n",
       "      <td>1</td>\n",
       "    </tr>\n",
       "    <tr>\n",
       "      <th>2</th>\n",
       "      <td>3</td>\n",
       "      <td>13 Little Blue Envelopes (Little Blue Envelope...</td>\n",
       "      <td>4.666667</td>\n",
       "      <td>3</td>\n",
       "    </tr>\n",
       "    <tr>\n",
       "      <th>3</th>\n",
       "      <td>4</td>\n",
       "      <td>1491: New Revelations of the Americas Before C...</td>\n",
       "      <td>4.500000</td>\n",
       "      <td>2</td>\n",
       "    </tr>\n",
       "    <tr>\n",
       "      <th>4</th>\n",
       "      <td>5</td>\n",
       "      <td>1776</td>\n",
       "      <td>4.000000</td>\n",
       "      <td>4</td>\n",
       "    </tr>\n",
       "    <tr>\n",
       "      <th>...</th>\n",
       "      <td>...</td>\n",
       "      <td>...</td>\n",
       "      <td>...</td>\n",
       "      <td>...</td>\n",
       "    </tr>\n",
       "    <tr>\n",
       "      <th>989</th>\n",
       "      <td>996</td>\n",
       "      <td>Wyrd Sisters (Discworld  #6; Witches #2)</td>\n",
       "      <td>3.666667</td>\n",
       "      <td>3</td>\n",
       "    </tr>\n",
       "    <tr>\n",
       "      <th>990</th>\n",
       "      <td>997</td>\n",
       "      <td>Xenocide (Ender's Saga  #3)</td>\n",
       "      <td>3.400000</td>\n",
       "      <td>3</td>\n",
       "    </tr>\n",
       "    <tr>\n",
       "      <th>991</th>\n",
       "      <td>998</td>\n",
       "      <td>Year of Wonders</td>\n",
       "      <td>3.200000</td>\n",
       "      <td>4</td>\n",
       "    </tr>\n",
       "    <tr>\n",
       "      <th>992</th>\n",
       "      <td>999</td>\n",
       "      <td>You Suck (A Love Story  #2)</td>\n",
       "      <td>4.500000</td>\n",
       "      <td>2</td>\n",
       "    </tr>\n",
       "    <tr>\n",
       "      <th>993</th>\n",
       "      <td>1000</td>\n",
       "      <td>Zen and the Art of Motorcycle Maintenance: An ...</td>\n",
       "      <td>3.833333</td>\n",
       "      <td>4</td>\n",
       "    </tr>\n",
       "  </tbody>\n",
       "</table>\n",
       "<p>994 rows × 4 columns</p>\n",
       "</div>"
      ],
      "text/plain": [
       "     book_id                                              title  avg_rating  \\\n",
       "0          1                                       'Salem's Lot    3.666667   \n",
       "1          2                 1 000 Places to See Before You Die    2.500000   \n",
       "2          3  13 Little Blue Envelopes (Little Blue Envelope...    4.666667   \n",
       "3          4  1491: New Revelations of the Americas Before C...    4.500000   \n",
       "4          5                                               1776    4.000000   \n",
       "..       ...                                                ...         ...   \n",
       "989      996           Wyrd Sisters (Discworld  #6; Witches #2)    3.666667   \n",
       "990      997                        Xenocide (Ender's Saga  #3)    3.400000   \n",
       "991      998                                    Year of Wonders    3.200000   \n",
       "992      999                        You Suck (A Love Story  #2)    4.500000   \n",
       "993     1000  Zen and the Art of Motorcycle Maintenance: An ...    3.833333   \n",
       "\n",
       "     review_count  \n",
       "0               2  \n",
       "1               1  \n",
       "2               3  \n",
       "3               2  \n",
       "4               4  \n",
       "..            ...  \n",
       "989             3  \n",
       "990             3  \n",
       "991             4  \n",
       "992             2  \n",
       "993             4  \n",
       "\n",
       "[994 rows x 4 columns]"
      ]
     },
     "execution_count": 9,
     "metadata": {},
     "output_type": "execute_result"
    }
   ],
   "source": [
    "query = '''\n",
    "    WITH reviews AS (\n",
    "        SELECT book_id, COUNT(DISTINCT review_id) review_count\n",
    "        FROM reviews \n",
    "        GROUP BY book_id),\n",
    "        \n",
    "    rating AS (\n",
    "        SELECT book_id, AVG(rating) avg_rating\n",
    "        FROM ratings\n",
    "        GROUP BY book_id)\n",
    "                   \n",
    "    SELECT reviews.book_id, books.title, rating.avg_rating, reviews.review_count\n",
    "    FROM reviews\n",
    "    JOIN rating ON rating.book_id = reviews.book_id\n",
    "    JOIN books ON books.book_id = reviews.book_id\n",
    "'''\n",
    "books_reviews_and_avg_rating = pd.io.sql.read_sql(query, con = engine)\n",
    "books_reviews_and_avg_rating"
   ]
  },
  {
   "cell_type": "code",
   "execution_count": 10,
   "id": "1c9598a7",
   "metadata": {},
   "outputs": [
    {
     "data": {
      "text/plain": [
       "book_id         0\n",
       "title           0\n",
       "avg_rating      0\n",
       "review_count    0\n",
       "dtype: int64"
      ]
     },
     "execution_count": 10,
     "metadata": {},
     "output_type": "execute_result"
    }
   ],
   "source": [
    "books_reviews_and_avg_rating.isna().sum()"
   ]
  },
  {
   "cell_type": "code",
   "execution_count": 11,
   "id": "82a8e41b",
   "metadata": {},
   "outputs": [
    {
     "data": {
      "text/plain": [
       "43"
      ]
     },
     "execution_count": 11,
     "metadata": {},
     "output_type": "execute_result"
    }
   ],
   "source": [
    "books_reviews_and_avg_rating.query('avg_rating == 5.00')['book_id'].count()"
   ]
  },
  {
   "cell_type": "code",
   "execution_count": 12,
   "id": "490fd02e",
   "metadata": {},
   "outputs": [
    {
     "data": {
      "text/plain": [
       "7"
      ]
     },
     "execution_count": 12,
     "metadata": {},
     "output_type": "execute_result"
    }
   ],
   "source": [
    "books_reviews_and_avg_rating['review_count'].max()"
   ]
  },
  {
   "cell_type": "code",
   "execution_count": 13,
   "id": "08548db0",
   "metadata": {},
   "outputs": [
    {
     "data": {
      "text/html": [
       "<div>\n",
       "<style scoped>\n",
       "    .dataframe tbody tr th:only-of-type {\n",
       "        vertical-align: middle;\n",
       "    }\n",
       "\n",
       "    .dataframe tbody tr th {\n",
       "        vertical-align: top;\n",
       "    }\n",
       "\n",
       "    .dataframe thead th {\n",
       "        text-align: right;\n",
       "    }\n",
       "</style>\n",
       "<table border=\"1\" class=\"dataframe\">\n",
       "  <thead>\n",
       "    <tr style=\"text-align: right;\">\n",
       "      <th></th>\n",
       "      <th>book_id</th>\n",
       "      <th>title</th>\n",
       "      <th>avg_rating</th>\n",
       "      <th>review_count</th>\n",
       "    </tr>\n",
       "  </thead>\n",
       "  <tbody>\n",
       "    <tr>\n",
       "      <th>941</th>\n",
       "      <td>948</td>\n",
       "      <td>Twilight (Twilight  #1)</td>\n",
       "      <td>3.6625</td>\n",
       "      <td>7</td>\n",
       "    </tr>\n",
       "  </tbody>\n",
       "</table>\n",
       "</div>"
      ],
      "text/plain": [
       "     book_id                    title  avg_rating  review_count\n",
       "941      948  Twilight (Twilight  #1)      3.6625             7"
      ]
     },
     "execution_count": 13,
     "metadata": {},
     "output_type": "execute_result"
    }
   ],
   "source": [
    "books_reviews_and_avg_rating.query('review_count == 7')"
   ]
  },
  {
   "cell_type": "code",
   "execution_count": 14,
   "id": "8e0f66c5",
   "metadata": {},
   "outputs": [
    {
     "data": {
      "text/plain": [
       "1"
      ]
     },
     "execution_count": 14,
     "metadata": {},
     "output_type": "execute_result"
    }
   ],
   "source": [
    "books_reviews_and_avg_rating['review_count'].min()"
   ]
  },
  {
   "cell_type": "code",
   "execution_count": 15,
   "id": "e2d57374",
   "metadata": {},
   "outputs": [
    {
     "data": {
      "text/html": [
       "<div>\n",
       "<style scoped>\n",
       "    .dataframe tbody tr th:only-of-type {\n",
       "        vertical-align: middle;\n",
       "    }\n",
       "\n",
       "    .dataframe tbody tr th {\n",
       "        vertical-align: top;\n",
       "    }\n",
       "\n",
       "    .dataframe thead th {\n",
       "        text-align: right;\n",
       "    }\n",
       "</style>\n",
       "<table border=\"1\" class=\"dataframe\">\n",
       "  <thead>\n",
       "    <tr style=\"text-align: right;\">\n",
       "      <th></th>\n",
       "      <th>book_id</th>\n",
       "      <th>title</th>\n",
       "      <th>avg_rating</th>\n",
       "      <th>review_count</th>\n",
       "    </tr>\n",
       "  </thead>\n",
       "  <tbody>\n",
       "    <tr>\n",
       "      <th>1</th>\n",
       "      <td>2</td>\n",
       "      <td>1 000 Places to See Before You Die</td>\n",
       "      <td>2.500000</td>\n",
       "      <td>1</td>\n",
       "    </tr>\n",
       "    <tr>\n",
       "      <th>13</th>\n",
       "      <td>14</td>\n",
       "      <td>A Christmas Carol and Other Christmas Writings</td>\n",
       "      <td>4.500000</td>\n",
       "      <td>1</td>\n",
       "    </tr>\n",
       "    <tr>\n",
       "      <th>90</th>\n",
       "      <td>92</td>\n",
       "      <td>Babyville</td>\n",
       "      <td>3.500000</td>\n",
       "      <td>1</td>\n",
       "    </tr>\n",
       "    <tr>\n",
       "      <th>127</th>\n",
       "      <td>129</td>\n",
       "      <td>Built to Last: Successful Habits of Visionary ...</td>\n",
       "      <td>4.500000</td>\n",
       "      <td>1</td>\n",
       "    </tr>\n",
       "    <tr>\n",
       "      <th>154</th>\n",
       "      <td>156</td>\n",
       "      <td>Color: A Natural History of the Palette</td>\n",
       "      <td>4.333333</td>\n",
       "      <td>1</td>\n",
       "    </tr>\n",
       "    <tr>\n",
       "      <th>163</th>\n",
       "      <td>165</td>\n",
       "      <td>Creepshow</td>\n",
       "      <td>4.500000</td>\n",
       "      <td>1</td>\n",
       "    </tr>\n",
       "    <tr>\n",
       "      <th>184</th>\n",
       "      <td>186</td>\n",
       "      <td>Death: The High Cost of Living</td>\n",
       "      <td>3.000000</td>\n",
       "      <td>1</td>\n",
       "    </tr>\n",
       "    <tr>\n",
       "      <th>185</th>\n",
       "      <td>187</td>\n",
       "      <td>Debt of Honor (Jack Ryan  #7)</td>\n",
       "      <td>3.000000</td>\n",
       "      <td>1</td>\n",
       "    </tr>\n",
       "    <tr>\n",
       "      <th>193</th>\n",
       "      <td>196</td>\n",
       "      <td>Dragons of Winter Night (Dragonlance: Chronicl...</td>\n",
       "      <td>4.000000</td>\n",
       "      <td>1</td>\n",
       "    </tr>\n",
       "    <tr>\n",
       "      <th>222</th>\n",
       "      <td>226</td>\n",
       "      <td>Everyday Italian: 125 Simple and Delicious Rec...</td>\n",
       "      <td>3.500000</td>\n",
       "      <td>1</td>\n",
       "    </tr>\n",
       "    <tr>\n",
       "      <th>226</th>\n",
       "      <td>230</td>\n",
       "      <td>Executive Orders (Jack Ryan  #8)</td>\n",
       "      <td>3.500000</td>\n",
       "      <td>1</td>\n",
       "    </tr>\n",
       "    <tr>\n",
       "      <th>244</th>\n",
       "      <td>248</td>\n",
       "      <td>First Things First</td>\n",
       "      <td>4.000000</td>\n",
       "      <td>1</td>\n",
       "    </tr>\n",
       "    <tr>\n",
       "      <th>294</th>\n",
       "      <td>298</td>\n",
       "      <td>Harry Potter Boxed Set  Books 1-5 (Harry Potte...</td>\n",
       "      <td>4.500000</td>\n",
       "      <td>1</td>\n",
       "    </tr>\n",
       "    <tr>\n",
       "      <th>310</th>\n",
       "      <td>314</td>\n",
       "      <td>Hideaway</td>\n",
       "      <td>4.000000</td>\n",
       "      <td>1</td>\n",
       "    </tr>\n",
       "    <tr>\n",
       "      <th>314</th>\n",
       "      <td>318</td>\n",
       "      <td>History of Beauty</td>\n",
       "      <td>2.500000</td>\n",
       "      <td>1</td>\n",
       "    </tr>\n",
       "    <tr>\n",
       "      <th>326</th>\n",
       "      <td>330</td>\n",
       "      <td>How to Be a Domestic Goddess: Baking and the A...</td>\n",
       "      <td>5.000000</td>\n",
       "      <td>1</td>\n",
       "    </tr>\n",
       "    <tr>\n",
       "      <th>408</th>\n",
       "      <td>413</td>\n",
       "      <td>Lysistrata</td>\n",
       "      <td>4.000000</td>\n",
       "      <td>1</td>\n",
       "    </tr>\n",
       "    <tr>\n",
       "      <th>426</th>\n",
       "      <td>431</td>\n",
       "      <td>Merrick (The Vampire Chronicles #7)</td>\n",
       "      <td>4.000000</td>\n",
       "      <td>1</td>\n",
       "    </tr>\n",
       "    <tr>\n",
       "      <th>441</th>\n",
       "      <td>446</td>\n",
       "      <td>Moo  Baa  La La La!</td>\n",
       "      <td>3.000000</td>\n",
       "      <td>1</td>\n",
       "    </tr>\n",
       "    <tr>\n",
       "      <th>460</th>\n",
       "      <td>465</td>\n",
       "      <td>Naked Empire (Sword of Truth  #8)</td>\n",
       "      <td>3.500000</td>\n",
       "      <td>1</td>\n",
       "    </tr>\n",
       "    <tr>\n",
       "      <th>505</th>\n",
       "      <td>510</td>\n",
       "      <td>Phantom (Sword of Truth  #10)</td>\n",
       "      <td>3.500000</td>\n",
       "      <td>1</td>\n",
       "    </tr>\n",
       "    <tr>\n",
       "      <th>530</th>\n",
       "      <td>535</td>\n",
       "      <td>Ranma ½  Vol. 1 (Ranma ½ (US 2nd)  #1)</td>\n",
       "      <td>4.000000</td>\n",
       "      <td>1</td>\n",
       "    </tr>\n",
       "    <tr>\n",
       "      <th>594</th>\n",
       "      <td>599</td>\n",
       "      <td>Stone of Farewell (Memory  Sorrow  and Thorn  #2)</td>\n",
       "      <td>5.000000</td>\n",
       "      <td>1</td>\n",
       "    </tr>\n",
       "    <tr>\n",
       "      <th>612</th>\n",
       "      <td>617</td>\n",
       "      <td>Ten Apples Up On Top!</td>\n",
       "      <td>4.000000</td>\n",
       "      <td>1</td>\n",
       "    </tr>\n",
       "    <tr>\n",
       "      <th>620</th>\n",
       "      <td>625</td>\n",
       "      <td>The Adventures of Tom Sawyer and Adventures of...</td>\n",
       "      <td>5.000000</td>\n",
       "      <td>1</td>\n",
       "    </tr>\n",
       "    <tr>\n",
       "      <th>633</th>\n",
       "      <td>638</td>\n",
       "      <td>The Bachman Books</td>\n",
       "      <td>3.333333</td>\n",
       "      <td>1</td>\n",
       "    </tr>\n",
       "    <tr>\n",
       "      <th>634</th>\n",
       "      <td>639</td>\n",
       "      <td>The Bad Place</td>\n",
       "      <td>3.500000</td>\n",
       "      <td>1</td>\n",
       "    </tr>\n",
       "    <tr>\n",
       "      <th>661</th>\n",
       "      <td>666</td>\n",
       "      <td>The Burden of Proof (Kindle County Legal Thril...</td>\n",
       "      <td>3.500000</td>\n",
       "      <td>1</td>\n",
       "    </tr>\n",
       "    <tr>\n",
       "      <th>664</th>\n",
       "      <td>669</td>\n",
       "      <td>The Calvin and Hobbes Tenth Anniversary Book</td>\n",
       "      <td>3.500000</td>\n",
       "      <td>1</td>\n",
       "    </tr>\n",
       "    <tr>\n",
       "      <th>754</th>\n",
       "      <td>760</td>\n",
       "      <td>The Iliad/The Odyssey</td>\n",
       "      <td>4.000000</td>\n",
       "      <td>1</td>\n",
       "    </tr>\n",
       "    <tr>\n",
       "      <th>816</th>\n",
       "      <td>823</td>\n",
       "      <td>The Philosophy of Andy Warhol (From A to B and...</td>\n",
       "      <td>4.500000</td>\n",
       "      <td>1</td>\n",
       "    </tr>\n",
       "    <tr>\n",
       "      <th>848</th>\n",
       "      <td>855</td>\n",
       "      <td>The Road Not Taken and Other Poems</td>\n",
       "      <td>3.500000</td>\n",
       "      <td>1</td>\n",
       "    </tr>\n",
       "    <tr>\n",
       "      <th>865</th>\n",
       "      <td>872</td>\n",
       "      <td>The Social Contract</td>\n",
       "      <td>3.500000</td>\n",
       "      <td>1</td>\n",
       "    </tr>\n",
       "    <tr>\n",
       "      <th>923</th>\n",
       "      <td>930</td>\n",
       "      <td>To Green Angel Tower (Memory  Sorrow  and Thor...</td>\n",
       "      <td>4.500000</td>\n",
       "      <td>1</td>\n",
       "    </tr>\n",
       "    <tr>\n",
       "      <th>936</th>\n",
       "      <td>943</td>\n",
       "      <td>Tsubasa: RESERVoir CHRoNiCLE  Vol. 1</td>\n",
       "      <td>2.500000</td>\n",
       "      <td>1</td>\n",
       "    </tr>\n",
       "    <tr>\n",
       "      <th>973</th>\n",
       "      <td>980</td>\n",
       "      <td>Wicked: The Grimmerie</td>\n",
       "      <td>3.500000</td>\n",
       "      <td>1</td>\n",
       "    </tr>\n",
       "    <tr>\n",
       "      <th>977</th>\n",
       "      <td>984</td>\n",
       "      <td>Winter Prey (Lucas Davenport  #5)</td>\n",
       "      <td>4.500000</td>\n",
       "      <td>1</td>\n",
       "    </tr>\n",
       "  </tbody>\n",
       "</table>\n",
       "</div>"
      ],
      "text/plain": [
       "     book_id                                              title  avg_rating  \\\n",
       "1          2                 1 000 Places to See Before You Die    2.500000   \n",
       "13        14     A Christmas Carol and Other Christmas Writings    4.500000   \n",
       "90        92                                          Babyville    3.500000   \n",
       "127      129  Built to Last: Successful Habits of Visionary ...    4.500000   \n",
       "154      156            Color: A Natural History of the Palette    4.333333   \n",
       "163      165                                          Creepshow    4.500000   \n",
       "184      186                     Death: The High Cost of Living    3.000000   \n",
       "185      187                      Debt of Honor (Jack Ryan  #7)    3.000000   \n",
       "193      196  Dragons of Winter Night (Dragonlance: Chronicl...    4.000000   \n",
       "222      226  Everyday Italian: 125 Simple and Delicious Rec...    3.500000   \n",
       "226      230                   Executive Orders (Jack Ryan  #8)    3.500000   \n",
       "244      248                                 First Things First    4.000000   \n",
       "294      298  Harry Potter Boxed Set  Books 1-5 (Harry Potte...    4.500000   \n",
       "310      314                                           Hideaway    4.000000   \n",
       "314      318                                  History of Beauty    2.500000   \n",
       "326      330  How to Be a Domestic Goddess: Baking and the A...    5.000000   \n",
       "408      413                                         Lysistrata    4.000000   \n",
       "426      431                Merrick (The Vampire Chronicles #7)    4.000000   \n",
       "441      446                                Moo  Baa  La La La!    3.000000   \n",
       "460      465                  Naked Empire (Sword of Truth  #8)    3.500000   \n",
       "505      510                      Phantom (Sword of Truth  #10)    3.500000   \n",
       "530      535             Ranma ½  Vol. 1 (Ranma ½ (US 2nd)  #1)    4.000000   \n",
       "594      599  Stone of Farewell (Memory  Sorrow  and Thorn  #2)    5.000000   \n",
       "612      617                              Ten Apples Up On Top!    4.000000   \n",
       "620      625  The Adventures of Tom Sawyer and Adventures of...    5.000000   \n",
       "633      638                                  The Bachman Books    3.333333   \n",
       "634      639                                      The Bad Place    3.500000   \n",
       "661      666  The Burden of Proof (Kindle County Legal Thril...    3.500000   \n",
       "664      669       The Calvin and Hobbes Tenth Anniversary Book    3.500000   \n",
       "754      760                              The Iliad/The Odyssey    4.000000   \n",
       "816      823  The Philosophy of Andy Warhol (From A to B and...    4.500000   \n",
       "848      855                 The Road Not Taken and Other Poems    3.500000   \n",
       "865      872                                The Social Contract    3.500000   \n",
       "923      930  To Green Angel Tower (Memory  Sorrow  and Thor...    4.500000   \n",
       "936      943               Tsubasa: RESERVoir CHRoNiCLE  Vol. 1    2.500000   \n",
       "973      980                              Wicked: The Grimmerie    3.500000   \n",
       "977      984                  Winter Prey (Lucas Davenport  #5)    4.500000   \n",
       "\n",
       "     review_count  \n",
       "1               1  \n",
       "13              1  \n",
       "90              1  \n",
       "127             1  \n",
       "154             1  \n",
       "163             1  \n",
       "184             1  \n",
       "185             1  \n",
       "193             1  \n",
       "222             1  \n",
       "226             1  \n",
       "244             1  \n",
       "294             1  \n",
       "310             1  \n",
       "314             1  \n",
       "326             1  \n",
       "408             1  \n",
       "426             1  \n",
       "441             1  \n",
       "460             1  \n",
       "505             1  \n",
       "530             1  \n",
       "594             1  \n",
       "612             1  \n",
       "620             1  \n",
       "633             1  \n",
       "634             1  \n",
       "661             1  \n",
       "664             1  \n",
       "754             1  \n",
       "816             1  \n",
       "848             1  \n",
       "865             1  \n",
       "923             1  \n",
       "936             1  \n",
       "973             1  \n",
       "977             1  "
      ]
     },
     "execution_count": 15,
     "metadata": {},
     "output_type": "execute_result"
    }
   ],
   "source": [
    "books_reviews_and_avg_rating.query('review_count == 1')"
   ]
  },
  {
   "cell_type": "code",
   "execution_count": 16,
   "id": "8152ff5a",
   "metadata": {},
   "outputs": [
    {
     "data": {
      "text/plain": [
       "book_id         37\n",
       "title           37\n",
       "avg_rating      37\n",
       "review_count    37\n",
       "dtype: int64"
      ]
     },
     "execution_count": 16,
     "metadata": {},
     "output_type": "execute_result"
    }
   ],
   "source": [
    "books_reviews_and_avg_rating.query('review_count == 1').count()"
   ]
  },
  {
   "cell_type": "markdown",
   "id": "a051efd9",
   "metadata": {},
   "source": [
    "<b> Вывод: </b> расчитала для каждой книги количество обзоров и средний рейтинг (получила 994 строки). Максимальный средний рейтинг в 5 баллов получили 7 книг. Больше всего отзывов оставлено на книгу \"Сумерки\" - 7 обзоров со средней оценкой 3.66. На 37 книг было оставлено по 1 отзыву."
   ]
  },
  {
   "cell_type": "markdown",
   "id": "2eb2fe08",
   "metadata": {},
   "source": [
    "### Определите издательство, которое выпустило наибольшее число книг толще 50 страниц <a name=\"query3\"></a>"
   ]
  },
  {
   "cell_type": "code",
   "execution_count": 17,
   "id": "51388527",
   "metadata": {},
   "outputs": [
    {
     "data": {
      "text/html": [
       "<div>\n",
       "<style scoped>\n",
       "    .dataframe tbody tr th:only-of-type {\n",
       "        vertical-align: middle;\n",
       "    }\n",
       "\n",
       "    .dataframe tbody tr th {\n",
       "        vertical-align: top;\n",
       "    }\n",
       "\n",
       "    .dataframe thead th {\n",
       "        text-align: right;\n",
       "    }\n",
       "</style>\n",
       "<table border=\"1\" class=\"dataframe\">\n",
       "  <thead>\n",
       "    <tr style=\"text-align: right;\">\n",
       "      <th></th>\n",
       "      <th>publisher_id</th>\n",
       "      <th>publisher</th>\n",
       "      <th>books_count</th>\n",
       "    </tr>\n",
       "  </thead>\n",
       "  <tbody>\n",
       "    <tr>\n",
       "      <th>0</th>\n",
       "      <td>212</td>\n",
       "      <td>Penguin Books</td>\n",
       "      <td>42</td>\n",
       "    </tr>\n",
       "  </tbody>\n",
       "</table>\n",
       "</div>"
      ],
      "text/plain": [
       "   publisher_id      publisher  books_count\n",
       "0           212  Penguin Books           42"
      ]
     },
     "execution_count": 17,
     "metadata": {},
     "output_type": "execute_result"
    }
   ],
   "source": [
    "query = '''\n",
    "    SELECT pub.publisher_id, pub.publisher, COUNT(books.book_id) books_count\n",
    "    FROM publishers pub\n",
    "    JOIN books ON pub.publisher_id = books.publisher_id\n",
    "    WHERE books.num_pages > 50\n",
    "    GROUP BY pub.publisher_id\n",
    "    ORDER BY books_count DESC\n",
    "    LIMIT 1\n",
    "'''\n",
    "the_publisher = pd.io.sql.read_sql(query, con = engine)\n",
    "the_publisher"
   ]
  },
  {
   "cell_type": "markdown",
   "id": "40aa9b9b",
   "metadata": {},
   "source": [
    "<b> Вывод: </b> издательство Penguin Books выпустило наибольше кол-во книг толще 50 стр. - 42 книги."
   ]
  },
  {
   "cell_type": "markdown",
   "id": "51d01d15",
   "metadata": {},
   "source": [
    "### Определите автора с самой высокой средней оценкой книг <a name=\"query4\"></a>"
   ]
  },
  {
   "cell_type": "markdown",
   "id": "6ae8deab",
   "metadata": {},
   "source": [
    "Необходимо учитывать только книги с 50 и более оценками:"
   ]
  },
  {
   "cell_type": "code",
   "execution_count": 18,
   "id": "b4ff8e45",
   "metadata": {},
   "outputs": [
    {
     "data": {
      "text/html": [
       "<div>\n",
       "<style scoped>\n",
       "    .dataframe tbody tr th:only-of-type {\n",
       "        vertical-align: middle;\n",
       "    }\n",
       "\n",
       "    .dataframe tbody tr th {\n",
       "        vertical-align: top;\n",
       "    }\n",
       "\n",
       "    .dataframe thead th {\n",
       "        text-align: right;\n",
       "    }\n",
       "</style>\n",
       "<table border=\"1\" class=\"dataframe\">\n",
       "  <thead>\n",
       "    <tr style=\"text-align: right;\">\n",
       "      <th></th>\n",
       "      <th>author</th>\n",
       "      <th>avg_rating</th>\n",
       "    </tr>\n",
       "  </thead>\n",
       "  <tbody>\n",
       "    <tr>\n",
       "      <th>0</th>\n",
       "      <td>J.K. Rowling/Mary GrandPré</td>\n",
       "      <td>4.283844</td>\n",
       "    </tr>\n",
       "  </tbody>\n",
       "</table>\n",
       "</div>"
      ],
      "text/plain": [
       "                       author  avg_rating\n",
       "0  J.K. Rowling/Mary GrandPré    4.283844"
      ]
     },
     "execution_count": 18,
     "metadata": {},
     "output_type": "execute_result"
    }
   ],
   "source": [
    "query = '''\n",
    "    WITH popular_books AS (\n",
    "        SELECT book_id, AVG(rating) avg_rating, COUNT(book_id) reviews_count\n",
    "        FROM ratings\n",
    "        GROUP BY book_id\n",
    "        ORDER BY reviews_count DESC\n",
    "    )\n",
    "    \n",
    "    SELECT authors.author, AVG(popular_books.avg_rating) avg_rating \n",
    "    FROM books \n",
    "    LEFT OUTER JOIN authors ON books.author_id = authors.author_id\n",
    "    LEFT OUTER JOIN popular_books ON popular_books.book_id = books.book_id\n",
    "    WHERE reviews_count >= 50\n",
    "    GROUP BY authors.author\n",
    "    ORDER BY avg_rating DESC\n",
    "    LIMIT 1\n",
    "'''\n",
    "the_author = pd.io.sql.read_sql(query, con = engine)\n",
    "the_author"
   ]
  },
  {
   "cell_type": "markdown",
   "id": "d6fab9d3",
   "metadata": {},
   "source": [
    "<b> Вывод: </b> среди книг с 50 и более оценок автор с самой высокой средней оценкой книг - J.K. Rowling/Mary GrandPré."
   ]
  },
  {
   "cell_type": "markdown",
   "id": "3dd32519",
   "metadata": {},
   "source": [
    "### Посчитайте среднее количество обзоров от пользователей, которые поставили больше 48 оценок <a name=\"query5\"></a>"
   ]
  },
  {
   "cell_type": "code",
   "execution_count": 19,
   "id": "ef910f88",
   "metadata": {},
   "outputs": [
    {
     "data": {
      "text/html": [
       "<div>\n",
       "<style scoped>\n",
       "    .dataframe tbody tr th:only-of-type {\n",
       "        vertical-align: middle;\n",
       "    }\n",
       "\n",
       "    .dataframe tbody tr th {\n",
       "        vertical-align: top;\n",
       "    }\n",
       "\n",
       "    .dataframe thead th {\n",
       "        text-align: right;\n",
       "    }\n",
       "</style>\n",
       "<table border=\"1\" class=\"dataframe\">\n",
       "  <thead>\n",
       "    <tr style=\"text-align: right;\">\n",
       "      <th></th>\n",
       "      <th>avg_review_count</th>\n",
       "    </tr>\n",
       "  </thead>\n",
       "  <tbody>\n",
       "    <tr>\n",
       "      <th>0</th>\n",
       "      <td>24.0</td>\n",
       "    </tr>\n",
       "  </tbody>\n",
       "</table>\n",
       "</div>"
      ],
      "text/plain": [
       "   avg_review_count\n",
       "0              24.0"
      ]
     },
     "execution_count": 19,
     "metadata": {},
     "output_type": "execute_result"
    }
   ],
   "source": [
    "query = '''\n",
    "    WITH users AS (\n",
    "        SELECT username, COUNT(rating_id) ratings_count\n",
    "        FROM ratings\n",
    "        GROUP BY username\n",
    "        HAVING COUNT(rating_id) > 48),\n",
    "        \n",
    "    reviewers AS (\n",
    "        SELECT username, COUNT(review_id) reviews_count\n",
    "        FROM reviews\n",
    "        GROUP BY username)\n",
    "\n",
    "    SELECT SUM(reviewers.reviews_count) / COUNT(users.username) avg_review_count\n",
    "    FROM users \n",
    "    JOIN reviewers ON users.username = reviewers.username\n",
    "'''\n",
    "a = pd.io.sql.read_sql(query, con = engine)\n",
    "a"
   ]
  },
  {
   "cell_type": "markdown",
   "id": "d7a4955c",
   "metadata": {},
   "source": [
    "<b> Вывод: </b> пользователи, которые поставили больше 48 оценок, в среднем делают 24 обзора."
   ]
  },
  {
   "cell_type": "markdown",
   "id": "d1497f5e",
   "metadata": {},
   "source": [
    "## Общий вывод: <a name=\"ending\"></a>\n",
    "\n",
    "Исследовала базу данных сервиса для чтения книг по подписке. Можно выделить следующее:\n",
    "\n",
    "1. После 1 января 2000г. было опубликовано 819 книг.\n",
    "2. Расчитала для каждой книги количество обзоров и средний рейтинг. Максимальный средний рейтинг в 5 баллов получили 7 книг. Больше всего отзывов оставлено на книгу \"Сумерки\" - 7 обзоров со средней оценкой 3.66. На 37 книг было оставлено по 1 отзыву.\n",
    "3. Издательство Penguin Books выпустило наибольшее кол-во книг толще 50 стр. - 42.\n",
    "4. Среди книг с 50 и более оценок автор с самой высокой средней оценкой книг - J.K. Rowling/Mary GrandPré.\n",
    "5. Пользователи, которые поставили больше 48 оценок, в среднем делают 24 обзора."
   ]
  },
  {
   "cell_type": "code",
   "execution_count": null,
   "id": "5eeb101b",
   "metadata": {},
   "outputs": [],
   "source": []
  }
 ],
 "metadata": {
  "ExecuteTimeLog": [
   {
    "duration": 14481,
    "start_time": "2023-07-30T11:22:00.129Z"
   },
   {
    "duration": 62,
    "start_time": "2023-07-30T11:22:14.612Z"
   },
   {
    "duration": 12,
    "start_time": "2023-07-30T11:22:14.676Z"
   },
   {
    "duration": 13,
    "start_time": "2023-07-30T11:22:14.689Z"
   },
   {
    "duration": 15,
    "start_time": "2023-07-30T11:22:14.704Z"
   },
   {
    "duration": 13,
    "start_time": "2023-07-30T11:22:14.721Z"
   },
   {
    "duration": 12,
    "start_time": "2023-07-30T11:22:14.756Z"
   },
   {
    "duration": 29,
    "start_time": "2023-07-30T11:22:14.770Z"
   },
   {
    "duration": 7,
    "start_time": "2023-07-30T11:22:14.801Z"
   },
   {
    "duration": 9,
    "start_time": "2023-07-30T11:22:14.810Z"
   },
   {
    "duration": 11,
    "start_time": "2023-07-30T11:22:14.820Z"
   },
   {
    "duration": 11,
    "start_time": "2023-07-30T11:22:14.857Z"
   },
   {
    "duration": 14,
    "start_time": "2023-07-30T11:22:14.870Z"
   },
   {
    "duration": 21,
    "start_time": "2023-07-30T11:22:14.886Z"
   },
   {
    "duration": 16,
    "start_time": "2023-07-30T11:22:14.909Z"
   },
   {
    "duration": 36,
    "start_time": "2023-07-30T11:22:14.927Z"
   },
   {
    "duration": 21,
    "start_time": "2023-07-30T11:22:14.965Z"
   },
   {
    "duration": 16,
    "start_time": "2023-07-30T11:22:14.989Z"
   },
   {
    "duration": 14677,
    "start_time": "2023-07-30T11:22:47.434Z"
   },
   {
    "duration": 69,
    "start_time": "2023-07-30T11:23:02.114Z"
   },
   {
    "duration": 19,
    "start_time": "2023-07-30T11:23:02.185Z"
   },
   {
    "duration": 14,
    "start_time": "2023-07-30T11:23:02.206Z"
   },
   {
    "duration": 37,
    "start_time": "2023-07-30T11:23:02.222Z"
   },
   {
    "duration": 33,
    "start_time": "2023-07-30T11:23:02.261Z"
   },
   {
    "duration": 21,
    "start_time": "2023-07-30T11:23:02.295Z"
   },
   {
    "duration": 48,
    "start_time": "2023-07-30T11:23:02.318Z"
   },
   {
    "duration": 10,
    "start_time": "2023-07-30T11:23:02.369Z"
   },
   {
    "duration": 31,
    "start_time": "2023-07-30T11:23:02.382Z"
   },
   {
    "duration": 24,
    "start_time": "2023-07-30T11:23:02.415Z"
   },
   {
    "duration": 37,
    "start_time": "2023-07-30T11:23:02.442Z"
   },
   {
    "duration": 47,
    "start_time": "2023-07-30T11:23:02.481Z"
   },
   {
    "duration": 33,
    "start_time": "2023-07-30T11:23:02.531Z"
   },
   {
    "duration": 22,
    "start_time": "2023-07-30T11:23:02.565Z"
   },
   {
    "duration": 18,
    "start_time": "2023-07-30T11:23:02.589Z"
   },
   {
    "duration": 15,
    "start_time": "2023-07-30T11:23:02.609Z"
   },
   {
    "duration": 14,
    "start_time": "2023-07-30T11:23:02.625Z"
   }
  ],
  "kernelspec": {
   "display_name": "Python 3",
   "language": "python",
   "name": "python3"
  },
  "language_info": {
   "codemirror_mode": {
    "name": "ipython",
    "version": 3
   },
   "file_extension": ".py",
   "mimetype": "text/x-python",
   "name": "python",
   "nbconvert_exporter": "python",
   "pygments_lexer": "ipython3",
   "version": "3.10.9"
  },
  "toc": {
   "base_numbering": 1,
   "nav_menu": {},
   "number_sections": true,
   "sideBar": true,
   "skip_h1_title": true,
   "title_cell": "Table of Contents",
   "title_sidebar": "Contents",
   "toc_cell": false,
   "toc_position": {},
   "toc_section_display": true,
   "toc_window_display": false
  }
 },
 "nbformat": 4,
 "nbformat_minor": 5
}
