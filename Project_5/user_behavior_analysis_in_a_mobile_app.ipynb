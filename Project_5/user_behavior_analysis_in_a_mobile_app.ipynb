{
 "cells": [
  {
   "cell_type": "markdown",
   "metadata": {},
   "source": [
    "# Исследование поведения пользователей приложения по продаже продуктов питания"
   ]
  },
  {
   "cell_type": "markdown",
   "metadata": {},
   "source": [
    "<b> Описание проекта: </b> Вы работаете в стартапе, который продаёт продукты питания. Нужно разобраться, как ведут себя пользователи вашего мобильного приложения. \n",
    "\n",
    "<b> Цели проекта: </b> \n",
    "1. Составление воронки продаж.\n",
    "2. Рекомендация к решению \"Изменить шрифты во всём приложении\".\n",
    "\n",
    "<b> Задачи проекта: </b>\n",
    "1. Изучить воронку продаж. \n",
    "2. Исследовать результаты A/A/B-эксперимента по изменению шрифтов во всём приложении.\n",
    "\n",
    "<b> Описание данных: </b>\n",
    "- Файл: logs_exp.csv\n",
    "- Каждая запись в логе — это действие пользователя, или событие. \n",
    "- EventName — название события;\n",
    "- DeviceIDHash — уникальный идентификатор пользователя;\n",
    "- EventTimestamp — время события;\n",
    "- ExpId — номер эксперимента: 246 и 247 — контрольные группы, а 248 — экспериментальная."
   ]
  },
  {
   "cell_type": "markdown",
   "metadata": {},
   "source": [
    "## Чтение файла с данными, изучение общей информации"
   ]
  },
  {
   "cell_type": "code",
   "execution_count": 1,
   "metadata": {},
   "outputs": [],
   "source": [
    "# импортируем все необходимые для работы библиотеки\n",
    "import pandas as pd\n",
    "from datetime import date\n",
    "\n",
    "from scipy import stats as st\n",
    "import numpy as np\n",
    "import math as mth\n",
    "\n",
    "import matplotlib.pyplot as plt \n",
    "import seaborn as sns"
   ]
  },
  {
   "cell_type": "code",
   "execution_count": 9,
   "metadata": {},
   "outputs": [],
   "source": [
    "data = pd.read_csv(path+'logs_exp.csv', sep='\\t')"
   ]
  },
  {
   "cell_type": "code",
   "execution_count": 10,
   "metadata": {},
   "outputs": [
    {
     "name": "stdout",
     "output_type": "stream",
     "text": [
      "<class 'pandas.core.frame.DataFrame'>\n",
      "RangeIndex: 244126 entries, 0 to 244125\n",
      "Data columns (total 4 columns):\n",
      " #   Column          Non-Null Count   Dtype \n",
      "---  ------          --------------   ----- \n",
      " 0   EventName       244126 non-null  object\n",
      " 1   DeviceIDHash    244126 non-null  int64 \n",
      " 2   EventTimestamp  244126 non-null  int64 \n",
      " 3   ExpId           244126 non-null  int64 \n",
      "dtypes: int64(3), object(1)\n",
      "memory usage: 7.5+ MB\n"
     ]
    }
   ],
   "source": [
    "data.info()"
   ]
  },
  {
   "cell_type": "code",
   "execution_count": 11,
   "metadata": {},
   "outputs": [
    {
     "data": {
      "text/html": [
       "<div>\n",
       "<style scoped>\n",
       "    .dataframe tbody tr th:only-of-type {\n",
       "        vertical-align: middle;\n",
       "    }\n",
       "\n",
       "    .dataframe tbody tr th {\n",
       "        vertical-align: top;\n",
       "    }\n",
       "\n",
       "    .dataframe thead th {\n",
       "        text-align: right;\n",
       "    }\n",
       "</style>\n",
       "<table border=\"1\" class=\"dataframe\">\n",
       "  <thead>\n",
       "    <tr style=\"text-align: right;\">\n",
       "      <th></th>\n",
       "      <th>EventName</th>\n",
       "      <th>DeviceIDHash</th>\n",
       "      <th>EventTimestamp</th>\n",
       "      <th>ExpId</th>\n",
       "    </tr>\n",
       "  </thead>\n",
       "  <tbody>\n",
       "    <tr>\n",
       "      <th>0</th>\n",
       "      <td>MainScreenAppear</td>\n",
       "      <td>4575588528974610257</td>\n",
       "      <td>1564029816</td>\n",
       "      <td>246</td>\n",
       "    </tr>\n",
       "    <tr>\n",
       "      <th>1</th>\n",
       "      <td>MainScreenAppear</td>\n",
       "      <td>7416695313311560658</td>\n",
       "      <td>1564053102</td>\n",
       "      <td>246</td>\n",
       "    </tr>\n",
       "    <tr>\n",
       "      <th>2</th>\n",
       "      <td>PaymentScreenSuccessful</td>\n",
       "      <td>3518123091307005509</td>\n",
       "      <td>1564054127</td>\n",
       "      <td>248</td>\n",
       "    </tr>\n",
       "    <tr>\n",
       "      <th>3</th>\n",
       "      <td>CartScreenAppear</td>\n",
       "      <td>3518123091307005509</td>\n",
       "      <td>1564054127</td>\n",
       "      <td>248</td>\n",
       "    </tr>\n",
       "    <tr>\n",
       "      <th>4</th>\n",
       "      <td>PaymentScreenSuccessful</td>\n",
       "      <td>6217807653094995999</td>\n",
       "      <td>1564055322</td>\n",
       "      <td>248</td>\n",
       "    </tr>\n",
       "  </tbody>\n",
       "</table>\n",
       "</div>"
      ],
      "text/plain": [
       "                 EventName         DeviceIDHash  EventTimestamp  ExpId\n",
       "0         MainScreenAppear  4575588528974610257      1564029816    246\n",
       "1         MainScreenAppear  7416695313311560658      1564053102    246\n",
       "2  PaymentScreenSuccessful  3518123091307005509      1564054127    248\n",
       "3         CartScreenAppear  3518123091307005509      1564054127    248\n",
       "4  PaymentScreenSuccessful  6217807653094995999      1564055322    248"
      ]
     },
     "execution_count": 11,
     "metadata": {},
     "output_type": "execute_result"
    }
   ],
   "source": [
    "data.head()"
   ]
  },
  {
   "cell_type": "markdown",
   "metadata": {},
   "source": [
    "<b> Вывод 1: </b> прочла файл с логами. Датафрейм на 4 столбца и 244126 строк. Сразу бросаются в глаза названия столбцов - не по правилам питона. На первый взгляд нет пропусков в данных. Типы данных соответствуют содержанию, кроме столбца 'EventTimestamp' - необходимо будет разобраться с этим."
   ]
  },
  {
   "cell_type": "markdown",
   "metadata": {},
   "source": [
    "## Подготовка данных"
   ]
  },
  {
   "cell_type": "code",
   "execution_count": 12,
   "metadata": {},
   "outputs": [],
   "source": [
    "# контрольный замер кол-ва строк\n",
    "count_row = data.shape[0]"
   ]
  },
  {
   "cell_type": "markdown",
   "metadata": {},
   "source": [
    "### Переименование стоблцов"
   ]
  },
  {
   "cell_type": "code",
   "execution_count": 13,
   "metadata": {},
   "outputs": [],
   "source": [
    "data = data.rename(\n",
    "    columns={\n",
    "        'EventName' : 'event_name',\n",
    "        'DeviceIDHash' : 'device_id_hash',\n",
    "        'EventTimestamp' : 'event_timestamp',\n",
    "        'ExpId' : 'exp_id'\n",
    "    }\n",
    ")"
   ]
  },
  {
   "cell_type": "code",
   "execution_count": 14,
   "metadata": {},
   "outputs": [
    {
     "name": "stdout",
     "output_type": "stream",
     "text": [
      "<class 'pandas.core.frame.DataFrame'>\n",
      "RangeIndex: 244126 entries, 0 to 244125\n",
      "Data columns (total 4 columns):\n",
      " #   Column           Non-Null Count   Dtype \n",
      "---  ------           --------------   ----- \n",
      " 0   event_name       244126 non-null  object\n",
      " 1   device_id_hash   244126 non-null  int64 \n",
      " 2   event_timestamp  244126 non-null  int64 \n",
      " 3   exp_id           244126 non-null  int64 \n",
      "dtypes: int64(3), object(1)\n",
      "memory usage: 7.5+ MB\n"
     ]
    }
   ],
   "source": [
    "data.info()"
   ]
  },
  {
   "cell_type": "markdown",
   "metadata": {},
   "source": [
    "<b> Вывод 2.1: </b> переименовала столбцы в соответствии с правилами питона."
   ]
  },
  {
   "cell_type": "markdown",
   "metadata": {},
   "source": [
    "### Работа с пропусками и дубликатами"
   ]
  },
  {
   "cell_type": "code",
   "execution_count": 15,
   "metadata": {},
   "outputs": [
    {
     "data": {
      "text/plain": [
       "event_name         0\n",
       "device_id_hash     0\n",
       "event_timestamp    0\n",
       "exp_id             0\n",
       "dtype: int64"
      ]
     },
     "execution_count": 15,
     "metadata": {},
     "output_type": "execute_result"
    }
   ],
   "source": [
    "data.isna().sum()"
   ]
  },
  {
   "cell_type": "markdown",
   "metadata": {},
   "source": [
    "Пропусков нет."
   ]
  },
  {
   "cell_type": "code",
   "execution_count": 16,
   "metadata": {},
   "outputs": [
    {
     "data": {
      "text/plain": [
       "413"
      ]
     },
     "execution_count": 16,
     "metadata": {},
     "output_type": "execute_result"
    }
   ],
   "source": [
    "data.duplicated().sum()"
   ]
  },
  {
   "cell_type": "markdown",
   "metadata": {},
   "source": [
    "Явных дубликатов 413. Посмотрим неявные:"
   ]
  },
  {
   "cell_type": "code",
   "execution_count": 17,
   "metadata": {},
   "outputs": [
    {
     "data": {
      "text/plain": [
       "array(['MainScreenAppear', 'PaymentScreenSuccessful', 'CartScreenAppear',\n",
       "       'OffersScreenAppear', 'Tutorial'], dtype=object)"
      ]
     },
     "execution_count": 17,
     "metadata": {},
     "output_type": "execute_result"
    }
   ],
   "source": [
    "data['event_name'].unique()"
   ]
  },
  {
   "cell_type": "code",
   "execution_count": 18,
   "metadata": {},
   "outputs": [
    {
     "data": {
      "text/plain": [
       "MainScreenAppear           119205\n",
       "OffersScreenAppear          46825\n",
       "CartScreenAppear            42731\n",
       "PaymentScreenSuccessful     34313\n",
       "Tutorial                     1052\n",
       "Name: event_name, dtype: int64"
      ]
     },
     "execution_count": 18,
     "metadata": {},
     "output_type": "execute_result"
    }
   ],
   "source": [
    "data['event_name'].value_counts()"
   ]
  },
  {
   "cell_type": "markdown",
   "metadata": {},
   "source": [
    "В столбце event_name все значения уникальные. Больше всего показов главного экрана - MainScreenAppear. Далее разница больше чем в 2 раза - показ предложения (OffersScreenAppear) и показ корзины (CartScreenAppear)."
   ]
  },
  {
   "cell_type": "code",
   "execution_count": 19,
   "metadata": {},
   "outputs": [
    {
     "data": {
      "text/plain": [
       "array([246, 248, 247], dtype=int64)"
      ]
     },
     "execution_count": 19,
     "metadata": {},
     "output_type": "execute_result"
    }
   ],
   "source": [
    "data['exp_id'].unique()"
   ]
  },
  {
   "cell_type": "code",
   "execution_count": 20,
   "metadata": {},
   "outputs": [
    {
     "data": {
      "text/plain": [
       "248    85747\n",
       "246    80304\n",
       "247    78075\n",
       "Name: exp_id, dtype: int64"
      ]
     },
     "execution_count": 20,
     "metadata": {},
     "output_type": "execute_result"
    }
   ],
   "source": [
    "data['exp_id'].value_counts()"
   ]
  },
  {
   "cell_type": "markdown",
   "metadata": {},
   "source": [
    "В датафрейме 3 группы эксперимента (как и написано в задании) - 246 и 247 (контрольные группы), 248 (экспериментальная группа). Группы примерно равны между собой (различаются на 3-9%)."
   ]
  },
  {
   "cell_type": "code",
   "execution_count": 21,
   "metadata": {},
   "outputs": [
    {
     "data": {
      "text/plain": [
       "7551"
      ]
     },
     "execution_count": 21,
     "metadata": {},
     "output_type": "execute_result"
    }
   ],
   "source": [
    "data['device_id_hash'].nunique()"
   ]
  },
  {
   "cell_type": "code",
   "execution_count": 22,
   "metadata": {},
   "outputs": [
    {
     "data": {
      "text/plain": [
       "6304868067479728361    2308\n",
       "197027893265565660     2003\n",
       "4623191541214045580    1771\n",
       "6932517045703054087    1448\n",
       "1754140665440434215    1222\n",
       "                       ... \n",
       "1473604074272762258       1\n",
       "4038665841336196550       1\n",
       "6471198426894625455       1\n",
       "8306004969579731119       1\n",
       "1083512226259476085       1\n",
       "Name: device_id_hash, Length: 7551, dtype: int64"
      ]
     },
     "execution_count": 22,
     "metadata": {},
     "output_type": "execute_result"
    }
   ],
   "source": [
    "data['device_id_hash'].value_counts()"
   ]
  },
  {
   "cell_type": "markdown",
   "metadata": {},
   "source": [
    "Всего в логах есть информация о действиях 7551 уникальных пользователей. Причем некоторые очень активные (например, пользователь 6304868067479728361 с 2308 действиями), также есть пользователи всего с 1 действием (если путь пользователя начинается с показа главного экрана, то видимо это и есть показ главного экрана)."
   ]
  },
  {
   "cell_type": "code",
   "execution_count": 23,
   "metadata": {},
   "outputs": [
    {
     "data": {
      "text/html": [
       "<div>\n",
       "<style scoped>\n",
       "    .dataframe tbody tr th:only-of-type {\n",
       "        vertical-align: middle;\n",
       "    }\n",
       "\n",
       "    .dataframe tbody tr th {\n",
       "        vertical-align: top;\n",
       "    }\n",
       "\n",
       "    .dataframe thead th {\n",
       "        text-align: right;\n",
       "    }\n",
       "</style>\n",
       "<table border=\"1\" class=\"dataframe\">\n",
       "  <thead>\n",
       "    <tr style=\"text-align: right;\">\n",
       "      <th></th>\n",
       "      <th>event_name</th>\n",
       "      <th>device_id_hash</th>\n",
       "      <th>event_timestamp</th>\n",
       "      <th>exp_id</th>\n",
       "    </tr>\n",
       "  </thead>\n",
       "  <tbody>\n",
       "    <tr>\n",
       "      <th>453</th>\n",
       "      <td>MainScreenAppear</td>\n",
       "      <td>5613408041324010552</td>\n",
       "      <td>1564474784</td>\n",
       "      <td>248</td>\n",
       "    </tr>\n",
       "    <tr>\n",
       "      <th>2350</th>\n",
       "      <td>CartScreenAppear</td>\n",
       "      <td>1694940645335807244</td>\n",
       "      <td>1564609899</td>\n",
       "      <td>248</td>\n",
       "    </tr>\n",
       "    <tr>\n",
       "      <th>3573</th>\n",
       "      <td>MainScreenAppear</td>\n",
       "      <td>434103746454591587</td>\n",
       "      <td>1564628377</td>\n",
       "      <td>248</td>\n",
       "    </tr>\n",
       "    <tr>\n",
       "      <th>4076</th>\n",
       "      <td>MainScreenAppear</td>\n",
       "      <td>3761373764179762633</td>\n",
       "      <td>1564631266</td>\n",
       "      <td>247</td>\n",
       "    </tr>\n",
       "    <tr>\n",
       "      <th>4803</th>\n",
       "      <td>MainScreenAppear</td>\n",
       "      <td>2835328739789306622</td>\n",
       "      <td>1564634641</td>\n",
       "      <td>248</td>\n",
       "    </tr>\n",
       "    <tr>\n",
       "      <th>...</th>\n",
       "      <td>...</td>\n",
       "      <td>...</td>\n",
       "      <td>...</td>\n",
       "      <td>...</td>\n",
       "    </tr>\n",
       "    <tr>\n",
       "      <th>242329</th>\n",
       "      <td>MainScreenAppear</td>\n",
       "      <td>8870358373313968633</td>\n",
       "      <td>1565206004</td>\n",
       "      <td>247</td>\n",
       "    </tr>\n",
       "    <tr>\n",
       "      <th>242332</th>\n",
       "      <td>PaymentScreenSuccessful</td>\n",
       "      <td>4718002964983105693</td>\n",
       "      <td>1565206005</td>\n",
       "      <td>247</td>\n",
       "    </tr>\n",
       "    <tr>\n",
       "      <th>242360</th>\n",
       "      <td>PaymentScreenSuccessful</td>\n",
       "      <td>2382591782303281935</td>\n",
       "      <td>1565206049</td>\n",
       "      <td>246</td>\n",
       "    </tr>\n",
       "    <tr>\n",
       "      <th>242362</th>\n",
       "      <td>CartScreenAppear</td>\n",
       "      <td>2382591782303281935</td>\n",
       "      <td>1565206049</td>\n",
       "      <td>246</td>\n",
       "    </tr>\n",
       "    <tr>\n",
       "      <th>242635</th>\n",
       "      <td>MainScreenAppear</td>\n",
       "      <td>4097782667445790512</td>\n",
       "      <td>1565206618</td>\n",
       "      <td>246</td>\n",
       "    </tr>\n",
       "  </tbody>\n",
       "</table>\n",
       "<p>413 rows × 4 columns</p>\n",
       "</div>"
      ],
      "text/plain": [
       "                     event_name       device_id_hash  event_timestamp  exp_id\n",
       "453            MainScreenAppear  5613408041324010552       1564474784     248\n",
       "2350           CartScreenAppear  1694940645335807244       1564609899     248\n",
       "3573           MainScreenAppear   434103746454591587       1564628377     248\n",
       "4076           MainScreenAppear  3761373764179762633       1564631266     247\n",
       "4803           MainScreenAppear  2835328739789306622       1564634641     248\n",
       "...                         ...                  ...              ...     ...\n",
       "242329         MainScreenAppear  8870358373313968633       1565206004     247\n",
       "242332  PaymentScreenSuccessful  4718002964983105693       1565206005     247\n",
       "242360  PaymentScreenSuccessful  2382591782303281935       1565206049     246\n",
       "242362         CartScreenAppear  2382591782303281935       1565206049     246\n",
       "242635         MainScreenAppear  4097782667445790512       1565206618     246\n",
       "\n",
       "[413 rows x 4 columns]"
      ]
     },
     "execution_count": 23,
     "metadata": {},
     "output_type": "execute_result"
    }
   ],
   "source": [
    "# посмотрим явные дубликаты\n",
    "data[data.duplicated()]"
   ]
  },
  {
   "cell_type": "code",
   "execution_count": 24,
   "metadata": {},
   "outputs": [
    {
     "name": "stdout",
     "output_type": "stream",
     "text": [
      "<class 'pandas.core.frame.DataFrame'>\n",
      "RangeIndex: 243713 entries, 0 to 243712\n",
      "Data columns (total 4 columns):\n",
      " #   Column           Non-Null Count   Dtype \n",
      "---  ------           --------------   ----- \n",
      " 0   event_name       243713 non-null  object\n",
      " 1   device_id_hash   243713 non-null  int64 \n",
      " 2   event_timestamp  243713 non-null  int64 \n",
      " 3   exp_id           243713 non-null  int64 \n",
      "dtypes: int64(3), object(1)\n",
      "memory usage: 7.4+ MB\n"
     ]
    }
   ],
   "source": [
    "# 413 дубликатов - это 0.17% от всех данных, поэтому их можно удалить\n",
    "data = data.drop_duplicates().reset_index(drop=True)\n",
    "data.info()"
   ]
  },
  {
   "cell_type": "markdown",
   "metadata": {},
   "source": [
    "Удалила 413 явных дубликатов. Интересно, почему они появились? Возможно стоит сообщить об этом дата-инженерам, возможно есть ошибка при сборе данных."
   ]
  },
  {
   "cell_type": "markdown",
   "metadata": {},
   "source": [
    "<b> Вывод 2.2: </b> проверила работу с пропусками и дубликатами в датафрейме: пропусков нет, удалены 413 явных дубликатов, нет неявных дубликатов."
   ]
  },
  {
   "cell_type": "markdown",
   "metadata": {},
   "source": [
    "### Работа с типами данных"
   ]
  },
  {
   "cell_type": "code",
   "execution_count": 25,
   "metadata": {},
   "outputs": [
    {
     "name": "stdout",
     "output_type": "stream",
     "text": [
      "<class 'pandas.core.frame.DataFrame'>\n",
      "RangeIndex: 243713 entries, 0 to 243712\n",
      "Data columns (total 4 columns):\n",
      " #   Column           Non-Null Count   Dtype \n",
      "---  ------           --------------   ----- \n",
      " 0   event_name       243713 non-null  object\n",
      " 1   device_id_hash   243713 non-null  int64 \n",
      " 2   event_timestamp  243713 non-null  int64 \n",
      " 3   exp_id           243713 non-null  int64 \n",
      "dtypes: int64(3), object(1)\n",
      "memory usage: 7.4+ MB\n"
     ]
    }
   ],
   "source": [
    "data.info()"
   ]
  },
  {
   "cell_type": "markdown",
   "metadata": {},
   "source": [
    "Есть вопросы только к столбцу с датой и временем события. Поэтому добавим в датафрейм 2 столбца: 1 - даты и времени, 2 - отдельный с датами."
   ]
  },
  {
   "cell_type": "code",
   "execution_count": 26,
   "metadata": {},
   "outputs": [
    {
     "data": {
      "text/html": [
       "<div>\n",
       "<style scoped>\n",
       "    .dataframe tbody tr th:only-of-type {\n",
       "        vertical-align: middle;\n",
       "    }\n",
       "\n",
       "    .dataframe tbody tr th {\n",
       "        vertical-align: top;\n",
       "    }\n",
       "\n",
       "    .dataframe thead th {\n",
       "        text-align: right;\n",
       "    }\n",
       "</style>\n",
       "<table border=\"1\" class=\"dataframe\">\n",
       "  <thead>\n",
       "    <tr style=\"text-align: right;\">\n",
       "      <th></th>\n",
       "      <th>event_name</th>\n",
       "      <th>device_id_hash</th>\n",
       "      <th>event_timestamp</th>\n",
       "      <th>exp_id</th>\n",
       "      <th>event_date_time</th>\n",
       "      <th>event_date</th>\n",
       "    </tr>\n",
       "  </thead>\n",
       "  <tbody>\n",
       "    <tr>\n",
       "      <th>0</th>\n",
       "      <td>MainScreenAppear</td>\n",
       "      <td>4575588528974610257</td>\n",
       "      <td>1564029816</td>\n",
       "      <td>246</td>\n",
       "      <td>2019-07-25 04:43:36</td>\n",
       "      <td>2019-07-25</td>\n",
       "    </tr>\n",
       "    <tr>\n",
       "      <th>1</th>\n",
       "      <td>MainScreenAppear</td>\n",
       "      <td>7416695313311560658</td>\n",
       "      <td>1564053102</td>\n",
       "      <td>246</td>\n",
       "      <td>2019-07-25 11:11:42</td>\n",
       "      <td>2019-07-25</td>\n",
       "    </tr>\n",
       "    <tr>\n",
       "      <th>2</th>\n",
       "      <td>PaymentScreenSuccessful</td>\n",
       "      <td>3518123091307005509</td>\n",
       "      <td>1564054127</td>\n",
       "      <td>248</td>\n",
       "      <td>2019-07-25 11:28:47</td>\n",
       "      <td>2019-07-25</td>\n",
       "    </tr>\n",
       "    <tr>\n",
       "      <th>3</th>\n",
       "      <td>CartScreenAppear</td>\n",
       "      <td>3518123091307005509</td>\n",
       "      <td>1564054127</td>\n",
       "      <td>248</td>\n",
       "      <td>2019-07-25 11:28:47</td>\n",
       "      <td>2019-07-25</td>\n",
       "    </tr>\n",
       "    <tr>\n",
       "      <th>4</th>\n",
       "      <td>PaymentScreenSuccessful</td>\n",
       "      <td>6217807653094995999</td>\n",
       "      <td>1564055322</td>\n",
       "      <td>248</td>\n",
       "      <td>2019-07-25 11:48:42</td>\n",
       "      <td>2019-07-25</td>\n",
       "    </tr>\n",
       "  </tbody>\n",
       "</table>\n",
       "</div>"
      ],
      "text/plain": [
       "                event_name       device_id_hash  event_timestamp  exp_id  \\\n",
       "0         MainScreenAppear  4575588528974610257       1564029816     246   \n",
       "1         MainScreenAppear  7416695313311560658       1564053102     246   \n",
       "2  PaymentScreenSuccessful  3518123091307005509       1564054127     248   \n",
       "3         CartScreenAppear  3518123091307005509       1564054127     248   \n",
       "4  PaymentScreenSuccessful  6217807653094995999       1564055322     248   \n",
       "\n",
       "      event_date_time  event_date  \n",
       "0 2019-07-25 04:43:36  2019-07-25  \n",
       "1 2019-07-25 11:11:42  2019-07-25  \n",
       "2 2019-07-25 11:28:47  2019-07-25  \n",
       "3 2019-07-25 11:28:47  2019-07-25  \n",
       "4 2019-07-25 11:48:42  2019-07-25  "
      ]
     },
     "execution_count": 26,
     "metadata": {},
     "output_type": "execute_result"
    }
   ],
   "source": [
    "# столбец с датой и временем\n",
    "data['event_date_time'] = pd.to_datetime(data.event_timestamp, unit='s')\n",
    "\n",
    "# отдельный столбец с датой\n",
    "data['event_date'] = data['event_date_time'].dt.date\n",
    "\n",
    "data.head()"
   ]
  },
  {
   "cell_type": "code",
   "execution_count": 27,
   "metadata": {},
   "outputs": [
    {
     "name": "stdout",
     "output_type": "stream",
     "text": [
      "<class 'pandas.core.frame.DataFrame'>\n",
      "RangeIndex: 243713 entries, 0 to 243712\n",
      "Data columns (total 6 columns):\n",
      " #   Column           Non-Null Count   Dtype         \n",
      "---  ------           --------------   -----         \n",
      " 0   event_name       243713 non-null  object        \n",
      " 1   device_id_hash   243713 non-null  int64         \n",
      " 2   event_timestamp  243713 non-null  int64         \n",
      " 3   exp_id           243713 non-null  int64         \n",
      " 4   event_date_time  243713 non-null  datetime64[ns]\n",
      " 5   event_date       243713 non-null  object        \n",
      "dtypes: datetime64[ns](1), int64(3), object(2)\n",
      "memory usage: 11.2+ MB\n"
     ]
    }
   ],
   "source": [
    "data.info()"
   ]
  },
  {
   "cell_type": "markdown",
   "metadata": {},
   "source": [
    "<b> Вывод 2.3: </b> в датафрейм добавлены 2 столбца: 1 - дата и время события, 2 - дата события."
   ]
  },
  {
   "cell_type": "markdown",
   "metadata": {},
   "source": [
    "<b> Вывод 2: </b> проведена подготовительная работа с данными: \n",
    "- переименованы столбцы, \n",
    "- датафрейм проверен на пропуски и дубликаты (явные и неявные), \n",
    "- были удалены 413 явных дубликатов, кол-во строк в датафрейме уменьшилось на 0.17%,\n",
    "- добавлены 2 столбца: 1 - с датой и временем события, 2 - с датой события."
   ]
  },
  {
   "cell_type": "markdown",
   "metadata": {},
   "source": [
    "## Исследование данных"
   ]
  },
  {
   "cell_type": "markdown",
   "metadata": {},
   "source": [
    "### Сколько всего событий в логе?"
   ]
  },
  {
   "cell_type": "code",
   "execution_count": 28,
   "metadata": {},
   "outputs": [
    {
     "name": "stdout",
     "output_type": "stream",
     "text": [
      "Всего событий в логе - 5\n"
     ]
    }
   ],
   "source": [
    "print('Всего событий в логе -', data['event_name'].nunique())"
   ]
  },
  {
   "cell_type": "markdown",
   "metadata": {},
   "source": [
    "<b> Вывод 3.1: </b> всего событий в логе - 5"
   ]
  },
  {
   "cell_type": "markdown",
   "metadata": {},
   "source": [
    "### Сколько всего пользователей в логе?"
   ]
  },
  {
   "cell_type": "code",
   "execution_count": 29,
   "metadata": {},
   "outputs": [
    {
     "name": "stdout",
     "output_type": "stream",
     "text": [
      "Кол-во пользователей в логе - 7551\n"
     ]
    }
   ],
   "source": [
    "users_count = data['device_id_hash'].nunique()\n",
    "print('Кол-во пользователей в логе -', users_count)"
   ]
  },
  {
   "cell_type": "markdown",
   "metadata": {},
   "source": [
    "<b> Вывод 3.2: </b> кол-во пользователей в логе - 7551"
   ]
  },
  {
   "cell_type": "markdown",
   "metadata": {},
   "source": [
    "### Сколько в среднем событий приходится на пользователя?"
   ]
  },
  {
   "cell_type": "code",
   "execution_count": 30,
   "metadata": {},
   "outputs": [
    {
     "data": {
      "text/plain": [
       "count    7551.000000\n",
       "mean       32.275593\n",
       "std        65.154219\n",
       "min         1.000000\n",
       "25%         9.000000\n",
       "50%        20.000000\n",
       "75%        37.000000\n",
       "max      2307.000000\n",
       "Name: device_id_hash, dtype: float64"
      ]
     },
     "execution_count": 30,
     "metadata": {},
     "output_type": "execute_result"
    }
   ],
   "source": [
    "# можно расчитать через статистический метод describe\n",
    "data['device_id_hash'].value_counts().describe()"
   ]
  },
  {
   "cell_type": "markdown",
   "metadata": {},
   "source": [
    "<b> Вывод 3.3: </b> среднее количество событий на пользователя - 32. При этом медианное значение = 20, а максимальное значение = 2307, отсюда и разница между медианой и средним."
   ]
  },
  {
   "cell_type": "markdown",
   "metadata": {},
   "source": [
    "### Данными за какой период вы располагаете?"
   ]
  },
  {
   "cell_type": "code",
   "execution_count": 31,
   "metadata": {},
   "outputs": [
    {
     "name": "stdout",
     "output_type": "stream",
     "text": [
      "<class 'pandas.core.frame.DataFrame'>\n",
      "RangeIndex: 243713 entries, 0 to 243712\n",
      "Data columns (total 6 columns):\n",
      " #   Column           Non-Null Count   Dtype         \n",
      "---  ------           --------------   -----         \n",
      " 0   event_name       243713 non-null  object        \n",
      " 1   device_id_hash   243713 non-null  int64         \n",
      " 2   event_timestamp  243713 non-null  int64         \n",
      " 3   exp_id           243713 non-null  int64         \n",
      " 4   event_date_time  243713 non-null  datetime64[ns]\n",
      " 5   event_date       243713 non-null  object        \n",
      "dtypes: datetime64[ns](1), int64(3), object(2)\n",
      "memory usage: 11.2+ MB\n"
     ]
    }
   ],
   "source": [
    "# контрольный замер\n",
    "data.info()"
   ]
  },
  {
   "cell_type": "markdown",
   "metadata": {},
   "source": [
    "Найдите максимальную и минимальную дату. Постройте гистограмму по дате и времени. Можно ли быть уверенным, что у вас одинаково полные данные за весь период? Технически в логи новых дней по некоторым пользователям могут «доезжать» события из прошлого — это может «перекашивать данные». Определите, с какого момента данные полные и отбросьте более старые. Данными за какой период времени вы располагаете на самом деле?"
   ]
  },
  {
   "cell_type": "code",
   "execution_count": 32,
   "metadata": {},
   "outputs": [
    {
     "name": "stdout",
     "output_type": "stream",
     "text": [
      "Максимальная дата - 2019-08-07\n"
     ]
    }
   ],
   "source": [
    "print('Максимальная дата -', data['event_date'].max())"
   ]
  },
  {
   "cell_type": "code",
   "execution_count": 33,
   "metadata": {},
   "outputs": [
    {
     "name": "stdout",
     "output_type": "stream",
     "text": [
      "Минимальная дата - 2019-07-25\n"
     ]
    }
   ],
   "source": [
    "print('Минимальная дата -', data['event_date'].min())"
   ]
  },
  {
   "cell_type": "markdown",
   "metadata": {},
   "source": [
    "Получили, что есть данные в период с 25 июля 2019 по 07 августа 2019. Это 14 дней."
   ]
  },
  {
   "cell_type": "code",
   "execution_count": 34,
   "metadata": {},
   "outputs": [
    {
     "data": {
      "image/png": "[encoded data removed]",
      "text/plain": [
       "<Figure size 1200x800 with 1 Axes>"
      ]
     },
     "metadata": {},
     "output_type": "display_data"
    }
   ],
   "source": [
    "plt.figure(figsize=(12, 8))\n",
    "data['event_date_time'].hist(bins=14)\n",
    "plt.title('Распределение кол-ва событий по дате и времени')\n",
    "plt.xlabel('Дата')\n",
    "plt.xticks(rotation=45)\n",
    "plt.ylabel('Кол-во событий')\n",
    "plt.show()"
   ]
  },
  {
   "cell_type": "markdown",
   "metadata": {},
   "source": [
    "Видим, что событий с 25.07 по 31.07 крайне мало. Основную массу событий в логе составляют события периода с 01.08 по 07.08 (период длительностью 7 дней), в каждый день от 31 тысячи до 36 тысячи событий (примерные цифры)."
   ]
  },
  {
   "cell_type": "code",
   "execution_count": 35,
   "metadata": {},
   "outputs": [
    {
     "data": {
      "text/plain": [
       "2019-08-01    36141\n",
       "2019-08-05    36058\n",
       "2019-08-06    35788\n",
       "2019-08-02    35554\n",
       "2019-08-03    33282\n",
       "2019-08-04    32968\n",
       "2019-08-07    31096\n",
       "2019-07-31     2030\n",
       "2019-07-30      412\n",
       "2019-07-29      184\n",
       "2019-07-28      105\n",
       "2019-07-27       55\n",
       "2019-07-26       31\n",
       "2019-07-25        9\n",
       "Name: event_date, dtype: int64"
      ]
     },
     "execution_count": 35,
     "metadata": {},
     "output_type": "execute_result"
    }
   ],
   "source": [
    "# Определите, с какого момента данные полные и отбросьте более старые\n",
    "data['event_date'].value_counts().sort_values(ascending=False)"
   ]
  },
  {
   "cell_type": "markdown",
   "metadata": {},
   "source": [
    "Похоже, полные данные начинаются с 1 августа, а июльские - можно отбросить."
   ]
  },
  {
   "cell_type": "code",
   "execution_count": 36,
   "metadata": {},
   "outputs": [],
   "source": [
    "data = data[data.event_date > date(2019, 7, 31)]"
   ]
  },
  {
   "cell_type": "markdown",
   "metadata": {},
   "source": [
    "<b> Вывод 3.4: </b> изначально, располагали данными за период с 25 июля 2019 по 07 августа 2019 (14 дней). Но июльские данные неполные, поэтому их отбросили."
   ]
  },
  {
   "cell_type": "markdown",
   "metadata": {},
   "source": [
    "### Много ли событий и пользователей вы потеряли, отбросив старые данные?"
   ]
  },
  {
   "cell_type": "code",
   "execution_count": 37,
   "metadata": {},
   "outputs": [
    {
     "name": "stdout",
     "output_type": "stream",
     "text": [
      "<class 'pandas.core.frame.DataFrame'>\n",
      "Int64Index: 240887 entries, 2826 to 243712\n",
      "Data columns (total 6 columns):\n",
      " #   Column           Non-Null Count   Dtype         \n",
      "---  ------           --------------   -----         \n",
      " 0   event_name       240887 non-null  object        \n",
      " 1   device_id_hash   240887 non-null  int64         \n",
      " 2   event_timestamp  240887 non-null  int64         \n",
      " 3   exp_id           240887 non-null  int64         \n",
      " 4   event_date_time  240887 non-null  datetime64[ns]\n",
      " 5   event_date       240887 non-null  object        \n",
      "dtypes: datetime64[ns](1), int64(3), object(2)\n",
      "memory usage: 12.9+ MB\n"
     ]
    }
   ],
   "source": [
    "data.info()"
   ]
  },
  {
   "cell_type": "code",
   "execution_count": 39,
   "metadata": {},
   "outputs": [
    {
     "name": "stdout",
     "output_type": "stream",
     "text": [
      "Стало пользователей в логе - 7534\n",
      "Ушло пользователей - 17\n",
      "Это 0.23% пользователей\n"
     ]
    }
   ],
   "source": [
    "print('Стало пользователей в логе -', data['device_id_hash'].nunique())\n",
    "print('Ушло пользователей - {}'.format(users_count - data['device_id_hash'].nunique()))\n",
    "print('Это {:.2f}% пользователей'.format((users_count - data['device_id_hash'].nunique()) / users_count * 100))"
   ]
  },
  {
   "cell_type": "code",
   "execution_count": 40,
   "metadata": {},
   "outputs": [
    {
     "name": "stdout",
     "output_type": "stream",
     "text": [
      "Стало событий в логе - 240887\n",
      "Удалили - 3239\n",
      "Это 1.33% пользователей\n"
     ]
    }
   ],
   "source": [
    "print('Стало событий в логе -', data.shape[0])\n",
    "print('Удалили - {}'.format(count_row - data.shape[0]))\n",
    "print('Это {:.2f}% пользователей'.format((count_row - data.shape[0]) / count_row * 100))"
   ]
  },
  {
   "cell_type": "markdown",
   "metadata": {},
   "source": [
    "<b> Вывод 3.5: </b> удалив июльские данные, потеряли немного (1% событий, 0.2% пользователей)."
   ]
  },
  {
   "cell_type": "markdown",
   "metadata": {},
   "source": [
    "### Проверьте, что у вас есть пользователи из всех трёх экспериментальных групп"
   ]
  },
  {
   "cell_type": "code",
   "execution_count": 41,
   "metadata": {},
   "outputs": [
    {
     "data": {
      "text/plain": [
       "248    84563\n",
       "246    79302\n",
       "247    77022\n",
       "Name: exp_id, dtype: int64"
      ]
     },
     "execution_count": 41,
     "metadata": {},
     "output_type": "execute_result"
    }
   ],
   "source": [
    "data['exp_id'].value_counts()"
   ]
  },
  {
   "cell_type": "code",
   "execution_count": 42,
   "metadata": {},
   "outputs": [
    {
     "data": {
      "text/html": [
       "<div>\n",
       "<style scoped>\n",
       "    .dataframe tbody tr th:only-of-type {\n",
       "        vertical-align: middle;\n",
       "    }\n",
       "\n",
       "    .dataframe tbody tr th {\n",
       "        vertical-align: top;\n",
       "    }\n",
       "\n",
       "    .dataframe thead tr th {\n",
       "        text-align: left;\n",
       "    }\n",
       "\n",
       "    .dataframe thead tr:last-of-type th {\n",
       "        text-align: right;\n",
       "    }\n",
       "</style>\n",
       "<table border=\"1\" class=\"dataframe\">\n",
       "  <thead>\n",
       "    <tr>\n",
       "      <th></th>\n",
       "      <th colspan=\"2\" halign=\"left\">device_id_hash</th>\n",
       "    </tr>\n",
       "    <tr>\n",
       "      <th></th>\n",
       "      <th>count</th>\n",
       "      <th>nunique</th>\n",
       "    </tr>\n",
       "    <tr>\n",
       "      <th>exp_id</th>\n",
       "      <th></th>\n",
       "      <th></th>\n",
       "    </tr>\n",
       "  </thead>\n",
       "  <tbody>\n",
       "    <tr>\n",
       "      <th>246</th>\n",
       "      <td>79302</td>\n",
       "      <td>2484</td>\n",
       "    </tr>\n",
       "    <tr>\n",
       "      <th>247</th>\n",
       "      <td>77022</td>\n",
       "      <td>2513</td>\n",
       "    </tr>\n",
       "    <tr>\n",
       "      <th>248</th>\n",
       "      <td>84563</td>\n",
       "      <td>2537</td>\n",
       "    </tr>\n",
       "  </tbody>\n",
       "</table>\n",
       "</div>"
      ],
      "text/plain": [
       "       device_id_hash        \n",
       "                count nunique\n",
       "exp_id                       \n",
       "246             79302    2484\n",
       "247             77022    2513\n",
       "248             84563    2537"
      ]
     },
     "execution_count": 42,
     "metadata": {},
     "output_type": "execute_result"
    }
   ],
   "source": [
    "data.groupby('exp_id').agg({'device_id_hash' : ['count', 'nunique']})"
   ]
  },
  {
   "cell_type": "markdown",
   "metadata": {},
   "source": [
    "<b> Вывод 3.6: </b> после удалений в датафрейме остались пользователи всех трех групп эксперимента."
   ]
  },
  {
   "cell_type": "code",
   "execution_count": 43,
   "metadata": {},
   "outputs": [
    {
     "name": "stdout",
     "output_type": "stream",
     "text": [
      "Событий в логе - 5\n"
     ]
    }
   ],
   "source": [
    "# проверка, что осталось 5 событий\n",
    "print('Событий в логе -', data['event_name'].nunique())"
   ]
  },
  {
   "cell_type": "code",
   "execution_count": 44,
   "metadata": {},
   "outputs": [
    {
     "data": {
      "text/plain": [
       "count    7534.000000\n",
       "mean       31.973321\n",
       "std        65.090307\n",
       "min         1.000000\n",
       "25%         9.000000\n",
       "50%        19.000000\n",
       "75%        37.000000\n",
       "max      2307.000000\n",
       "Name: device_id_hash, dtype: float64"
      ]
     },
     "execution_count": 44,
     "metadata": {},
     "output_type": "execute_result"
    }
   ],
   "source": [
    "# проверка, какое ср. кол-во событий на пользователя\n",
    "data['device_id_hash'].value_counts().describe()"
   ]
  },
  {
   "cell_type": "markdown",
   "metadata": {},
   "source": [
    "<b> ВЫВОД 3 </b> провела исследование данных, получила:\n",
    "- всего в логе есть 5 событий,\n",
    "- в логе остались данные за недельный период с 01.08.2019 по 07.08.2019,\n",
    "- в логе остались данные по 7534 уникальным пользователям (представлены все три экспериментальные группы)."
   ]
  },
  {
   "cell_type": "code",
   "execution_count": 45,
   "metadata": {},
   "outputs": [
    {
     "name": "stdout",
     "output_type": "stream",
     "text": [
      "<class 'pandas.core.frame.DataFrame'>\n",
      "Int64Index: 240887 entries, 2826 to 243712\n",
      "Data columns (total 6 columns):\n",
      " #   Column           Non-Null Count   Dtype         \n",
      "---  ------           --------------   -----         \n",
      " 0   event_name       240887 non-null  object        \n",
      " 1   device_id_hash   240887 non-null  int64         \n",
      " 2   event_timestamp  240887 non-null  int64         \n",
      " 3   exp_id           240887 non-null  int64         \n",
      " 4   event_date_time  240887 non-null  datetime64[ns]\n",
      " 5   event_date       240887 non-null  object        \n",
      "dtypes: datetime64[ns](1), int64(3), object(2)\n",
      "memory usage: 12.9+ MB\n"
     ]
    }
   ],
   "source": [
    "# оставлю контрольный замер\n",
    "data.info()"
   ]
  },
  {
   "cell_type": "markdown",
   "metadata": {},
   "source": [
    "## Изучение воронки событий"
   ]
  },
  {
   "cell_type": "markdown",
   "metadata": {},
   "source": [
    "### Посмотрите, какие события есть в логах, как часто они встречаются. Отсортируйте события по частоте"
   ]
  },
  {
   "cell_type": "code",
   "execution_count": 46,
   "metadata": {},
   "outputs": [
    {
     "data": {
      "text/plain": [
       "MainScreenAppear           117328\n",
       "OffersScreenAppear          46333\n",
       "CartScreenAppear            42303\n",
       "PaymentScreenSuccessful     33918\n",
       "Tutorial                     1005\n",
       "Name: event_name, dtype: int64"
      ]
     },
     "execution_count": 46,
     "metadata": {},
     "output_type": "execute_result"
    }
   ],
   "source": [
    "data['event_name'].value_counts().sort_values(ascending=False)"
   ]
  },
  {
   "cell_type": "code",
   "execution_count": 47,
   "metadata": {},
   "outputs": [
    {
     "data": {
      "image/png": "[encoded data removed]",
      "text/plain": [
       "<Figure size 1000x1000 with 1 Axes>"
      ]
     },
     "metadata": {},
     "output_type": "display_data"
    }
   ],
   "source": [
    "x = ['MainScreenAppear', 'OffersScreenAppear', 'CartScreenAppear', 'PaymentScreenSuccessful', 'Tutorial']\n",
    "plt.figure(figsize=(10, 10))\n",
    "plt.pie(data['event_name'].value_counts(), autopct='%.2f%%')\n",
    "plt.legend(x)\n",
    "plt.show()"
   ]
  },
  {
   "cell_type": "markdown",
   "metadata": {},
   "source": [
    "<b> Вывод 4.1: </b> всего в логах есть 5 событий - MainScreenAppear (показ главного экрана), OffersScreenAppear (показ предложений), CartScreenAppear (показ корзины), PaymentScreenSuccessful (показ экрана успешной оплаты), Tutorial (обучение).\n",
    "\n",
    "Наиболее часто встречается - MainScreenAppear (почти половина всех показаов первой недели августа 2019). Далее c небольшой разницей между собой - OffersScreenAppear 19.23%, CartScreenAppear 17.56%, PaymentScreenSuccessful 14.08%. Раздел с обучением почти не показывался, только 0.42% (например, его могут пропускать, или он предлагается только новым пользователям, а их было мало на первой неделе август 19./"
   ]
  },
  {
   "cell_type": "markdown",
   "metadata": {},
   "source": [
    "### Посчитайте, сколько пользователей совершали каждое из этих событий. Отсортируйте события по числу пользователей. Посчитайте долю пользователей, которые хоть раз совершали событие"
   ]
  },
  {
   "cell_type": "code",
   "execution_count": 48,
   "metadata": {},
   "outputs": [
    {
     "data": {
      "text/html": [
       "<div>\n",
       "<style scoped>\n",
       "    .dataframe tbody tr th:only-of-type {\n",
       "        vertical-align: middle;\n",
       "    }\n",
       "\n",
       "    .dataframe tbody tr th {\n",
       "        vertical-align: top;\n",
       "    }\n",
       "\n",
       "    .dataframe thead th {\n",
       "        text-align: right;\n",
       "    }\n",
       "</style>\n",
       "<table border=\"1\" class=\"dataframe\">\n",
       "  <thead>\n",
       "    <tr style=\"text-align: right;\">\n",
       "      <th></th>\n",
       "      <th>device_id_hash</th>\n",
       "    </tr>\n",
       "    <tr>\n",
       "      <th>event_name</th>\n",
       "      <th></th>\n",
       "    </tr>\n",
       "  </thead>\n",
       "  <tbody>\n",
       "    <tr>\n",
       "      <th>MainScreenAppear</th>\n",
       "      <td>7419</td>\n",
       "    </tr>\n",
       "    <tr>\n",
       "      <th>OffersScreenAppear</th>\n",
       "      <td>4593</td>\n",
       "    </tr>\n",
       "    <tr>\n",
       "      <th>CartScreenAppear</th>\n",
       "      <td>3734</td>\n",
       "    </tr>\n",
       "    <tr>\n",
       "      <th>PaymentScreenSuccessful</th>\n",
       "      <td>3539</td>\n",
       "    </tr>\n",
       "    <tr>\n",
       "      <th>Tutorial</th>\n",
       "      <td>840</td>\n",
       "    </tr>\n",
       "  </tbody>\n",
       "</table>\n",
       "</div>"
      ],
      "text/plain": [
       "                         device_id_hash\n",
       "event_name                             \n",
       "MainScreenAppear                   7419\n",
       "OffersScreenAppear                 4593\n",
       "CartScreenAppear                   3734\n",
       "PaymentScreenSuccessful            3539\n",
       "Tutorial                            840"
      ]
     },
     "execution_count": 48,
     "metadata": {},
     "output_type": "execute_result"
    }
   ],
   "source": [
    "users_per_event = data.groupby('event_name').agg({'device_id_hash' : 'nunique'})\n",
    "users_per_event.sort_values(by='device_id_hash', ascending=False)"
   ]
  },
  {
   "cell_type": "markdown",
   "metadata": {},
   "source": [
    "Посчитала кол-во пользователей на каждое событие. Наиболее популярным событием среди пользователей оказалось MainScreenAppear. Далее топ совпадает с предыдущим заданием."
   ]
  },
  {
   "cell_type": "code",
   "execution_count": 49,
   "metadata": {},
   "outputs": [
    {
     "data": {
      "text/html": [
       "<div>\n",
       "<style scoped>\n",
       "    .dataframe tbody tr th:only-of-type {\n",
       "        vertical-align: middle;\n",
       "    }\n",
       "\n",
       "    .dataframe tbody tr th {\n",
       "        vertical-align: top;\n",
       "    }\n",
       "\n",
       "    .dataframe thead th {\n",
       "        text-align: right;\n",
       "    }\n",
       "</style>\n",
       "<table border=\"1\" class=\"dataframe\">\n",
       "  <thead>\n",
       "    <tr style=\"text-align: right;\">\n",
       "      <th></th>\n",
       "      <th>device_id_hash</th>\n",
       "      <th>share</th>\n",
       "    </tr>\n",
       "    <tr>\n",
       "      <th>event_name</th>\n",
       "      <th></th>\n",
       "      <th></th>\n",
       "    </tr>\n",
       "  </thead>\n",
       "  <tbody>\n",
       "    <tr>\n",
       "      <th>MainScreenAppear</th>\n",
       "      <td>7419</td>\n",
       "      <td>98.473586</td>\n",
       "    </tr>\n",
       "    <tr>\n",
       "      <th>OffersScreenAppear</th>\n",
       "      <td>4593</td>\n",
       "      <td>60.963632</td>\n",
       "    </tr>\n",
       "    <tr>\n",
       "      <th>CartScreenAppear</th>\n",
       "      <td>3734</td>\n",
       "      <td>49.561986</td>\n",
       "    </tr>\n",
       "    <tr>\n",
       "      <th>PaymentScreenSuccessful</th>\n",
       "      <td>3539</td>\n",
       "      <td>46.973719</td>\n",
       "    </tr>\n",
       "    <tr>\n",
       "      <th>Tutorial</th>\n",
       "      <td>840</td>\n",
       "      <td>11.149456</td>\n",
       "    </tr>\n",
       "  </tbody>\n",
       "</table>\n",
       "</div>"
      ],
      "text/plain": [
       "                         device_id_hash      share\n",
       "event_name                                        \n",
       "MainScreenAppear                   7419  98.473586\n",
       "OffersScreenAppear                 4593  60.963632\n",
       "CartScreenAppear                   3734  49.561986\n",
       "PaymentScreenSuccessful            3539  46.973719\n",
       "Tutorial                            840  11.149456"
      ]
     },
     "execution_count": 49,
     "metadata": {},
     "output_type": "execute_result"
    }
   ],
   "source": [
    "nunique_users = data['device_id_hash'].nunique()\n",
    "users_per_event['share'] = (users_per_event['device_id_hash'] / nunique_users) * 100\n",
    "users_per_event.sort_values(by='share', ascending=False)"
   ]
  },
  {
   "cell_type": "markdown",
   "metadata": {},
   "source": [
    "<b> Вывод 4.2: </b> расчитала кол-во пользователей, которые совершали каждое из событий лога, и их долю. \n",
    "- 98.5% пользователей первой недели августа 2019г. просматривали главный экран,\n",
    "- для 61% польз. были показаны спец. предложения,\n",
    "- 49,5% и 47% пользователей переходили в корзину и оплачивали заказ соответственно,\n",
    "- 11% польз. было показано обучение."
   ]
  },
  {
   "cell_type": "markdown",
   "metadata": {},
   "source": [
    "### Предположите, в каком порядке происходят события. Все ли они выстраиваются в последовательную цепочку? Их не нужно учитывать при расчёте воронки."
   ]
  },
  {
   "cell_type": "markdown",
   "metadata": {},
   "source": [
    "Логично предположить, что переходы выстраиваются в следующую последовательность:\n",
    "1. MainScreenAppear (главный экран),\n",
    "2. OffersScreenAppear (экран спец. предложений),\n",
    "3. CartScreenAppear (корзина),\n",
    "4. PaymentScreenSuccessful (экран успешной оплаты).\n",
    "\n",
    "Демо приложения (Tutorial) не очень встает в эту последовательность. Предположу, что он показывается только новым пользователям, тогда это событие встало бы до или после главного экрана."
   ]
  },
  {
   "cell_type": "markdown",
   "metadata": {},
   "source": [
    "### По воронке событий посчитайте, какая доля пользователей проходит на следующий шаг воронки (от числа пользователей на предыдущем)"
   ]
  },
  {
   "cell_type": "markdown",
   "metadata": {},
   "source": [
    "То есть для последовательности событий A → B → C посчитайте отношение числа пользователей с событием B к количеству пользователей с событием A, а также отношение числа пользователей с событием C к количеству пользователей с событием B."
   ]
  },
  {
   "cell_type": "markdown",
   "metadata": {},
   "source": [
    "Для расчета приму следующую последовательность: MainScreenAppear -> OffersScreenAppear -> CartScreenAppear -> PaymentScreenSuccessful."
   ]
  },
  {
   "cell_type": "code",
   "execution_count": 50,
   "metadata": {},
   "outputs": [
    {
     "data": {
      "text/html": [
       "<div>\n",
       "<style scoped>\n",
       "    .dataframe tbody tr th:only-of-type {\n",
       "        vertical-align: middle;\n",
       "    }\n",
       "\n",
       "    .dataframe tbody tr th {\n",
       "        vertical-align: top;\n",
       "    }\n",
       "\n",
       "    .dataframe thead th {\n",
       "        text-align: right;\n",
       "    }\n",
       "</style>\n",
       "<table border=\"1\" class=\"dataframe\">\n",
       "  <thead>\n",
       "    <tr style=\"text-align: right;\">\n",
       "      <th></th>\n",
       "      <th>event_name</th>\n",
       "      <th>device_id_hash</th>\n",
       "      <th>event_timestamp</th>\n",
       "      <th>exp_id</th>\n",
       "      <th>event_date_time</th>\n",
       "      <th>event_date</th>\n",
       "    </tr>\n",
       "  </thead>\n",
       "  <tbody>\n",
       "    <tr>\n",
       "      <th>2827</th>\n",
       "      <td>MainScreenAppear</td>\n",
       "      <td>3737462046622621720</td>\n",
       "      <td>1564618080</td>\n",
       "      <td>246</td>\n",
       "      <td>2019-08-01 00:08:00</td>\n",
       "      <td>2019-08-01</td>\n",
       "    </tr>\n",
       "    <tr>\n",
       "      <th>2828</th>\n",
       "      <td>MainScreenAppear</td>\n",
       "      <td>3737462046622621720</td>\n",
       "      <td>1564618135</td>\n",
       "      <td>246</td>\n",
       "      <td>2019-08-01 00:08:55</td>\n",
       "      <td>2019-08-01</td>\n",
       "    </tr>\n",
       "    <tr>\n",
       "      <th>2829</th>\n",
       "      <td>OffersScreenAppear</td>\n",
       "      <td>3737462046622621720</td>\n",
       "      <td>1564618138</td>\n",
       "      <td>246</td>\n",
       "      <td>2019-08-01 00:08:58</td>\n",
       "      <td>2019-08-01</td>\n",
       "    </tr>\n",
       "    <tr>\n",
       "      <th>2830</th>\n",
       "      <td>MainScreenAppear</td>\n",
       "      <td>1433840883824088890</td>\n",
       "      <td>1564618139</td>\n",
       "      <td>247</td>\n",
       "      <td>2019-08-01 00:08:59</td>\n",
       "      <td>2019-08-01</td>\n",
       "    </tr>\n",
       "    <tr>\n",
       "      <th>2831</th>\n",
       "      <td>MainScreenAppear</td>\n",
       "      <td>4899590676214355127</td>\n",
       "      <td>1564618215</td>\n",
       "      <td>247</td>\n",
       "      <td>2019-08-01 00:10:15</td>\n",
       "      <td>2019-08-01</td>\n",
       "    </tr>\n",
       "  </tbody>\n",
       "</table>\n",
       "</div>"
      ],
      "text/plain": [
       "              event_name       device_id_hash  event_timestamp  exp_id  \\\n",
       "2827    MainScreenAppear  3737462046622621720       1564618080     246   \n",
       "2828    MainScreenAppear  3737462046622621720       1564618135     246   \n",
       "2829  OffersScreenAppear  3737462046622621720       1564618138     246   \n",
       "2830    MainScreenAppear  1433840883824088890       1564618139     247   \n",
       "2831    MainScreenAppear  4899590676214355127       1564618215     247   \n",
       "\n",
       "         event_date_time  event_date  \n",
       "2827 2019-08-01 00:08:00  2019-08-01  \n",
       "2828 2019-08-01 00:08:55  2019-08-01  \n",
       "2829 2019-08-01 00:08:58  2019-08-01  \n",
       "2830 2019-08-01 00:08:59  2019-08-01  \n",
       "2831 2019-08-01 00:10:15  2019-08-01  "
      ]
     },
     "execution_count": 50,
     "metadata": {},
     "output_type": "execute_result"
    }
   ],
   "source": [
    "funnel_events = ['MainScreenAppear', 'OffersScreenAppear', 'CartScreenAppear', 'PaymentScreenSuccessful']\n",
    "funnel_data = data[data.event_name.isin(funnel_events)]\n",
    "funnel_data.head()"
   ]
  },
  {
   "cell_type": "code",
   "execution_count": 51,
   "metadata": {},
   "outputs": [
    {
     "data": {
      "text/html": [
       "<div>\n",
       "<style scoped>\n",
       "    .dataframe tbody tr th:only-of-type {\n",
       "        vertical-align: middle;\n",
       "    }\n",
       "\n",
       "    .dataframe tbody tr th {\n",
       "        vertical-align: top;\n",
       "    }\n",
       "\n",
       "    .dataframe thead th {\n",
       "        text-align: right;\n",
       "    }\n",
       "</style>\n",
       "<table border=\"1\" class=\"dataframe\">\n",
       "  <thead>\n",
       "    <tr style=\"text-align: right;\">\n",
       "      <th></th>\n",
       "      <th>device_id_hash</th>\n",
       "    </tr>\n",
       "    <tr>\n",
       "      <th>event_name</th>\n",
       "      <th></th>\n",
       "    </tr>\n",
       "  </thead>\n",
       "  <tbody>\n",
       "    <tr>\n",
       "      <th>MainScreenAppear</th>\n",
       "      <td>7419</td>\n",
       "    </tr>\n",
       "    <tr>\n",
       "      <th>OffersScreenAppear</th>\n",
       "      <td>4593</td>\n",
       "    </tr>\n",
       "    <tr>\n",
       "      <th>CartScreenAppear</th>\n",
       "      <td>3734</td>\n",
       "    </tr>\n",
       "    <tr>\n",
       "      <th>PaymentScreenSuccessful</th>\n",
       "      <td>3539</td>\n",
       "    </tr>\n",
       "  </tbody>\n",
       "</table>\n",
       "</div>"
      ],
      "text/plain": [
       "                         device_id_hash\n",
       "event_name                             \n",
       "MainScreenAppear                   7419\n",
       "OffersScreenAppear                 4593\n",
       "CartScreenAppear                   3734\n",
       "PaymentScreenSuccessful            3539"
      ]
     },
     "execution_count": 51,
     "metadata": {},
     "output_type": "execute_result"
    }
   ],
   "source": [
    "grouped_funnel_data = funnel_data.groupby('event_name').agg({'device_id_hash':'nunique'}).sort_values(by='device_id_hash', ascending = False)\n",
    "grouped_funnel_data"
   ]
  },
  {
   "cell_type": "code",
   "execution_count": 52,
   "metadata": {},
   "outputs": [
    {
     "data": {
      "text/html": [
       "<div>\n",
       "<style scoped>\n",
       "    .dataframe tbody tr th:only-of-type {\n",
       "        vertical-align: middle;\n",
       "    }\n",
       "\n",
       "    .dataframe tbody tr th {\n",
       "        vertical-align: top;\n",
       "    }\n",
       "\n",
       "    .dataframe thead th {\n",
       "        text-align: right;\n",
       "    }\n",
       "</style>\n",
       "<table border=\"1\" class=\"dataframe\">\n",
       "  <thead>\n",
       "    <tr style=\"text-align: right;\">\n",
       "      <th></th>\n",
       "      <th>device_id_hash</th>\n",
       "      <th>share</th>\n",
       "    </tr>\n",
       "    <tr>\n",
       "      <th>event_name</th>\n",
       "      <th></th>\n",
       "      <th></th>\n",
       "    </tr>\n",
       "  </thead>\n",
       "  <tbody>\n",
       "    <tr>\n",
       "      <th>MainScreenAppear</th>\n",
       "      <td>7419</td>\n",
       "      <td>NaN</td>\n",
       "    </tr>\n",
       "    <tr>\n",
       "      <th>OffersScreenAppear</th>\n",
       "      <td>4593</td>\n",
       "      <td>61.908613</td>\n",
       "    </tr>\n",
       "    <tr>\n",
       "      <th>CartScreenAppear</th>\n",
       "      <td>3734</td>\n",
       "      <td>81.297627</td>\n",
       "    </tr>\n",
       "    <tr>\n",
       "      <th>PaymentScreenSuccessful</th>\n",
       "      <td>3539</td>\n",
       "      <td>94.777718</td>\n",
       "    </tr>\n",
       "  </tbody>\n",
       "</table>\n",
       "</div>"
      ],
      "text/plain": [
       "                         device_id_hash      share\n",
       "event_name                                        \n",
       "MainScreenAppear                   7419        NaN\n",
       "OffersScreenAppear                 4593  61.908613\n",
       "CartScreenAppear                   3734  81.297627\n",
       "PaymentScreenSuccessful            3539  94.777718"
      ]
     },
     "execution_count": 52,
     "metadata": {},
     "output_type": "execute_result"
    }
   ],
   "source": [
    "grouped_funnel_data['share'] = (grouped_funnel_data['device_id_hash'] / grouped_funnel_data['device_id_hash'].shift(1)) * 100\n",
    "grouped_funnel_data"
   ]
  },
  {
   "cell_type": "markdown",
   "metadata": {},
   "source": [
    "<b> Вывод 4.4: </b> по воронке событий расчитала доли пользователей при переходе с одного события на другой (не учитывалось событие Tutorial, т.к. он не совсем вписывается в последоватьность событий):\n",
    "1. 61.9% пользователей переходят с MainScreenAppear на OffersScreenAppear;\n",
    "2. 81.3% пользователей осуществляют переход OffersScreenAppear -> CartScreenAppear;\n",
    "3. 94.8% пользователей осуществляют переход CartScreenAppear -> PaymentScreenSuccessful."
   ]
  },
  {
   "cell_type": "markdown",
   "metadata": {},
   "source": [
    "### На каком шаге теряете больше всего пользователей?"
   ]
  },
  {
   "cell_type": "code",
   "execution_count": 53,
   "metadata": {},
   "outputs": [
    {
     "data": {
      "image/png": "[encoded data removed]",
      "text/plain": [
       "<Figure size 1200x800 with 1 Axes>"
      ]
     },
     "metadata": {},
     "output_type": "display_data"
    }
   ],
   "source": [
    "# по численным данным предполагаю, что больше всего теряется между 1 и 2 событиями в последовательности\n",
    "# построим столбчатую диаграмму\n",
    "plt.figure(figsize=(12, 8))\n",
    "grouped_funnel_data['device_id_hash'].plot(kind='bar')\n",
    "plt.title('Воронка событий')\n",
    "plt.xlabel('Событие')\n",
    "plt.xticks(rotation=45)\n",
    "plt.ylabel('Кол-во пользователей')\n",
    "plt.show()"
   ]
  },
  {
   "cell_type": "code",
   "execution_count": 54,
   "metadata": {},
   "outputs": [
    {
     "data": {
      "text/html": [
       "<div>\n",
       "<style scoped>\n",
       "    .dataframe tbody tr th:only-of-type {\n",
       "        vertical-align: middle;\n",
       "    }\n",
       "\n",
       "    .dataframe tbody tr th {\n",
       "        vertical-align: top;\n",
       "    }\n",
       "\n",
       "    .dataframe thead th {\n",
       "        text-align: right;\n",
       "    }\n",
       "</style>\n",
       "<table border=\"1\" class=\"dataframe\">\n",
       "  <thead>\n",
       "    <tr style=\"text-align: right;\">\n",
       "      <th></th>\n",
       "      <th>device_id_hash</th>\n",
       "      <th>share</th>\n",
       "      <th>dif</th>\n",
       "    </tr>\n",
       "    <tr>\n",
       "      <th>event_name</th>\n",
       "      <th></th>\n",
       "      <th></th>\n",
       "      <th></th>\n",
       "    </tr>\n",
       "  </thead>\n",
       "  <tbody>\n",
       "    <tr>\n",
       "      <th>MainScreenAppear</th>\n",
       "      <td>7419</td>\n",
       "      <td>NaN</td>\n",
       "      <td>NaN</td>\n",
       "    </tr>\n",
       "    <tr>\n",
       "      <th>OffersScreenAppear</th>\n",
       "      <td>4593</td>\n",
       "      <td>61.908613</td>\n",
       "      <td>-2826.0</td>\n",
       "    </tr>\n",
       "    <tr>\n",
       "      <th>CartScreenAppear</th>\n",
       "      <td>3734</td>\n",
       "      <td>81.297627</td>\n",
       "      <td>-859.0</td>\n",
       "    </tr>\n",
       "    <tr>\n",
       "      <th>PaymentScreenSuccessful</th>\n",
       "      <td>3539</td>\n",
       "      <td>94.777718</td>\n",
       "      <td>-195.0</td>\n",
       "    </tr>\n",
       "  </tbody>\n",
       "</table>\n",
       "</div>"
      ],
      "text/plain": [
       "                         device_id_hash      share     dif\n",
       "event_name                                                \n",
       "MainScreenAppear                   7419        NaN     NaN\n",
       "OffersScreenAppear                 4593  61.908613 -2826.0\n",
       "CartScreenAppear                   3734  81.297627  -859.0\n",
       "PaymentScreenSuccessful            3539  94.777718  -195.0"
      ]
     },
     "execution_count": 54,
     "metadata": {},
     "output_type": "execute_result"
    }
   ],
   "source": [
    "grouped_funnel_data['dif'] = grouped_funnel_data['device_id_hash'] - grouped_funnel_data['device_id_hash'].shift(1)\n",
    "grouped_funnel_data"
   ]
  },
  {
   "cell_type": "markdown",
   "metadata": {},
   "source": [
    "<b> Вывод 4.5: </b> больше всего пользователей теряется на первом переходе MainScreenAppear -> OffersScreenAppear."
   ]
  },
  {
   "cell_type": "markdown",
   "metadata": {},
   "source": [
    "### Какая доля пользователей доходит от первого события до оплаты?"
   ]
  },
  {
   "cell_type": "code",
   "execution_count": 55,
   "metadata": {},
   "outputs": [
    {
     "name": "stdout",
     "output_type": "stream",
     "text": [
      "Доля пользователей, проходящая путь от главного экрана до оплаты, - 47.70%\n"
     ]
    }
   ],
   "source": [
    "print('Доля пользователей, проходящая путь от главного экрана до оплаты, - {:.2f}%'\n",
    "      .format(grouped_funnel_data.loc['PaymentScreenSuccessful', 'device_id_hash'] / grouped_funnel_data.loc['MainScreenAppear', 'device_id_hash'] * 100))"
   ]
  },
  {
   "cell_type": "markdown",
   "metadata": {},
   "source": [
    "<b> Вывод 4.6: </b> Доля пользователей, проходящая путь от главного экрана до оплаты, - 47.70%"
   ]
  },
  {
   "cell_type": "markdown",
   "metadata": {},
   "source": [
    "<b> ВЫВОД 4 </b> провела исследование воронки событий.\n",
    "1. Всего в логах есть 5 событий. Наиболее часто встречается - MainScreenAppear (почти половина всех показаов первой недели августа 2019). Далее c небольшой разницей между собой - OffersScreenAppear 19.23%, CartScreenAppear 17.56%, PaymentScreenSuccessful 14.08%. Раздел Tutorial почти не показывался - 0.42%.\n",
    "2. расчитала кол-во пользователей, которые совершали каждое из событий лога, и их долю:\n",
    "    - 98.5% пользователей первой недели августа 2019г. просматривали главный экран,\n",
    "    - для 61% польз. были показаны спец. предложения,\n",
    "    - 49,5% и 47% пользователей переходили в корзину и оплачивали заказ соответственно,\n",
    "    - 11% польз. было показано обучение.\n",
    "3. Предпопложила последовательность событий: MainScreenAppear -> OffersScreenAppear -> CartScreenAppear -> PaymentScreenSuccessful. \n",
    "4. Событие Tutorial не совсем вписывается в последовательность, предпоплагаю, что этот этап показывается только новым пользователя до или после главного экрана при первом запуске.\n",
    "5. Расчитатала, что больше всего пользователей теряется при первом переходе: MainScreenAppear -> OffersScreenAppear.\n",
    "6. При этом доля пользователей, прошедших от главного экрана до успешной оплаты, - 47.7%.\n",
    "7. Если сравнивать кол-во пользователей между соседними событиями, то:\n",
    "    - 61.9% пользователей переходят с MainScreenAppear на OffersScreenAppear;\n",
    "    - 81.3% пользователей осуществляют переход OffersScreenAppear -> CartScreenAppear;\n",
    "    - 94.8% пользователей осуществляют переход CartScreenAppear -> PaymentScreenSuccessful"
   ]
  },
  {
   "cell_type": "markdown",
   "metadata": {},
   "source": [
    "## Изучение результатов А/А/В-теста"
   ]
  },
  {
   "cell_type": "markdown",
   "metadata": {},
   "source": [
    "### Сколько пользователей в каждой экспериментальной группе?"
   ]
  },
  {
   "cell_type": "code",
   "execution_count": 56,
   "metadata": {},
   "outputs": [
    {
     "data": {
      "text/html": [
       "<div>\n",
       "<style scoped>\n",
       "    .dataframe tbody tr th:only-of-type {\n",
       "        vertical-align: middle;\n",
       "    }\n",
       "\n",
       "    .dataframe tbody tr th {\n",
       "        vertical-align: top;\n",
       "    }\n",
       "\n",
       "    .dataframe thead tr th {\n",
       "        text-align: left;\n",
       "    }\n",
       "\n",
       "    .dataframe thead tr:last-of-type th {\n",
       "        text-align: right;\n",
       "    }\n",
       "</style>\n",
       "<table border=\"1\" class=\"dataframe\">\n",
       "  <thead>\n",
       "    <tr>\n",
       "      <th></th>\n",
       "      <th colspan=\"2\" halign=\"left\">device_id_hash</th>\n",
       "    </tr>\n",
       "    <tr>\n",
       "      <th></th>\n",
       "      <th>count</th>\n",
       "      <th>nunique</th>\n",
       "    </tr>\n",
       "    <tr>\n",
       "      <th>exp_id</th>\n",
       "      <th></th>\n",
       "      <th></th>\n",
       "    </tr>\n",
       "  </thead>\n",
       "  <tbody>\n",
       "    <tr>\n",
       "      <th>246</th>\n",
       "      <td>79302</td>\n",
       "      <td>2484</td>\n",
       "    </tr>\n",
       "    <tr>\n",
       "      <th>247</th>\n",
       "      <td>77022</td>\n",
       "      <td>2513</td>\n",
       "    </tr>\n",
       "    <tr>\n",
       "      <th>248</th>\n",
       "      <td>84563</td>\n",
       "      <td>2537</td>\n",
       "    </tr>\n",
       "  </tbody>\n",
       "</table>\n",
       "</div>"
      ],
      "text/plain": [
       "       device_id_hash        \n",
       "                count nunique\n",
       "exp_id                       \n",
       "246             79302    2484\n",
       "247             77022    2513\n",
       "248             84563    2537"
      ]
     },
     "execution_count": 56,
     "metadata": {},
     "output_type": "execute_result"
    }
   ],
   "source": [
    "data.groupby('exp_id').agg({'device_id_hash' : ['count', 'nunique']})"
   ]
  },
  {
   "cell_type": "markdown",
   "metadata": {},
   "source": [
    "<b> Вывод 5.1: </b> в каждой экпериментальной группе около 2.5 тыс. пользователей."
   ]
  },
  {
   "cell_type": "markdown",
   "metadata": {},
   "source": [
    "Далее по заданию необходимо будет проводить множество проверок, есть ли стат. значимость между различными выборками. Поэтому напишем функцию.\n",
    "\n",
    "Для проверки нам необходимы:\n",
    "1. Кол-во уникальных пользователей в сравниваемых группах,\n",
    "2. Кол-во пользователей, прошедших событие."
   ]
  },
  {
   "cell_type": "code",
   "execution_count": 57,
   "metadata": {},
   "outputs": [],
   "source": [
    "def test(users, events, alpha):\n",
    "    \n",
    "    p1 = events[0] / users[0] # доля для 1 группы\n",
    "    p2 = events[1] / users[1] # доля для 2 группы\n",
    "        \n",
    "    p_combined = sum(events) / sum(users) \n",
    "        \n",
    "    difference = p1 - p2\n",
    "        \n",
    "    z_value = difference / mth.sqrt(\n",
    "        p_combined * (1 - p_combined) * (1 / users[0] + 1 / users[1])\n",
    "    )\n",
    "        \n",
    "    distr = st.norm(0, 1)\n",
    "    \n",
    "    p_value = (1 - distr.cdf(abs(z_value))) * 2\n",
    "        \n",
    "    print('p-value:', p_value)\n",
    "    if p_value < alpha:\n",
    "        print('Отвергаем нулевую гипотезу.')\n",
    "    else:\n",
    "        print('Не получилось отвергнуть нулевую гипотезу.')"
   ]
  },
  {
   "cell_type": "markdown",
   "metadata": {},
   "source": [
    "### А/А-тест"
   ]
  },
  {
   "cell_type": "code",
   "execution_count": 58,
   "metadata": {
    "scrolled": false
   },
   "outputs": [
    {
     "data": {
      "text/html": [
       "<div>\n",
       "<style scoped>\n",
       "    .dataframe tbody tr th:only-of-type {\n",
       "        vertical-align: middle;\n",
       "    }\n",
       "\n",
       "    .dataframe tbody tr th {\n",
       "        vertical-align: top;\n",
       "    }\n",
       "\n",
       "    .dataframe thead th {\n",
       "        text-align: right;\n",
       "    }\n",
       "</style>\n",
       "<table border=\"1\" class=\"dataframe\">\n",
       "  <thead>\n",
       "    <tr style=\"text-align: right;\">\n",
       "      <th>exp_id</th>\n",
       "      <th>246</th>\n",
       "      <th>247</th>\n",
       "      <th>248</th>\n",
       "    </tr>\n",
       "    <tr>\n",
       "      <th>event_name</th>\n",
       "      <th></th>\n",
       "      <th></th>\n",
       "      <th></th>\n",
       "    </tr>\n",
       "  </thead>\n",
       "  <tbody>\n",
       "    <tr>\n",
       "      <th>CartScreenAppear</th>\n",
       "      <td>1266</td>\n",
       "      <td>1238</td>\n",
       "      <td>1230</td>\n",
       "    </tr>\n",
       "    <tr>\n",
       "      <th>MainScreenAppear</th>\n",
       "      <td>2450</td>\n",
       "      <td>2476</td>\n",
       "      <td>2493</td>\n",
       "    </tr>\n",
       "    <tr>\n",
       "      <th>OffersScreenAppear</th>\n",
       "      <td>1542</td>\n",
       "      <td>1520</td>\n",
       "      <td>1531</td>\n",
       "    </tr>\n",
       "    <tr>\n",
       "      <th>PaymentScreenSuccessful</th>\n",
       "      <td>1200</td>\n",
       "      <td>1158</td>\n",
       "      <td>1181</td>\n",
       "    </tr>\n",
       "    <tr>\n",
       "      <th>Tutorial</th>\n",
       "      <td>278</td>\n",
       "      <td>283</td>\n",
       "      <td>279</td>\n",
       "    </tr>\n",
       "  </tbody>\n",
       "</table>\n",
       "</div>"
      ],
      "text/plain": [
       "exp_id                    246   247   248\n",
       "event_name                               \n",
       "CartScreenAppear         1266  1238  1230\n",
       "MainScreenAppear         2450  2476  2493\n",
       "OffersScreenAppear       1542  1520  1531\n",
       "PaymentScreenSuccessful  1200  1158  1181\n",
       "Tutorial                  278   283   279"
      ]
     },
     "execution_count": 58,
     "metadata": {},
     "output_type": "execute_result"
    }
   ],
   "source": [
    "pop_events = data.pivot_table(index='event_name', columns='exp_id', values='device_id_hash', aggfunc='nunique')\n",
    "pop_events"
   ]
  },
  {
   "cell_type": "code",
   "execution_count": 59,
   "metadata": {},
   "outputs": [],
   "source": [
    "# сравниваемые экспериментальные группы и уровень стат. значимости\n",
    "group_ids = [246, 247]\n",
    "alpha = 0.05"
   ]
  },
  {
   "cell_type": "code",
   "execution_count": 60,
   "metadata": {},
   "outputs": [
    {
     "data": {
      "text/plain": [
       "[2484, 2513]"
      ]
     },
     "execution_count": 60,
     "metadata": {},
     "output_type": "execute_result"
    }
   ],
   "source": [
    "# кол-во уникальных пользователей в группах 246 и 247\n",
    "users_per_group = [data.query('exp_id == @group_id')['device_id_hash'].nunique() for group_id in group_ids]\n",
    "users_per_group"
   ]
  },
  {
   "cell_type": "markdown",
   "metadata": {},
   "source": [
    "#### Событие Tutorial"
   ]
  },
  {
   "cell_type": "markdown",
   "metadata": {},
   "source": [
    "- Н0: Различия между группами 246 и 247 по событию Tutorial статистически НЕ значимы.\n",
    "- Н1: Различия между группами 246 и 247 по событию Tutorial статистически значимы.\n",
    "\n",
    "(остальные гипотезы выдвигались по такому же принципу)"
   ]
  },
  {
   "cell_type": "code",
   "execution_count": 61,
   "metadata": {},
   "outputs": [
    {
     "data": {
      "text/plain": [
       "[278, 283]"
      ]
     },
     "execution_count": 61,
     "metadata": {},
     "output_type": "execute_result"
    }
   ],
   "source": [
    "# кол-во польз. из группы на событии\n",
    "the_event = 'Tutorial'\n",
    "users_per_event = (\n",
    "    [data.query('exp_id == @group_id and event_name == @the_event')['device_id_hash'].nunique() for group_id in group_ids]\n",
    ")\n",
    "users_per_event"
   ]
  },
  {
   "cell_type": "code",
   "execution_count": 62,
   "metadata": {},
   "outputs": [
    {
     "name": "stdout",
     "output_type": "stream",
     "text": [
      "p-value: 0.9376996189257114\n",
      "Не получилось отвергнуть нулевую гипотезу.\n"
     ]
    }
   ],
   "source": [
    "test(users_per_group, users_per_event, alpha)"
   ]
  },
  {
   "cell_type": "markdown",
   "metadata": {},
   "source": [
    "#### Событие MainScreenAppear"
   ]
  },
  {
   "cell_type": "code",
   "execution_count": 63,
   "metadata": {},
   "outputs": [
    {
     "data": {
      "text/plain": [
       "[2450, 2476]"
      ]
     },
     "execution_count": 63,
     "metadata": {},
     "output_type": "execute_result"
    }
   ],
   "source": [
    "# кол-во польз. из группы на событии\n",
    "the_event = 'MainScreenAppear'\n",
    "users_per_event = (\n",
    "    [data.query('exp_id == @group_id and event_name == @the_event')['device_id_hash'].nunique() for group_id in group_ids]\n",
    ")\n",
    "users_per_event"
   ]
  },
  {
   "cell_type": "code",
   "execution_count": 64,
   "metadata": {},
   "outputs": [
    {
     "name": "stdout",
     "output_type": "stream",
     "text": [
      "p-value: 0.7570597232046099\n",
      "Не получилось отвергнуть нулевую гипотезу.\n"
     ]
    }
   ],
   "source": [
    "test(users_per_group, users_per_event, alpha)"
   ]
  },
  {
   "cell_type": "markdown",
   "metadata": {},
   "source": [
    "#### Событие OffersScreenAppear"
   ]
  },
  {
   "cell_type": "code",
   "execution_count": 65,
   "metadata": {},
   "outputs": [
    {
     "data": {
      "text/plain": [
       "[1542, 1520]"
      ]
     },
     "execution_count": 65,
     "metadata": {},
     "output_type": "execute_result"
    }
   ],
   "source": [
    "# кол-во польз. из группы на событии\n",
    "the_event = 'OffersScreenAppear'\n",
    "users_per_event = (\n",
    "    [data.query('exp_id == @group_id and event_name == @the_event')['device_id_hash'].nunique() for group_id in group_ids]\n",
    ")\n",
    "users_per_event"
   ]
  },
  {
   "cell_type": "code",
   "execution_count": 66,
   "metadata": {},
   "outputs": [
    {
     "name": "stdout",
     "output_type": "stream",
     "text": [
      "p-value: 0.2480954578522181\n",
      "Не получилось отвергнуть нулевую гипотезу.\n"
     ]
    }
   ],
   "source": [
    "test(users_per_group, users_per_event, alpha)"
   ]
  },
  {
   "cell_type": "markdown",
   "metadata": {},
   "source": [
    "#### Событие CartScreenAppear"
   ]
  },
  {
   "cell_type": "code",
   "execution_count": 67,
   "metadata": {},
   "outputs": [
    {
     "data": {
      "text/plain": [
       "[1266, 1238]"
      ]
     },
     "execution_count": 67,
     "metadata": {},
     "output_type": "execute_result"
    }
   ],
   "source": [
    "# кол-во польз. из группы на событии\n",
    "the_event = 'CartScreenAppear'\n",
    "users_per_event = (\n",
    "    [data.query('exp_id == @group_id and event_name == @the_event')['device_id_hash'].nunique() for group_id in group_ids]\n",
    ")\n",
    "users_per_event"
   ]
  },
  {
   "cell_type": "code",
   "execution_count": 68,
   "metadata": {},
   "outputs": [
    {
     "name": "stdout",
     "output_type": "stream",
     "text": [
      "p-value: 0.22883372237997213\n",
      "Не получилось отвергнуть нулевую гипотезу.\n"
     ]
    }
   ],
   "source": [
    "test(users_per_group, users_per_event, alpha)"
   ]
  },
  {
   "cell_type": "markdown",
   "metadata": {},
   "source": [
    "#### Событие PaymentScreenSuccessful"
   ]
  },
  {
   "cell_type": "code",
   "execution_count": 69,
   "metadata": {},
   "outputs": [
    {
     "data": {
      "text/plain": [
       "[1200, 1158]"
      ]
     },
     "execution_count": 69,
     "metadata": {},
     "output_type": "execute_result"
    }
   ],
   "source": [
    "# кол-во польз. из группы на событии\n",
    "the_event = 'PaymentScreenSuccessful'\n",
    "users_per_event = (\n",
    "    [data.query('exp_id == @group_id and event_name == @the_event')['device_id_hash'].nunique() for group_id in group_ids]\n",
    ")\n",
    "users_per_event"
   ]
  },
  {
   "cell_type": "code",
   "execution_count": 70,
   "metadata": {},
   "outputs": [
    {
     "name": "stdout",
     "output_type": "stream",
     "text": [
      "p-value: 0.11456679313141849\n",
      "Не получилось отвергнуть нулевую гипотезу.\n"
     ]
    }
   ],
   "source": [
    "test(users_per_group, users_per_event, alpha)"
   ]
  },
  {
   "cell_type": "markdown",
   "metadata": {},
   "source": [
    "<b> Вывод 5.2: </b> провела А/А-тест. Получила, что нет статистически значимых различий между контрольными группами 246 и 247 по всем событиям. Можно сказать, что пользователи распределились однородно между группами А/А/В-теста, и приступать к проверке экспериментальной группы 248."
   ]
  },
  {
   "cell_type": "markdown",
   "metadata": {},
   "source": [
    "### A/B-тест"
   ]
  },
  {
   "cell_type": "markdown",
   "metadata": {},
   "source": [
    "Необходимо попарно сравнить: 246-248, 247-248, (246+247)-248, и уже было 246-247. \n",
    "\n",
    "Так это множественное сравнение, то необходимо внести поправку к статистической значимости. \n",
    "\n",
    "Всего у нас 5 событий и 4 сравнения, то есть 20. Использую поправку Бонферрони."
   ]
  },
  {
   "cell_type": "code",
   "execution_count": 71,
   "metadata": {},
   "outputs": [],
   "source": [
    "alpha = alpha / 20 # поправка Бонферрони уровня стат. значимости"
   ]
  },
  {
   "cell_type": "markdown",
   "metadata": {},
   "source": [
    "#### Группы 246 и 248"
   ]
  },
  {
   "cell_type": "code",
   "execution_count": 72,
   "metadata": {},
   "outputs": [],
   "source": [
    "# сравниваемые экспериментальные группы\n",
    "group_ids = [246, 248]\n",
    "\n",
    "# кол-во уникальных пользователей в группах 246 и 248\n",
    "users_per_group = [data.query('exp_id == @group_id')['device_id_hash'].nunique() for group_id in group_ids]"
   ]
  },
  {
   "cell_type": "markdown",
   "metadata": {},
   "source": [
    "Событие Tutorial\n",
    "- Н0: Различия между группами 246 и 248 по событию Tutorial статистически НЕ значимы.\n",
    "- Н1: Различия между группами 246 и 248 по событию Tutorial статистически значимы.\n",
    "\n",
    "(остальные гипотезы выдвигались по такому же принципу)"
   ]
  },
  {
   "cell_type": "code",
   "execution_count": 73,
   "metadata": {},
   "outputs": [
    {
     "name": "stdout",
     "output_type": "stream",
     "text": [
      "p-value: 0.8264294010087645\n",
      "Не получилось отвергнуть нулевую гипотезу.\n"
     ]
    }
   ],
   "source": [
    "# кол-во польз. из группы на событии\n",
    "the_event = 'Tutorial'\n",
    "users_per_event = (\n",
    "    [data.query('exp_id == @group_id and event_name == @the_event')['device_id_hash'].nunique() for group_id in group_ids]\n",
    ")\n",
    "\n",
    "test(users_per_group, users_per_event, alpha)"
   ]
  },
  {
   "cell_type": "code",
   "execution_count": 74,
   "metadata": {},
   "outputs": [
    {
     "name": "stdout",
     "output_type": "stream",
     "text": [
      "p-value: 0.2949721933554552\n",
      "Не получилось отвергнуть нулевую гипотезу.\n"
     ]
    }
   ],
   "source": [
    "# Событие MainScreenAppear\n",
    "\n",
    "# кол-во польз. из группы на событии\n",
    "the_event = 'MainScreenAppear'\n",
    "users_per_event = (\n",
    "    [data.query('exp_id == @group_id and event_name == @the_event')['device_id_hash'].nunique() for group_id in group_ids]\n",
    ")\n",
    "\n",
    "test(users_per_group, users_per_event, alpha)"
   ]
  },
  {
   "cell_type": "code",
   "execution_count": 75,
   "metadata": {},
   "outputs": [
    {
     "name": "stdout",
     "output_type": "stream",
     "text": [
      "p-value: 0.20836205402738917\n",
      "Не получилось отвергнуть нулевую гипотезу.\n"
     ]
    }
   ],
   "source": [
    "# Событие OffersScreenAppear\n",
    "\n",
    "# кол-во польз. из группы на событии\n",
    "the_event = 'OffersScreenAppear'\n",
    "users_per_event = (\n",
    "    [data.query('exp_id == @group_id and event_name == @the_event')['device_id_hash'].nunique() for group_id in group_ids]\n",
    ")\n",
    "\n",
    "test(users_per_group, users_per_event, alpha)"
   ]
  },
  {
   "cell_type": "code",
   "execution_count": 76,
   "metadata": {},
   "outputs": [
    {
     "name": "stdout",
     "output_type": "stream",
     "text": [
      "p-value: 0.07842923237520116\n",
      "Не получилось отвергнуть нулевую гипотезу.\n"
     ]
    }
   ],
   "source": [
    "# Событие CartScreenAppear\n",
    "\n",
    "# кол-во польз. из группы на событии\n",
    "the_event = 'CartScreenAppear'\n",
    "users_per_event = (\n",
    "    [data.query('exp_id == @group_id and event_name == @the_event')['device_id_hash'].nunique() for group_id in group_ids]\n",
    ")\n",
    "\n",
    "test(users_per_group, users_per_event, alpha)"
   ]
  },
  {
   "cell_type": "code",
   "execution_count": 77,
   "metadata": {},
   "outputs": [
    {
     "name": "stdout",
     "output_type": "stream",
     "text": [
      "p-value: 0.2122553275697796\n",
      "Не получилось отвергнуть нулевую гипотезу.\n"
     ]
    }
   ],
   "source": [
    "# Событие PaymentScreenSuccessful\n",
    "\n",
    "# кол-во польз. из группы на событии\n",
    "the_event = 'PaymentScreenSuccessful'\n",
    "users_per_event = (\n",
    "    [data.query('exp_id == @group_id and event_name == @the_event')['device_id_hash'].nunique() for group_id in group_ids]\n",
    ")\n",
    "\n",
    "test(users_per_group, users_per_event, alpha)"
   ]
  },
  {
   "cell_type": "markdown",
   "metadata": {},
   "source": [
    "<b> Вывод 5.3.1: </b> нет статистически значимых различий между группами 246 и 248 по всем событиям."
   ]
  },
  {
   "cell_type": "markdown",
   "metadata": {},
   "source": [
    "#### Группы 247 и 248"
   ]
  },
  {
   "cell_type": "code",
   "execution_count": 78,
   "metadata": {},
   "outputs": [],
   "source": [
    "# сравниваемые экспериментальные группы\n",
    "group_ids = [247, 248]\n",
    "\n",
    "# кол-во уникальных пользователей в группах 247 и 248\n",
    "users_per_group = [data.query('exp_id == @group_id')['device_id_hash'].nunique() for group_id in group_ids]"
   ]
  },
  {
   "cell_type": "markdown",
   "metadata": {},
   "source": [
    "Событие Tutorial\n",
    "- Н0: Различия между группами 247 и 248 по событию Tutorial статистически НЕ значимы.\n",
    "- Н1: Различия между группами 247 и 248 по событию Tutorial статистически значимы.\n",
    "\n",
    "(остальные гипотезы выдвигались по такому же принципу)"
   ]
  },
  {
   "cell_type": "code",
   "execution_count": 79,
   "metadata": {},
   "outputs": [
    {
     "name": "stdout",
     "output_type": "stream",
     "text": [
      "p-value: 0.765323922474501\n",
      "Не получилось отвергнуть нулевую гипотезу.\n"
     ]
    }
   ],
   "source": [
    "# кол-во польз. из группы на событии\n",
    "the_event = 'Tutorial'\n",
    "users_per_event = (\n",
    "    [data.query('exp_id == @group_id and event_name == @the_event')['device_id_hash'].nunique() for group_id in group_ids]\n",
    ")\n",
    "\n",
    "test(users_per_group, users_per_event, alpha)"
   ]
  },
  {
   "cell_type": "code",
   "execution_count": 80,
   "metadata": {},
   "outputs": [
    {
     "name": "stdout",
     "output_type": "stream",
     "text": [
      "p-value: 0.4587053616621515\n",
      "Не получилось отвергнуть нулевую гипотезу.\n"
     ]
    }
   ],
   "source": [
    "# Событие MainScreenAppear\n",
    "\n",
    "# кол-во польз. из группы на событии\n",
    "the_event = 'MainScreenAppear'\n",
    "users_per_event = (\n",
    "    [data.query('exp_id == @group_id and event_name == @the_event')['device_id_hash'].nunique() for group_id in group_ids]\n",
    ")\n",
    "\n",
    "test(users_per_group, users_per_event, alpha)"
   ]
  },
  {
   "cell_type": "code",
   "execution_count": 81,
   "metadata": {},
   "outputs": [
    {
     "name": "stdout",
     "output_type": "stream",
     "text": [
      "p-value: 0.9197817830592261\n",
      "Не получилось отвергнуть нулевую гипотезу.\n"
     ]
    }
   ],
   "source": [
    "# Событие OffersScreenAppear\n",
    "\n",
    "# кол-во польз. из группы на событии\n",
    "the_event = 'OffersScreenAppear'\n",
    "users_per_event = (\n",
    "    [data.query('exp_id == @group_id and event_name == @the_event')['device_id_hash'].nunique() for group_id in group_ids]\n",
    ")\n",
    "\n",
    "test(users_per_group, users_per_event, alpha)"
   ]
  },
  {
   "cell_type": "code",
   "execution_count": 82,
   "metadata": {},
   "outputs": [
    {
     "name": "stdout",
     "output_type": "stream",
     "text": [
      "p-value: 0.5786197879539783\n",
      "Не получилось отвергнуть нулевую гипотезу.\n"
     ]
    }
   ],
   "source": [
    "# Событие CartScreenAppear\n",
    "\n",
    "# кол-во польз. из группы на событии\n",
    "the_event = 'CartScreenAppear'\n",
    "users_per_event = (\n",
    "    [data.query('exp_id == @group_id and event_name == @the_event')['device_id_hash'].nunique() for group_id in group_ids]\n",
    ")\n",
    "\n",
    "test(users_per_group, users_per_event, alpha)"
   ]
  },
  {
   "cell_type": "code",
   "execution_count": 83,
   "metadata": {},
   "outputs": [
    {
     "name": "stdout",
     "output_type": "stream",
     "text": [
      "p-value: 0.7373415053803964\n",
      "Не получилось отвергнуть нулевую гипотезу.\n"
     ]
    }
   ],
   "source": [
    "# Событие PaymentScreenSuccessful\n",
    "\n",
    "# кол-во польз. из группы на событии\n",
    "the_event = 'PaymentScreenSuccessful'\n",
    "users_per_event = (\n",
    "    [data.query('exp_id == @group_id and event_name == @the_event')['device_id_hash'].nunique() for group_id in group_ids]\n",
    ")\n",
    "\n",
    "test(users_per_group, users_per_event, alpha)"
   ]
  },
  {
   "cell_type": "markdown",
   "metadata": {},
   "source": [
    "<b> Вывод 5.3.2: </b> нет статистически значимых различий между группами 247 и 248 по всем событиям."
   ]
  },
  {
   "cell_type": "markdown",
   "metadata": {},
   "source": [
    "#### Группы 246+247 и 248"
   ]
  },
  {
   "cell_type": "code",
   "execution_count": 84,
   "metadata": {},
   "outputs": [
    {
     "data": {
      "text/plain": [
       "246    156324\n",
       "248     84563\n",
       "Name: exp_id, dtype: int64"
      ]
     },
     "execution_count": 84,
     "metadata": {},
     "output_type": "execute_result"
    }
   ],
   "source": [
    "combined_data = data.copy() # копировала датафрейм\n",
    "combined_data['exp_id'].replace({247: 246}, inplace=True) # переименовала 247 группу в 246\n",
    "combined_data['exp_id'].value_counts() # в датафрейме оставила группу 246, значит, буду сравнивать 246 и 248"
   ]
  },
  {
   "cell_type": "code",
   "execution_count": 85,
   "metadata": {},
   "outputs": [],
   "source": [
    "# сравниваемые экспериментальные группы\n",
    "group_ids = [246, 248]\n",
    "\n",
    "# кол-во уникальных пользователей в группах 246+247 и 248\n",
    "users_per_group = [combined_data.query('exp_id == @group_id')['device_id_hash'].nunique() for group_id in group_ids]"
   ]
  },
  {
   "cell_type": "markdown",
   "metadata": {},
   "source": [
    "Событие Tutorial\n",
    "- Н0: Различия между группами 246+247 и 248 по событию Tutorial статистически НЕ значимы.\n",
    "- Н1: Различия между группами 246+247 и 248 по событию Tutorial статистически значимы.\n",
    "\n",
    "(остальные гипотезы выдвигались по такому же принципу)"
   ]
  },
  {
   "cell_type": "code",
   "execution_count": 86,
   "metadata": {},
   "outputs": [
    {
     "name": "stdout",
     "output_type": "stream",
     "text": [
      "p-value: 0.764862472531507\n",
      "Не получилось отвергнуть нулевую гипотезу.\n"
     ]
    }
   ],
   "source": [
    "# кол-во польз. из группы на событии\n",
    "the_event = 'Tutorial'\n",
    "users_per_event = (\n",
    "    [combined_data.query('exp_id == @group_id and event_name == @the_event')['device_id_hash'].nunique() for group_id in group_ids]\n",
    ")\n",
    "\n",
    "test(users_per_group, users_per_event, alpha)"
   ]
  },
  {
   "cell_type": "code",
   "execution_count": 87,
   "metadata": {},
   "outputs": [
    {
     "name": "stdout",
     "output_type": "stream",
     "text": [
      "p-value: 0.29424526837179577\n",
      "Не получилось отвергнуть нулевую гипотезу.\n"
     ]
    }
   ],
   "source": [
    "# Событие MainScreenAppear\n",
    "\n",
    "# кол-во польз. из группы на событии\n",
    "the_event = 'MainScreenAppear'\n",
    "users_per_event = (\n",
    "    [combined_data.query('exp_id == @group_id and event_name == @the_event')['device_id_hash'].nunique() for group_id in group_ids]\n",
    ")\n",
    "\n",
    "test(users_per_group, users_per_event, alpha)"
   ]
  },
  {
   "cell_type": "code",
   "execution_count": 88,
   "metadata": {},
   "outputs": [
    {
     "name": "stdout",
     "output_type": "stream",
     "text": [
      "p-value: 0.43425549655188256\n",
      "Не получилось отвергнуть нулевую гипотезу.\n"
     ]
    }
   ],
   "source": [
    "# Событие OffersScreenAppear\n",
    "\n",
    "# кол-во польз. из группы на событии\n",
    "the_event = 'OffersScreenAppear'\n",
    "users_per_event = (\n",
    "    [combined_data.query('exp_id == @group_id and event_name == @the_event')['device_id_hash'].nunique() for group_id in group_ids]\n",
    ")\n",
    "\n",
    "test(users_per_group, users_per_event, alpha)"
   ]
  },
  {
   "cell_type": "code",
   "execution_count": 89,
   "metadata": {},
   "outputs": [
    {
     "name": "stdout",
     "output_type": "stream",
     "text": [
      "p-value: 0.18175875284404386\n",
      "Не получилось отвергнуть нулевую гипотезу.\n"
     ]
    }
   ],
   "source": [
    "# Событие CartScreenAppear\n",
    "\n",
    "# кол-во польз. из группы на событии\n",
    "the_event = 'CartScreenAppear'\n",
    "users_per_event = (\n",
    "    [combined_data.query('exp_id == @group_id and event_name == @the_event')['device_id_hash'].nunique() for group_id in group_ids]\n",
    ")\n",
    "\n",
    "test(users_per_group, users_per_event, alpha)"
   ]
  },
  {
   "cell_type": "code",
   "execution_count": 90,
   "metadata": {},
   "outputs": [
    {
     "name": "stdout",
     "output_type": "stream",
     "text": [
      "p-value: 0.6004294282308704\n",
      "Не получилось отвергнуть нулевую гипотезу.\n"
     ]
    }
   ],
   "source": [
    "# Событие PaymentScreenSuccessful\n",
    "\n",
    "# кол-во польз. из группы на событии\n",
    "the_event = 'PaymentScreenSuccessful'\n",
    "users_per_event = (\n",
    "    [combined_data.query('exp_id == @group_id and event_name == @the_event')['device_id_hash'].nunique() for group_id in group_ids]\n",
    ")\n",
    "\n",
    "test(users_per_group, users_per_event, alpha)"
   ]
  },
  {
   "cell_type": "markdown",
   "metadata": {},
   "source": [
    "<b> Вывод 5.3.3: </b> нет статистически значимых различий между группами 246+247 и 248 по всем событиям."
   ]
  },
  {
   "cell_type": "markdown",
   "metadata": {},
   "source": [
    "<b> Вывод 5: </b> изучены результаты А/А/В-теста. \n",
    "1. Проверены контрольные группы (А/А-тест), нет статистически значимых разниц между группами, поэтому был сделан вывод, что группы подобраны корректно. \n",
    "2. Проведены попарные сравнения между контрольными и экспериментальными группами, а также объединенной контрольной и экспериментальной. Не выявлено статистически значимых разниц между группами."
   ]
  },
  {
   "cell_type": "markdown",
   "metadata": {},
   "source": [
    "<b> Вывод по кейсу: </b>\n",
    "\n",
    "Напоминаю ситуацию по кейсу: \"Дизайнеры захотели поменять шрифты во всём приложении, а менеджеры испугались, что пользователям будет непривычно\".\n",
    "\n",
    "По результатам А/А/В-теста фиксирую отсутствие различий между группами с новыми и старыми шрифтам. \n",
    "\n",
    "Значит, смена шрифтов не должна повлиять на использование приложения."
   ]
  }
 ],
 "metadata": {
  "ExecuteTimeLog": [
   {
    "duration": 1297,
    "start_time": "2023-06-02T15:48:17.298Z"
   },
   {
    "duration": 561,
    "start_time": "2023-06-02T15:48:56.409Z"
   },
   {
    "duration": 17,
    "start_time": "2023-06-02T15:49:07.203Z"
   },
   {
    "duration": 155,
    "start_time": "2023-06-02T15:49:23.181Z"
   },
   {
    "duration": 17,
    "start_time": "2023-06-02T15:49:24.039Z"
   },
   {
    "duration": 9,
    "start_time": "2023-06-02T15:49:32.898Z"
   },
   {
    "duration": 5,
    "start_time": "2023-06-02T16:02:39.895Z"
   },
   {
    "duration": 15,
    "start_time": "2023-06-02T16:02:56.823Z"
   },
   {
    "duration": 12,
    "start_time": "2023-06-02T16:04:52.099Z"
   },
   {
    "duration": 64,
    "start_time": "2023-06-02T16:05:13.346Z"
   },
   {
    "duration": 17,
    "start_time": "2023-06-02T16:43:09.774Z"
   },
   {
    "duration": 91,
    "start_time": "2023-06-02T16:45:29.192Z"
   },
   {
    "duration": 18,
    "start_time": "2023-06-02T16:45:43.990Z"
   },
   {
    "duration": 8,
    "start_time": "2023-06-02T16:49:28.511Z"
   },
   {
    "duration": 4,
    "start_time": "2023-06-02T16:49:34.347Z"
   },
   {
    "duration": 6,
    "start_time": "2023-06-02T16:49:50.695Z"
   },
   {
    "duration": 9,
    "start_time": "2023-06-02T16:54:41.086Z"
   },
   {
    "duration": 7,
    "start_time": "2023-06-02T16:55:06.956Z"
   },
   {
    "duration": 54,
    "start_time": "2023-06-02T16:59:04.102Z"
   },
   {
    "duration": 80,
    "start_time": "2023-06-02T17:00:43.459Z"
   },
   {
    "duration": 71,
    "start_time": "2023-06-02T17:02:09.058Z"
   },
   {
    "duration": 15,
    "start_time": "2023-06-02T17:12:23.396Z"
   },
   {
    "duration": 6,
    "start_time": "2023-06-02T17:17:19.394Z"
   },
   {
    "duration": 63,
    "start_time": "2023-06-02T17:18:14.559Z"
   },
   {
    "duration": 22,
    "start_time": "2023-06-02T17:19:05.049Z"
   },
   {
    "duration": 30,
    "start_time": "2023-06-02T17:43:14.102Z"
   },
   {
    "duration": 97,
    "start_time": "2023-06-02T17:45:42.355Z"
   },
   {
    "duration": 17,
    "start_time": "2023-06-02T17:45:44.906Z"
   },
   {
    "duration": 26,
    "start_time": "2023-06-02T17:46:19.208Z"
   },
   {
    "duration": 24,
    "start_time": "2023-06-02T17:46:28.157Z"
   },
   {
    "duration": 27,
    "start_time": "2023-06-02T17:46:31.844Z"
   },
   {
    "duration": 7,
    "start_time": "2023-06-02T17:47:44.696Z"
   },
   {
    "duration": 2,
    "start_time": "2023-06-02T17:49:23.572Z"
   },
   {
    "duration": 11,
    "start_time": "2023-06-02T17:49:54.258Z"
   },
   {
    "duration": 10,
    "start_time": "2023-06-02T17:50:09.211Z"
   },
   {
    "duration": 4,
    "start_time": "2023-06-02T17:57:36.062Z"
   },
   {
    "duration": 4,
    "start_time": "2023-06-02T17:58:06.903Z"
   },
   {
    "duration": 227,
    "start_time": "2023-06-02T18:08:19.378Z"
   },
   {
    "duration": 168,
    "start_time": "2023-06-02T18:08:56.765Z"
   },
   {
    "duration": 175,
    "start_time": "2023-06-02T18:09:01.742Z"
   },
   {
    "duration": 188,
    "start_time": "2023-06-02T18:09:10.407Z"
   },
   {
    "duration": 186,
    "start_time": "2023-06-02T18:09:22.794Z"
   },
   {
    "duration": 186,
    "start_time": "2023-06-02T18:09:51.522Z"
   },
   {
    "duration": 4,
    "start_time": "2023-06-02T18:10:03.043Z"
   },
   {
    "duration": 184,
    "start_time": "2023-06-02T18:10:07.768Z"
   },
   {
    "duration": 185,
    "start_time": "2023-06-02T18:10:16.175Z"
   },
   {
    "duration": 245,
    "start_time": "2023-06-02T18:11:02.159Z"
   },
   {
    "duration": 7,
    "start_time": "2023-06-02T18:20:17.923Z"
   },
   {
    "duration": 16,
    "start_time": "2023-06-02T18:20:47.007Z"
   },
   {
    "duration": 13,
    "start_time": "2023-06-02T18:20:54.200Z"
   },
   {
    "duration": 6,
    "start_time": "2023-06-02T18:20:57.713Z"
   },
   {
    "duration": 6,
    "start_time": "2023-06-02T18:21:13.651Z"
   },
   {
    "duration": 6,
    "start_time": "2023-06-02T18:21:28.750Z"
   },
   {
    "duration": 17,
    "start_time": "2023-06-02T18:24:22.540Z"
   },
   {
    "duration": 57,
    "start_time": "2023-06-02T18:24:53.788Z"
   },
   {
    "duration": 3,
    "start_time": "2023-06-02T18:24:59.415Z"
   },
   {
    "duration": 145,
    "start_time": "2023-06-02T18:24:59.420Z"
   },
   {
    "duration": 18,
    "start_time": "2023-06-02T18:24:59.567Z"
   },
   {
    "duration": 8,
    "start_time": "2023-06-02T18:24:59.587Z"
   },
   {
    "duration": 9,
    "start_time": "2023-06-02T18:24:59.596Z"
   },
   {
    "duration": 23,
    "start_time": "2023-06-02T18:24:59.606Z"
   },
   {
    "duration": 11,
    "start_time": "2023-06-02T18:24:59.631Z"
   },
   {
    "duration": 69,
    "start_time": "2023-06-02T18:24:59.644Z"
   },
   {
    "duration": 17,
    "start_time": "2023-06-02T18:24:59.715Z"
   },
   {
    "duration": 18,
    "start_time": "2023-06-02T18:24:59.734Z"
   },
   {
    "duration": 5,
    "start_time": "2023-06-02T18:24:59.753Z"
   },
   {
    "duration": 5,
    "start_time": "2023-06-02T18:24:59.759Z"
   },
   {
    "duration": 23,
    "start_time": "2023-06-02T18:24:59.766Z"
   },
   {
    "duration": 8,
    "start_time": "2023-06-02T18:24:59.790Z"
   },
   {
    "duration": 53,
    "start_time": "2023-06-02T18:24:59.800Z"
   },
   {
    "duration": 93,
    "start_time": "2023-06-02T18:24:59.855Z"
   },
   {
    "duration": 15,
    "start_time": "2023-06-02T18:24:59.949Z"
   },
   {
    "duration": 78,
    "start_time": "2023-06-02T18:24:59.966Z"
   },
   {
    "duration": 65,
    "start_time": "2023-06-02T18:25:02.755Z"
   },
   {
    "duration": 24,
    "start_time": "2023-06-02T18:25:03.493Z"
   },
   {
    "duration": 25,
    "start_time": "2023-06-02T18:25:06.129Z"
   },
   {
    "duration": 7,
    "start_time": "2023-06-02T18:25:07.370Z"
   },
   {
    "duration": 10,
    "start_time": "2023-06-02T18:25:08.592Z"
   },
   {
    "duration": 13,
    "start_time": "2023-06-02T18:25:11.055Z"
   },
   {
    "duration": 12,
    "start_time": "2023-06-02T18:25:11.620Z"
   },
   {
    "duration": 186,
    "start_time": "2023-06-02T18:25:13.124Z"
   },
   {
    "duration": 25,
    "start_time": "2023-06-02T18:25:15.520Z"
   },
   {
    "duration": 25,
    "start_time": "2023-06-02T18:25:20.533Z"
   },
   {
    "duration": 22,
    "start_time": "2023-06-02T18:26:31.148Z"
   },
   {
    "duration": 3,
    "start_time": "2023-06-02T18:26:36.614Z"
   },
   {
    "duration": 161,
    "start_time": "2023-06-02T18:26:36.619Z"
   },
   {
    "duration": 23,
    "start_time": "2023-06-02T18:26:36.781Z"
   },
   {
    "duration": 29,
    "start_time": "2023-06-02T18:26:36.806Z"
   },
   {
    "duration": 12,
    "start_time": "2023-06-02T18:26:36.836Z"
   },
   {
    "duration": 28,
    "start_time": "2023-06-02T18:26:36.849Z"
   },
   {
    "duration": 33,
    "start_time": "2023-06-02T18:26:36.879Z"
   },
   {
    "duration": 52,
    "start_time": "2023-06-02T18:26:36.914Z"
   },
   {
    "duration": 29,
    "start_time": "2023-06-02T18:26:36.969Z"
   },
   {
    "duration": 35,
    "start_time": "2023-06-02T18:26:37.000Z"
   },
   {
    "duration": 16,
    "start_time": "2023-06-02T18:26:37.037Z"
   },
   {
    "duration": 11,
    "start_time": "2023-06-02T18:26:37.055Z"
   },
   {
    "duration": 23,
    "start_time": "2023-06-02T18:26:37.067Z"
   },
   {
    "duration": 26,
    "start_time": "2023-06-02T18:26:37.095Z"
   },
   {
    "duration": 55,
    "start_time": "2023-06-02T18:26:37.122Z"
   },
   {
    "duration": 79,
    "start_time": "2023-06-02T18:26:37.179Z"
   },
   {
    "duration": 16,
    "start_time": "2023-06-02T18:26:37.260Z"
   },
   {
    "duration": 87,
    "start_time": "2023-06-02T18:26:37.277Z"
   },
   {
    "duration": 30,
    "start_time": "2023-06-02T18:26:37.365Z"
   },
   {
    "duration": 28,
    "start_time": "2023-06-02T18:26:37.396Z"
   },
   {
    "duration": 6,
    "start_time": "2023-06-02T18:26:37.426Z"
   },
   {
    "duration": 24,
    "start_time": "2023-06-02T18:26:37.433Z"
   },
   {
    "duration": 36,
    "start_time": "2023-06-02T18:26:40.931Z"
   },
   {
    "duration": 13,
    "start_time": "2023-06-02T18:26:44.158Z"
   },
   {
    "duration": 23,
    "start_time": "2023-06-02T18:26:44.581Z"
   },
   {
    "duration": 197,
    "start_time": "2023-06-02T18:26:45.508Z"
   },
   {
    "duration": 35,
    "start_time": "2023-06-02T18:27:06.071Z"
   },
   {
    "duration": 28,
    "start_time": "2023-06-02T18:27:11.282Z"
   },
   {
    "duration": 22,
    "start_time": "2023-06-02T18:30:09.671Z"
   },
   {
    "duration": 7,
    "start_time": "2023-06-02T18:36:08.030Z"
   },
   {
    "duration": 6,
    "start_time": "2023-06-02T18:42:09.497Z"
   },
   {
    "duration": 43,
    "start_time": "2023-06-02T18:43:06.497Z"
   },
   {
    "duration": 26,
    "start_time": "2023-06-02T18:48:07.351Z"
   },
   {
    "duration": 26,
    "start_time": "2023-06-02T18:48:13.240Z"
   },
   {
    "duration": 18,
    "start_time": "2023-06-02T18:49:46.378Z"
   },
   {
    "duration": 38,
    "start_time": "2023-06-02T18:52:32.665Z"
   },
   {
    "duration": 22,
    "start_time": "2023-06-02T20:16:13.772Z"
   },
   {
    "duration": 65,
    "start_time": "2023-06-02T20:26:54.835Z"
   },
   {
    "duration": 63,
    "start_time": "2023-06-02T20:27:05.506Z"
   },
   {
    "duration": 84,
    "start_time": "2023-06-02T20:27:34.316Z"
   },
   {
    "duration": 90,
    "start_time": "2023-06-02T20:28:09.320Z"
   },
   {
    "duration": 95,
    "start_time": "2023-06-02T20:28:17.344Z"
   },
   {
    "duration": 126,
    "start_time": "2023-06-02T20:28:45.196Z"
   },
   {
    "duration": 117,
    "start_time": "2023-06-02T20:28:53.183Z"
   },
   {
    "duration": 143,
    "start_time": "2023-06-02T20:29:07.583Z"
   },
   {
    "duration": 186,
    "start_time": "2023-06-02T20:29:21.013Z"
   },
   {
    "duration": 231,
    "start_time": "2023-06-02T20:29:39.642Z"
   },
   {
    "duration": 95,
    "start_time": "2023-06-02T20:33:04.134Z"
   },
   {
    "duration": 186,
    "start_time": "2023-06-02T20:33:10.110Z"
   },
   {
    "duration": 165,
    "start_time": "2023-06-02T20:34:47.724Z"
   },
   {
    "duration": 42,
    "start_time": "2023-06-02T20:43:13.172Z"
   },
   {
    "duration": 46,
    "start_time": "2023-06-02T20:43:23.136Z"
   },
   {
    "duration": 50,
    "start_time": "2023-06-02T20:43:54.121Z"
   },
   {
    "duration": 337,
    "start_time": "2023-06-02T20:44:43.049Z"
   },
   {
    "duration": 48,
    "start_time": "2023-06-02T20:46:09.050Z"
   },
   {
    "duration": 7,
    "start_time": "2023-06-02T20:51:51.461Z"
   },
   {
    "duration": 7,
    "start_time": "2023-06-02T20:53:32.347Z"
   },
   {
    "duration": 10,
    "start_time": "2023-06-02T20:53:50.921Z"
   },
   {
    "duration": 10,
    "start_time": "2023-06-02T20:54:30.596Z"
   },
   {
    "duration": 9,
    "start_time": "2023-06-02T20:54:58.997Z"
   },
   {
    "duration": 3,
    "start_time": "2023-06-02T21:59:27.659Z"
   },
   {
    "duration": 15,
    "start_time": "2023-06-02T22:05:23.196Z"
   },
   {
    "duration": 27,
    "start_time": "2023-06-02T22:06:01.943Z"
   },
   {
    "duration": 8,
    "start_time": "2023-06-02T22:26:32.154Z"
   },
   {
    "duration": 44,
    "start_time": "2023-06-02T22:29:09.344Z"
   },
   {
    "duration": 48,
    "start_time": "2023-06-02T22:29:29.158Z"
   },
   {
    "duration": 47,
    "start_time": "2023-06-02T22:30:01.099Z"
   },
   {
    "duration": 48,
    "start_time": "2023-06-02T22:30:07.846Z"
   },
   {
    "duration": 44,
    "start_time": "2023-06-02T22:30:12.260Z"
   },
   {
    "duration": 46,
    "start_time": "2023-06-02T22:30:30.623Z"
   },
   {
    "duration": 47,
    "start_time": "2023-06-02T22:49:41.456Z"
   },
   {
    "duration": 47,
    "start_time": "2023-06-02T22:50:06.600Z"
   },
   {
    "duration": 3,
    "start_time": "2023-06-02T22:52:08.859Z"
   },
   {
    "duration": 7,
    "start_time": "2023-06-02T22:52:12.234Z"
   },
   {
    "duration": 7,
    "start_time": "2023-06-02T22:55:25.022Z"
   },
   {
    "duration": 157,
    "start_time": "2023-06-02T23:04:01.078Z"
   },
   {
    "duration": 146,
    "start_time": "2023-06-02T23:04:51.432Z"
   },
   {
    "duration": 132,
    "start_time": "2023-06-02T23:05:29.620Z"
   },
   {
    "duration": 143,
    "start_time": "2023-06-02T23:09:18.814Z"
   },
   {
    "duration": 4,
    "start_time": "2023-06-02T23:10:19.726Z"
   },
   {
    "duration": 7,
    "start_time": "2023-06-02T23:10:24.649Z"
   },
   {
    "duration": 1249,
    "start_time": "2023-06-02T23:21:18.931Z"
   },
   {
    "duration": 1829,
    "start_time": "2023-06-02T23:22:52.246Z"
   },
   {
    "duration": 1578,
    "start_time": "2023-06-02T23:24:47.479Z"
   },
   {
    "duration": 1420,
    "start_time": "2023-06-02T23:25:35.878Z"
   },
   {
    "duration": 1783,
    "start_time": "2023-06-02T23:25:53.262Z"
   },
   {
    "duration": 3,
    "start_time": "2023-06-02T23:26:05.365Z"
   },
   {
    "duration": 4,
    "start_time": "2023-06-02T23:26:57.356Z"
   },
   {
    "duration": 3,
    "start_time": "2023-06-02T23:33:38.564Z"
   },
   {
    "duration": 1090,
    "start_time": "2023-06-02T23:47:37.167Z"
   },
   {
    "duration": 147,
    "start_time": "2023-06-02T23:47:38.259Z"
   },
   {
    "duration": 19,
    "start_time": "2023-06-02T23:47:38.408Z"
   },
   {
    "duration": 9,
    "start_time": "2023-06-02T23:47:38.429Z"
   },
   {
    "duration": 6,
    "start_time": "2023-06-02T23:47:38.440Z"
   },
   {
    "duration": 37,
    "start_time": "2023-06-02T23:47:38.447Z"
   },
   {
    "duration": 11,
    "start_time": "2023-06-02T23:47:38.486Z"
   },
   {
    "duration": 60,
    "start_time": "2023-06-02T23:47:38.499Z"
   },
   {
    "duration": 25,
    "start_time": "2023-06-02T23:47:38.560Z"
   },
   {
    "duration": 18,
    "start_time": "2023-06-02T23:47:38.587Z"
   },
   {
    "duration": 8,
    "start_time": "2023-06-02T23:47:38.606Z"
   },
   {
    "duration": 19,
    "start_time": "2023-06-02T23:47:38.615Z"
   },
   {
    "duration": 12,
    "start_time": "2023-06-02T23:47:38.635Z"
   },
   {
    "duration": 17,
    "start_time": "2023-06-02T23:47:38.649Z"
   },
   {
    "duration": 63,
    "start_time": "2023-06-02T23:47:38.667Z"
   },
   {
    "duration": 85,
    "start_time": "2023-06-02T23:47:38.731Z"
   },
   {
    "duration": 14,
    "start_time": "2023-06-02T23:47:38.818Z"
   },
   {
    "duration": 75,
    "start_time": "2023-06-02T23:47:38.834Z"
   },
   {
    "duration": 23,
    "start_time": "2023-06-02T23:47:38.910Z"
   },
   {
    "duration": 27,
    "start_time": "2023-06-02T23:47:38.934Z"
   },
   {
    "duration": 25,
    "start_time": "2023-06-02T23:47:38.963Z"
   },
   {
    "duration": 10,
    "start_time": "2023-06-02T23:47:38.990Z"
   },
   {
    "duration": 24,
    "start_time": "2023-06-02T23:47:39.002Z"
   },
   {
    "duration": 13,
    "start_time": "2023-06-02T23:47:39.028Z"
   },
   {
    "duration": 19,
    "start_time": "2023-06-02T23:47:39.042Z"
   },
   {
    "duration": 292,
    "start_time": "2023-06-02T23:47:39.062Z"
   },
   {
    "duration": 31,
    "start_time": "2023-06-02T23:47:39.356Z"
   },
   {
    "duration": 35,
    "start_time": "2023-06-02T23:47:39.390Z"
   },
   {
    "duration": 22,
    "start_time": "2023-06-02T23:47:39.427Z"
   },
   {
    "duration": 7,
    "start_time": "2023-06-02T23:47:39.451Z"
   },
   {
    "duration": 14,
    "start_time": "2023-06-02T23:47:39.460Z"
   },
   {
    "duration": 58,
    "start_time": "2023-06-02T23:47:39.476Z"
   },
   {
    "duration": 26,
    "start_time": "2023-06-02T23:47:39.535Z"
   },
   {
    "duration": 8,
    "start_time": "2023-06-02T23:47:39.563Z"
   },
   {
    "duration": 28,
    "start_time": "2023-06-02T23:47:39.572Z"
   },
   {
    "duration": 19,
    "start_time": "2023-06-02T23:47:39.601Z"
   },
   {
    "duration": 177,
    "start_time": "2023-06-02T23:47:39.621Z"
   },
   {
    "duration": 47,
    "start_time": "2023-06-02T23:47:39.800Z"
   },
   {
    "duration": 10,
    "start_time": "2023-06-02T23:47:39.848Z"
   },
   {
    "duration": 34,
    "start_time": "2023-06-02T23:47:39.859Z"
   },
   {
    "duration": 49,
    "start_time": "2023-06-02T23:47:39.894Z"
   },
   {
    "duration": 6,
    "start_time": "2023-06-02T23:47:39.945Z"
   },
   {
    "duration": 161,
    "start_time": "2023-06-02T23:47:39.952Z"
   },
   {
    "duration": 7,
    "start_time": "2023-06-02T23:47:40.114Z"
   },
   {
    "duration": 23,
    "start_time": "2023-06-02T23:47:40.122Z"
   },
   {
    "duration": 33,
    "start_time": "2023-06-02T23:49:42.579Z"
   },
   {
    "duration": 1316,
    "start_time": "2023-06-03T08:19:05.798Z"
   },
   {
    "duration": 660,
    "start_time": "2023-06-03T08:19:07.116Z"
   },
   {
    "duration": 25,
    "start_time": "2023-06-03T08:19:07.778Z"
   },
   {
    "duration": 18,
    "start_time": "2023-06-03T08:19:07.805Z"
   },
   {
    "duration": 7,
    "start_time": "2023-06-03T08:19:07.825Z"
   },
   {
    "duration": 21,
    "start_time": "2023-06-03T08:19:07.833Z"
   },
   {
    "duration": 31,
    "start_time": "2023-06-03T08:19:07.856Z"
   },
   {
    "duration": 79,
    "start_time": "2023-06-03T08:19:07.889Z"
   },
   {
    "duration": 18,
    "start_time": "2023-06-03T08:19:07.969Z"
   },
   {
    "duration": 24,
    "start_time": "2023-06-03T08:19:07.990Z"
   },
   {
    "duration": 8,
    "start_time": "2023-06-03T08:19:08.016Z"
   },
   {
    "duration": 14,
    "start_time": "2023-06-03T08:19:08.025Z"
   },
   {
    "duration": 16,
    "start_time": "2023-06-03T08:19:08.040Z"
   },
   {
    "duration": 22,
    "start_time": "2023-06-03T08:19:08.057Z"
   },
   {
    "duration": 74,
    "start_time": "2023-06-03T08:19:08.081Z"
   },
   {
    "duration": 120,
    "start_time": "2023-06-03T08:19:08.157Z"
   },
   {
    "duration": 21,
    "start_time": "2023-06-03T08:19:08.278Z"
   },
   {
    "duration": 99,
    "start_time": "2023-06-03T08:19:08.301Z"
   },
   {
    "duration": 28,
    "start_time": "2023-06-03T08:19:08.401Z"
   },
   {
    "duration": 32,
    "start_time": "2023-06-03T08:19:08.431Z"
   },
   {
    "duration": 8,
    "start_time": "2023-06-03T08:19:08.477Z"
   },
   {
    "duration": 21,
    "start_time": "2023-06-03T08:19:08.487Z"
   },
   {
    "duration": 28,
    "start_time": "2023-06-03T08:19:08.510Z"
   },
   {
    "duration": 16,
    "start_time": "2023-06-03T08:19:08.540Z"
   },
   {
    "duration": 33,
    "start_time": "2023-06-03T08:19:08.558Z"
   },
   {
    "duration": 314,
    "start_time": "2023-06-03T08:19:08.592Z"
   },
   {
    "duration": 29,
    "start_time": "2023-06-03T08:19:08.908Z"
   },
   {
    "duration": 38,
    "start_time": "2023-06-03T08:19:08.940Z"
   },
   {
    "duration": 28,
    "start_time": "2023-06-03T08:19:08.979Z"
   },
   {
    "duration": 7,
    "start_time": "2023-06-03T08:19:09.009Z"
   },
   {
    "duration": 17,
    "start_time": "2023-06-03T08:19:09.017Z"
   },
   {
    "duration": 62,
    "start_time": "2023-06-03T08:19:09.036Z"
   },
   {
    "duration": 30,
    "start_time": "2023-06-03T08:19:09.100Z"
   },
   {
    "duration": 10,
    "start_time": "2023-06-03T08:19:09.132Z"
   },
   {
    "duration": 51,
    "start_time": "2023-06-03T08:19:09.144Z"
   },
   {
    "duration": 25,
    "start_time": "2023-06-03T08:19:09.197Z"
   },
   {
    "duration": 226,
    "start_time": "2023-06-03T08:19:09.224Z"
   },
   {
    "duration": 61,
    "start_time": "2023-06-03T08:19:09.452Z"
   },
   {
    "duration": 13,
    "start_time": "2023-06-03T08:19:09.515Z"
   },
   {
    "duration": 40,
    "start_time": "2023-06-03T08:19:09.529Z"
   },
   {
    "duration": 57,
    "start_time": "2023-06-03T08:19:09.571Z"
   },
   {
    "duration": 8,
    "start_time": "2023-06-03T08:19:09.630Z"
   },
   {
    "duration": 203,
    "start_time": "2023-06-03T08:19:09.639Z"
   },
   {
    "duration": 10,
    "start_time": "2023-06-03T08:19:09.844Z"
   },
   {
    "duration": 15,
    "start_time": "2023-06-03T08:19:09.855Z"
   },
   {
    "duration": 53,
    "start_time": "2023-06-03T08:19:09.872Z"
   },
   {
    "duration": 22,
    "start_time": "2023-06-03T09:03:55.312Z"
   },
   {
    "duration": 116,
    "start_time": "2023-06-03T09:09:40.945Z"
   },
   {
    "duration": 31,
    "start_time": "2023-06-03T09:10:02.233Z"
   },
   {
    "duration": 33,
    "start_time": "2023-06-03T09:11:02.298Z"
   },
   {
    "duration": 20,
    "start_time": "2023-06-03T09:12:57.776Z"
   },
   {
    "duration": 19,
    "start_time": "2023-06-03T09:13:06.807Z"
   },
   {
    "duration": 3,
    "start_time": "2023-06-03T09:19:39.120Z"
   },
   {
    "duration": 25,
    "start_time": "2023-06-03T09:19:39.846Z"
   },
   {
    "duration": 26,
    "start_time": "2023-06-03T09:19:47.824Z"
   },
   {
    "duration": 3,
    "start_time": "2023-06-03T09:19:55.071Z"
   },
   {
    "duration": 39,
    "start_time": "2023-06-03T09:19:55.077Z"
   },
   {
    "duration": 64,
    "start_time": "2023-06-03T09:20:22.305Z"
   },
   {
    "duration": 20,
    "start_time": "2023-06-03T09:20:37.019Z"
   },
   {
    "duration": 29,
    "start_time": "2023-06-03T09:21:21.569Z"
   },
   {
    "duration": 7,
    "start_time": "2023-06-03T09:27:13.241Z"
   },
   {
    "duration": 3,
    "start_time": "2023-06-03T09:27:25.555Z"
   },
   {
    "duration": 27,
    "start_time": "2023-06-03T09:27:46.483Z"
   },
   {
    "duration": 3,
    "start_time": "2023-06-03T09:29:34.239Z"
   },
   {
    "duration": 21,
    "start_time": "2023-06-03T09:29:34.860Z"
   },
   {
    "duration": 18,
    "start_time": "2023-06-03T09:31:44.600Z"
   },
   {
    "duration": 5,
    "start_time": "2023-06-03T09:32:26.387Z"
   },
   {
    "duration": 32,
    "start_time": "2023-06-03T09:38:04.052Z"
   },
   {
    "duration": 6,
    "start_time": "2023-06-03T09:38:10.863Z"
   },
   {
    "duration": 28,
    "start_time": "2023-06-03T09:38:59.225Z"
   },
   {
    "duration": 5,
    "start_time": "2023-06-03T09:39:03.301Z"
   },
   {
    "duration": 23,
    "start_time": "2023-06-03T09:39:41.277Z"
   },
   {
    "duration": 5,
    "start_time": "2023-06-03T09:39:50.051Z"
   },
   {
    "duration": 23,
    "start_time": "2023-06-03T09:40:24.488Z"
   },
   {
    "duration": 4,
    "start_time": "2023-06-03T09:40:29.013Z"
   },
   {
    "duration": 73,
    "start_time": "2023-06-03T09:47:47.534Z"
   },
   {
    "duration": 83,
    "start_time": "2023-06-03T09:47:53.919Z"
   },
   {
    "duration": 76,
    "start_time": "2023-06-03T09:50:13.722Z"
   },
   {
    "duration": 76,
    "start_time": "2023-06-03T09:50:21.356Z"
   },
   {
    "duration": 2,
    "start_time": "2023-06-03T10:07:08.370Z"
   },
   {
    "duration": 90,
    "start_time": "2023-06-03T10:11:06.288Z"
   },
   {
    "duration": 25,
    "start_time": "2023-06-03T10:12:04.360Z"
   },
   {
    "duration": 20,
    "start_time": "2023-06-03T10:13:14.310Z"
   },
   {
    "duration": 43,
    "start_time": "2023-06-03T10:14:41.800Z"
   },
   {
    "duration": 29,
    "start_time": "2023-06-03T10:15:01.014Z"
   },
   {
    "duration": 26,
    "start_time": "2023-06-03T10:15:30.798Z"
   },
   {
    "duration": 22,
    "start_time": "2023-06-03T10:16:13.274Z"
   },
   {
    "duration": 22,
    "start_time": "2023-06-03T10:18:58.155Z"
   },
   {
    "duration": 20,
    "start_time": "2023-06-03T10:20:19.912Z"
   },
   {
    "duration": 34,
    "start_time": "2023-06-03T10:20:41.613Z"
   },
   {
    "duration": 37,
    "start_time": "2023-06-03T10:21:02.911Z"
   },
   {
    "duration": 23,
    "start_time": "2023-06-03T10:21:19.874Z"
   },
   {
    "duration": 34,
    "start_time": "2023-06-03T10:21:32.363Z"
   },
   {
    "duration": 38,
    "start_time": "2023-06-03T10:27:28.585Z"
   },
   {
    "duration": 21,
    "start_time": "2023-06-03T10:28:06.496Z"
   },
   {
    "duration": 14,
    "start_time": "2023-06-03T10:31:53.301Z"
   },
   {
    "duration": 20,
    "start_time": "2023-06-03T10:32:59.902Z"
   },
   {
    "duration": 23,
    "start_time": "2023-06-03T10:34:26.508Z"
   },
   {
    "duration": 31,
    "start_time": "2023-06-03T10:34:48.416Z"
   },
   {
    "duration": 37,
    "start_time": "2023-06-03T10:35:05.430Z"
   },
   {
    "duration": 24,
    "start_time": "2023-06-03T10:35:24.053Z"
   },
   {
    "duration": 22,
    "start_time": "2023-06-03T10:35:45.852Z"
   },
   {
    "duration": 1299,
    "start_time": "2023-06-03T10:52:54.341Z"
   },
   {
    "duration": 168,
    "start_time": "2023-06-03T10:52:55.641Z"
   },
   {
    "duration": 22,
    "start_time": "2023-06-03T10:52:55.810Z"
   },
   {
    "duration": 10,
    "start_time": "2023-06-03T10:52:55.834Z"
   },
   {
    "duration": 10,
    "start_time": "2023-06-03T10:52:55.846Z"
   },
   {
    "duration": 47,
    "start_time": "2023-06-03T10:52:55.858Z"
   },
   {
    "duration": 23,
    "start_time": "2023-06-03T10:52:55.908Z"
   },
   {
    "duration": 92,
    "start_time": "2023-06-03T10:52:55.933Z"
   },
   {
    "duration": 20,
    "start_time": "2023-06-03T10:52:56.027Z"
   },
   {
    "duration": 36,
    "start_time": "2023-06-03T10:52:56.049Z"
   },
   {
    "duration": 9,
    "start_time": "2023-06-03T10:52:56.087Z"
   },
   {
    "duration": 8,
    "start_time": "2023-06-03T10:52:56.098Z"
   },
   {
    "duration": 13,
    "start_time": "2023-06-03T10:52:56.108Z"
   },
   {
    "duration": 8,
    "start_time": "2023-06-03T10:52:56.123Z"
   },
   {
    "duration": 102,
    "start_time": "2023-06-03T10:52:56.132Z"
   },
   {
    "duration": 144,
    "start_time": "2023-06-03T10:52:56.236Z"
   },
   {
    "duration": 29,
    "start_time": "2023-06-03T10:52:56.382Z"
   },
   {
    "duration": 147,
    "start_time": "2023-06-03T10:52:56.414Z"
   },
   {
    "duration": 35,
    "start_time": "2023-06-03T10:52:56.563Z"
   },
   {
    "duration": 42,
    "start_time": "2023-06-03T10:52:56.600Z"
   },
   {
    "duration": 9,
    "start_time": "2023-06-03T10:52:56.643Z"
   },
   {
    "duration": 11,
    "start_time": "2023-06-03T10:52:56.677Z"
   },
   {
    "duration": 29,
    "start_time": "2023-06-03T10:52:56.690Z"
   },
   {
    "duration": 17,
    "start_time": "2023-06-03T10:52:56.721Z"
   },
   {
    "duration": 57,
    "start_time": "2023-06-03T10:52:56.740Z"
   },
   {
    "duration": 339,
    "start_time": "2023-06-03T10:52:56.799Z"
   },
   {
    "duration": 38,
    "start_time": "2023-06-03T10:52:57.139Z"
   },
   {
    "duration": 34,
    "start_time": "2023-06-03T10:52:57.183Z"
   },
   {
    "duration": 44,
    "start_time": "2023-06-03T10:52:57.219Z"
   },
   {
    "duration": 19,
    "start_time": "2023-06-03T10:52:57.265Z"
   },
   {
    "duration": 9,
    "start_time": "2023-06-03T10:52:57.286Z"
   },
   {
    "duration": 86,
    "start_time": "2023-06-03T10:52:57.297Z"
   },
   {
    "duration": 44,
    "start_time": "2023-06-03T10:52:57.385Z"
   },
   {
    "duration": 15,
    "start_time": "2023-06-03T10:52:57.431Z"
   },
   {
    "duration": 72,
    "start_time": "2023-06-03T10:52:57.448Z"
   },
   {
    "duration": 38,
    "start_time": "2023-06-03T10:52:57.522Z"
   },
   {
    "duration": 265,
    "start_time": "2023-06-03T10:52:57.562Z"
   },
   {
    "duration": 91,
    "start_time": "2023-06-03T10:52:57.829Z"
   },
   {
    "duration": 13,
    "start_time": "2023-06-03T10:52:57.921Z"
   },
   {
    "duration": 42,
    "start_time": "2023-06-03T10:52:57.936Z"
   },
   {
    "duration": 83,
    "start_time": "2023-06-03T10:52:57.980Z"
   },
   {
    "duration": 21,
    "start_time": "2023-06-03T10:52:58.065Z"
   },
   {
    "duration": 191,
    "start_time": "2023-06-03T10:52:58.088Z"
   },
   {
    "duration": 9,
    "start_time": "2023-06-03T10:52:58.281Z"
   },
   {
    "duration": 14,
    "start_time": "2023-06-03T10:52:58.291Z"
   },
   {
    "duration": 48,
    "start_time": "2023-06-03T10:52:58.306Z"
   },
   {
    "duration": 4,
    "start_time": "2023-06-03T10:52:58.356Z"
   },
   {
    "duration": 93,
    "start_time": "2023-06-03T10:52:58.362Z"
   },
   {
    "duration": 2,
    "start_time": "2023-06-03T10:52:58.457Z"
   },
   {
    "duration": 33,
    "start_time": "2023-06-03T10:52:58.461Z"
   },
   {
    "duration": 23,
    "start_time": "2023-06-03T10:52:58.496Z"
   },
   {
    "duration": 15,
    "start_time": "2023-06-03T10:52:58.521Z"
   },
   {
    "duration": 51,
    "start_time": "2023-06-03T10:52:58.538Z"
   },
   {
    "duration": 6,
    "start_time": "2023-06-03T10:52:58.591Z"
   },
   {
    "duration": 43,
    "start_time": "2023-06-03T10:52:58.598Z"
   },
   {
    "duration": 5,
    "start_time": "2023-06-03T10:52:58.643Z"
   },
   {
    "duration": 36,
    "start_time": "2023-06-03T10:52:58.650Z"
   },
   {
    "duration": 5,
    "start_time": "2023-06-03T10:52:58.688Z"
   },
   {
    "duration": 48,
    "start_time": "2023-06-03T10:52:58.695Z"
   },
   {
    "duration": 5,
    "start_time": "2023-06-03T10:52:58.745Z"
   },
   {
    "duration": 7,
    "start_time": "2023-06-03T10:52:58.752Z"
   },
   {
    "duration": 29,
    "start_time": "2023-06-03T10:52:58.760Z"
   },
   {
    "duration": 16,
    "start_time": "2023-06-03T10:52:58.790Z"
   },
   {
    "duration": 171,
    "start_time": "2023-06-03T10:52:58.808Z"
   },
   {
    "duration": 29,
    "start_time": "2023-06-03T10:52:58.981Z"
   },
   {
    "duration": 26,
    "start_time": "2023-06-03T10:52:59.012Z"
   },
   {
    "duration": 46,
    "start_time": "2023-06-03T10:52:59.040Z"
   },
   {
    "duration": 18,
    "start_time": "2023-06-03T10:52:59.088Z"
   },
   {
    "duration": 20,
    "start_time": "2023-06-03T10:52:59.108Z"
   },
   {
    "duration": 50,
    "start_time": "2023-06-03T10:52:59.130Z"
   },
   {
    "duration": 29,
    "start_time": "2023-06-03T10:52:59.182Z"
   },
   {
    "duration": 26,
    "start_time": "2023-06-03T10:52:59.213Z"
   },
   {
    "duration": 49,
    "start_time": "2023-06-03T10:52:59.241Z"
   },
   {
    "duration": 18,
    "start_time": "2023-06-03T10:52:59.292Z"
   },
   {
    "duration": 23,
    "start_time": "2023-06-03T10:52:59.312Z"
   },
   {
    "duration": 15,
    "start_time": "2023-06-03T10:52:59.337Z"
   },
   {
    "duration": 40,
    "start_time": "2023-06-03T10:52:59.376Z"
   },
   {
    "duration": 28,
    "start_time": "2023-06-03T10:52:59.419Z"
   },
   {
    "duration": 45,
    "start_time": "2023-06-03T10:52:59.449Z"
   },
   {
    "duration": 31,
    "start_time": "2023-06-03T10:52:59.496Z"
   },
   {
    "duration": 3,
    "start_time": "2023-06-03T10:53:23.589Z"
   },
   {
    "duration": 1268,
    "start_time": "2023-06-03T10:53:35.593Z"
   },
   {
    "duration": 234,
    "start_time": "2023-06-03T10:53:36.864Z"
   },
   {
    "duration": 34,
    "start_time": "2023-06-03T10:53:37.101Z"
   },
   {
    "duration": 13,
    "start_time": "2023-06-03T10:53:37.137Z"
   },
   {
    "duration": 26,
    "start_time": "2023-06-03T10:53:37.152Z"
   },
   {
    "duration": 24,
    "start_time": "2023-06-03T10:53:37.180Z"
   },
   {
    "duration": 15,
    "start_time": "2023-06-03T10:53:37.206Z"
   },
   {
    "duration": 94,
    "start_time": "2023-06-03T10:53:37.223Z"
   },
   {
    "duration": 19,
    "start_time": "2023-06-03T10:53:37.318Z"
   },
   {
    "duration": 40,
    "start_time": "2023-06-03T10:53:37.340Z"
   },
   {
    "duration": 5,
    "start_time": "2023-06-03T10:53:37.381Z"
   },
   {
    "duration": 8,
    "start_time": "2023-06-03T10:53:37.388Z"
   },
   {
    "duration": 10,
    "start_time": "2023-06-03T10:53:37.397Z"
   },
   {
    "duration": 8,
    "start_time": "2023-06-03T10:53:37.409Z"
   },
   {
    "duration": 98,
    "start_time": "2023-06-03T10:53:37.418Z"
   },
   {
    "duration": 98,
    "start_time": "2023-06-03T10:53:37.518Z"
   },
   {
    "duration": 20,
    "start_time": "2023-06-03T10:53:37.617Z"
   },
   {
    "duration": 107,
    "start_time": "2023-06-03T10:53:37.639Z"
   },
   {
    "duration": 51,
    "start_time": "2023-06-03T10:53:37.748Z"
   },
   {
    "duration": 35,
    "start_time": "2023-06-03T10:53:37.801Z"
   },
   {
    "duration": 8,
    "start_time": "2023-06-03T10:53:37.837Z"
   },
   {
    "duration": 43,
    "start_time": "2023-06-03T10:53:37.847Z"
   },
   {
    "duration": 34,
    "start_time": "2023-06-03T10:53:37.893Z"
   },
   {
    "duration": 17,
    "start_time": "2023-06-03T10:53:37.929Z"
   },
   {
    "duration": 42,
    "start_time": "2023-06-03T10:53:37.948Z"
   },
   {
    "duration": 331,
    "start_time": "2023-06-03T10:53:37.992Z"
   },
   {
    "duration": 30,
    "start_time": "2023-06-03T10:53:38.324Z"
   },
   {
    "duration": 46,
    "start_time": "2023-06-03T10:53:38.359Z"
   },
   {
    "duration": 27,
    "start_time": "2023-06-03T10:53:38.407Z"
   },
   {
    "duration": 8,
    "start_time": "2023-06-03T10:53:38.436Z"
   },
   {
    "duration": 33,
    "start_time": "2023-06-03T10:53:38.445Z"
   },
   {
    "duration": 60,
    "start_time": "2023-06-03T10:53:38.482Z"
   },
   {
    "duration": 41,
    "start_time": "2023-06-03T10:53:38.543Z"
   },
   {
    "duration": 11,
    "start_time": "2023-06-03T10:53:38.585Z"
   },
   {
    "duration": 35,
    "start_time": "2023-06-03T10:53:38.597Z"
   },
   {
    "duration": 43,
    "start_time": "2023-06-03T10:53:38.634Z"
   },
   {
    "duration": 215,
    "start_time": "2023-06-03T10:53:38.679Z"
   },
   {
    "duration": 55,
    "start_time": "2023-06-03T10:53:38.896Z"
   },
   {
    "duration": 30,
    "start_time": "2023-06-03T10:53:38.953Z"
   },
   {
    "duration": 25,
    "start_time": "2023-06-03T10:53:38.985Z"
   },
   {
    "duration": 76,
    "start_time": "2023-06-03T10:53:39.012Z"
   },
   {
    "duration": 8,
    "start_time": "2023-06-03T10:53:39.090Z"
   },
   {
    "duration": 171,
    "start_time": "2023-06-03T10:53:39.100Z"
   },
   {
    "duration": 9,
    "start_time": "2023-06-03T10:53:39.277Z"
   },
   {
    "duration": 10,
    "start_time": "2023-06-03T10:53:39.288Z"
   },
   {
    "duration": 42,
    "start_time": "2023-06-03T10:53:39.300Z"
   },
   {
    "duration": 6,
    "start_time": "2023-06-03T10:53:39.344Z"
   },
   {
    "duration": 100,
    "start_time": "2023-06-03T10:53:39.351Z"
   },
   {
    "duration": 3,
    "start_time": "2023-06-03T10:53:39.453Z"
   },
   {
    "duration": 36,
    "start_time": "2023-06-03T10:53:39.458Z"
   },
   {
    "duration": 16,
    "start_time": "2023-06-03T10:53:39.496Z"
   },
   {
    "duration": 5,
    "start_time": "2023-06-03T10:53:39.514Z"
   },
   {
    "duration": 55,
    "start_time": "2023-06-03T10:53:39.521Z"
   },
   {
    "duration": 5,
    "start_time": "2023-06-03T10:53:39.578Z"
   },
   {
    "duration": 30,
    "start_time": "2023-06-03T10:53:39.585Z"
   },
   {
    "duration": 5,
    "start_time": "2023-06-03T10:53:39.616Z"
   },
   {
    "duration": 29,
    "start_time": "2023-06-03T10:53:39.623Z"
   },
   {
    "duration": 5,
    "start_time": "2023-06-03T10:53:39.677Z"
   },
   {
    "duration": 29,
    "start_time": "2023-06-03T10:53:39.683Z"
   },
   {
    "duration": 5,
    "start_time": "2023-06-03T10:53:39.714Z"
   },
   {
    "duration": 8,
    "start_time": "2023-06-03T10:53:39.721Z"
   },
   {
    "duration": 65,
    "start_time": "2023-06-03T10:53:39.730Z"
   },
   {
    "duration": 20,
    "start_time": "2023-06-03T10:53:39.797Z"
   },
   {
    "duration": 40,
    "start_time": "2023-06-03T10:53:39.818Z"
   },
   {
    "duration": 43,
    "start_time": "2023-06-03T10:53:39.860Z"
   },
   {
    "duration": 25,
    "start_time": "2023-06-03T10:53:39.904Z"
   },
   {
    "duration": 45,
    "start_time": "2023-06-03T10:53:39.931Z"
   },
   {
    "duration": 20,
    "start_time": "2023-06-03T10:53:39.978Z"
   },
   {
    "duration": 17,
    "start_time": "2023-06-03T10:53:40.000Z"
   },
   {
    "duration": 32,
    "start_time": "2023-06-03T10:53:40.018Z"
   },
   {
    "duration": 29,
    "start_time": "2023-06-03T10:53:40.077Z"
   },
   {
    "duration": 24,
    "start_time": "2023-06-03T10:53:40.108Z"
   },
   {
    "duration": 52,
    "start_time": "2023-06-03T10:53:40.134Z"
   },
   {
    "duration": 17,
    "start_time": "2023-06-03T10:53:40.188Z"
   },
   {
    "duration": 24,
    "start_time": "2023-06-03T10:53:40.207Z"
   },
   {
    "duration": 17,
    "start_time": "2023-06-03T10:53:40.233Z"
   },
   {
    "duration": 55,
    "start_time": "2023-06-03T10:53:40.252Z"
   },
   {
    "duration": 38,
    "start_time": "2023-06-03T10:53:40.309Z"
   },
   {
    "duration": 50,
    "start_time": "2023-06-03T10:53:40.349Z"
   },
   {
    "duration": 24,
    "start_time": "2023-06-03T10:53:40.400Z"
   },
   {
    "duration": 1133,
    "start_time": "2023-06-03T11:29:31.595Z"
   },
   {
    "duration": 155,
    "start_time": "2023-06-03T11:29:32.730Z"
   },
   {
    "duration": 21,
    "start_time": "2023-06-03T11:29:32.887Z"
   },
   {
    "duration": 20,
    "start_time": "2023-06-03T11:29:32.910Z"
   },
   {
    "duration": 30,
    "start_time": "2023-06-03T11:29:32.932Z"
   },
   {
    "duration": 56,
    "start_time": "2023-06-03T11:29:32.964Z"
   },
   {
    "duration": 67,
    "start_time": "2023-06-03T11:29:33.021Z"
   },
   {
    "duration": 89,
    "start_time": "2023-06-03T11:29:33.089Z"
   },
   {
    "duration": 18,
    "start_time": "2023-06-03T11:29:33.179Z"
   },
   {
    "duration": 37,
    "start_time": "2023-06-03T11:29:33.199Z"
   },
   {
    "duration": 21,
    "start_time": "2023-06-03T11:29:33.238Z"
   },
   {
    "duration": 37,
    "start_time": "2023-06-03T11:29:33.260Z"
   },
   {
    "duration": 46,
    "start_time": "2023-06-03T11:29:33.299Z"
   },
   {
    "duration": 25,
    "start_time": "2023-06-03T11:29:33.347Z"
   },
   {
    "duration": 95,
    "start_time": "2023-06-03T11:29:33.374Z"
   },
   {
    "duration": 89,
    "start_time": "2023-06-03T11:29:33.471Z"
   },
   {
    "duration": 27,
    "start_time": "2023-06-03T11:29:33.562Z"
   },
   {
    "duration": 123,
    "start_time": "2023-06-03T11:29:33.590Z"
   },
   {
    "duration": 35,
    "start_time": "2023-06-03T11:29:33.715Z"
   },
   {
    "duration": 46,
    "start_time": "2023-06-03T11:29:33.751Z"
   },
   {
    "duration": 17,
    "start_time": "2023-06-03T11:29:33.799Z"
   },
   {
    "duration": 32,
    "start_time": "2023-06-03T11:29:33.817Z"
   },
   {
    "duration": 40,
    "start_time": "2023-06-03T11:29:33.851Z"
   },
   {
    "duration": 17,
    "start_time": "2023-06-03T11:29:33.893Z"
   },
   {
    "duration": 25,
    "start_time": "2023-06-03T11:29:33.912Z"
   },
   {
    "duration": 297,
    "start_time": "2023-06-03T11:29:33.939Z"
   },
   {
    "duration": 28,
    "start_time": "2023-06-03T11:29:34.237Z"
   },
   {
    "duration": 51,
    "start_time": "2023-06-03T11:29:34.268Z"
   },
   {
    "duration": 28,
    "start_time": "2023-06-03T11:29:34.321Z"
   },
   {
    "duration": 12,
    "start_time": "2023-06-03T11:29:34.351Z"
   },
   {
    "duration": 13,
    "start_time": "2023-06-03T11:29:34.364Z"
   },
   {
    "duration": 66,
    "start_time": "2023-06-03T11:29:34.378Z"
   },
   {
    "duration": 25,
    "start_time": "2023-06-03T11:29:34.445Z"
   },
   {
    "duration": 18,
    "start_time": "2023-06-03T11:29:34.472Z"
   },
   {
    "duration": 48,
    "start_time": "2023-06-03T11:29:34.491Z"
   },
   {
    "duration": 21,
    "start_time": "2023-06-03T11:29:34.541Z"
   },
   {
    "duration": 199,
    "start_time": "2023-06-03T11:29:34.563Z"
   },
   {
    "duration": 68,
    "start_time": "2023-06-03T11:29:34.763Z"
   },
   {
    "duration": 14,
    "start_time": "2023-06-03T11:29:34.833Z"
   },
   {
    "duration": 50,
    "start_time": "2023-06-03T11:29:34.849Z"
   },
   {
    "duration": 80,
    "start_time": "2023-06-03T11:29:34.901Z"
   },
   {
    "duration": 8,
    "start_time": "2023-06-03T11:29:34.982Z"
   },
   {
    "duration": 163,
    "start_time": "2023-06-03T11:29:34.991Z"
   },
   {
    "duration": 8,
    "start_time": "2023-06-03T11:29:35.155Z"
   },
   {
    "duration": 35,
    "start_time": "2023-06-03T11:29:35.165Z"
   },
   {
    "duration": 56,
    "start_time": "2023-06-03T11:29:35.201Z"
   },
   {
    "duration": 5,
    "start_time": "2023-06-03T11:29:35.259Z"
   },
   {
    "duration": 101,
    "start_time": "2023-06-03T11:29:35.265Z"
   },
   {
    "duration": 3,
    "start_time": "2023-06-03T11:29:35.367Z"
   },
   {
    "duration": 43,
    "start_time": "2023-06-03T11:29:35.371Z"
   },
   {
    "duration": 46,
    "start_time": "2023-06-03T11:29:35.415Z"
   },
   {
    "duration": 5,
    "start_time": "2023-06-03T11:29:35.463Z"
   },
   {
    "duration": 56,
    "start_time": "2023-06-03T11:29:35.469Z"
   },
   {
    "duration": 4,
    "start_time": "2023-06-03T11:29:35.526Z"
   },
   {
    "duration": 51,
    "start_time": "2023-06-03T11:29:35.532Z"
   },
   {
    "duration": 30,
    "start_time": "2023-06-03T11:29:35.585Z"
   },
   {
    "duration": 41,
    "start_time": "2023-06-03T11:29:35.617Z"
   },
   {
    "duration": 10,
    "start_time": "2023-06-03T11:29:35.660Z"
   },
   {
    "duration": 62,
    "start_time": "2023-06-03T11:29:35.671Z"
   },
   {
    "duration": 23,
    "start_time": "2023-06-03T11:29:35.734Z"
   },
   {
    "duration": 67,
    "start_time": "2023-06-03T11:29:35.759Z"
   },
   {
    "duration": 47,
    "start_time": "2023-06-03T11:29:35.828Z"
   },
   {
    "duration": 37,
    "start_time": "2023-06-03T11:29:35.876Z"
   },
   {
    "duration": 41,
    "start_time": "2023-06-03T11:29:35.914Z"
   },
   {
    "duration": 28,
    "start_time": "2023-06-03T11:29:35.957Z"
   },
   {
    "duration": 34,
    "start_time": "2023-06-03T11:29:35.986Z"
   },
   {
    "duration": 31,
    "start_time": "2023-06-03T11:29:36.021Z"
   },
   {
    "duration": 19,
    "start_time": "2023-06-03T11:29:36.054Z"
   },
   {
    "duration": 42,
    "start_time": "2023-06-03T11:29:36.074Z"
   },
   {
    "duration": 28,
    "start_time": "2023-06-03T11:29:36.118Z"
   },
   {
    "duration": 24,
    "start_time": "2023-06-03T11:29:36.147Z"
   },
   {
    "duration": 27,
    "start_time": "2023-06-03T11:29:36.173Z"
   },
   {
    "duration": 39,
    "start_time": "2023-06-03T11:29:36.201Z"
   },
   {
    "duration": 15,
    "start_time": "2023-06-03T11:29:36.242Z"
   },
   {
    "duration": 50,
    "start_time": "2023-06-03T11:29:36.258Z"
   },
   {
    "duration": 31,
    "start_time": "2023-06-03T11:29:36.310Z"
   },
   {
    "duration": 31,
    "start_time": "2023-06-03T11:29:36.343Z"
   },
   {
    "duration": 26,
    "start_time": "2023-06-03T11:29:36.375Z"
   },
   {
    "duration": 45,
    "start_time": "2023-06-03T11:29:36.402Z"
   },
   {
    "duration": 19,
    "start_time": "2023-06-03T11:29:36.448Z"
   },
   {
    "duration": 2149,
    "start_time": "2023-06-03T14:52:44.302Z"
   },
   {
    "duration": 3,
    "start_time": "2023-06-03T15:00:14.922Z"
   },
   {
    "duration": 774,
    "start_time": "2023-06-03T15:00:20.663Z"
   },
   {
    "duration": 1216,
    "start_time": "2023-06-03T15:00:45.614Z"
   },
   {
    "duration": 156,
    "start_time": "2023-06-03T15:00:48.518Z"
   },
   {
    "duration": 23,
    "start_time": "2023-06-03T15:00:49.807Z"
   },
   {
    "duration": 51,
    "start_time": "2023-06-03T15:00:49.832Z"
   },
   {
    "duration": 6,
    "start_time": "2023-06-03T15:00:58.810Z"
   },
   {
    "duration": 18,
    "start_time": "2023-06-03T15:01:09.732Z"
   },
   {
    "duration": 14,
    "start_time": "2023-06-03T15:01:12.418Z"
   },
   {
    "duration": 65,
    "start_time": "2023-06-03T15:01:13.820Z"
   },
   {
    "duration": 18,
    "start_time": "2023-06-03T15:01:15.237Z"
   },
   {
    "duration": 23,
    "start_time": "2023-06-03T15:01:16.056Z"
   },
   {
    "duration": 6,
    "start_time": "2023-06-03T15:01:18.925Z"
   },
   {
    "duration": 8,
    "start_time": "2023-06-03T15:01:19.416Z"
   },
   {
    "duration": 20,
    "start_time": "2023-06-03T15:01:20.574Z"
   },
   {
    "duration": 8,
    "start_time": "2023-06-03T15:01:21.114Z"
   },
   {
    "duration": 75,
    "start_time": "2023-06-03T15:01:24.063Z"
   },
   {
    "duration": 102,
    "start_time": "2023-06-03T15:01:24.851Z"
   },
   {
    "duration": 19,
    "start_time": "2023-06-03T15:01:42.626Z"
   },
   {
    "duration": 94,
    "start_time": "2023-06-03T15:01:44.217Z"
   },
   {
    "duration": 712,
    "start_time": "2023-06-03T15:33:09.002Z"
   },
   {
    "duration": 18,
    "start_time": "2023-06-03T15:33:09.717Z"
   },
   {
    "duration": 8,
    "start_time": "2023-06-03T15:33:11.310Z"
   },
   {
    "duration": 3,
    "start_time": "2023-06-03T15:51:07.666Z"
   },
   {
    "duration": 6,
    "start_time": "2023-06-03T15:51:12.064Z"
   },
   {
    "duration": 26,
    "start_time": "2023-06-03T15:51:12.463Z"
   },
   {
    "duration": 13,
    "start_time": "2023-06-03T15:51:13.707Z"
   },
   {
    "duration": 60,
    "start_time": "2023-06-03T15:51:14.563Z"
   },
   {
    "duration": 21,
    "start_time": "2023-06-03T15:51:15.551Z"
   },
   {
    "duration": 24,
    "start_time": "2023-06-03T15:51:16.014Z"
   },
   {
    "duration": 7,
    "start_time": "2023-06-03T15:51:16.876Z"
   },
   {
    "duration": 9,
    "start_time": "2023-06-03T15:51:17.376Z"
   },
   {
    "duration": 7,
    "start_time": "2023-06-03T15:51:21.451Z"
   },
   {
    "duration": 8,
    "start_time": "2023-06-03T15:51:21.914Z"
   },
   {
    "duration": 56,
    "start_time": "2023-06-03T15:51:22.912Z"
   },
   {
    "duration": 83,
    "start_time": "2023-06-03T15:51:23.466Z"
   },
   {
    "duration": 18,
    "start_time": "2023-06-03T15:51:25.840Z"
   },
   {
    "duration": 87,
    "start_time": "2023-06-03T15:51:27.052Z"
   },
   {
    "duration": 31,
    "start_time": "2023-06-03T15:51:27.502Z"
   },
   {
    "duration": 25,
    "start_time": "2023-06-03T15:51:31.544Z"
   },
   {
    "duration": 7,
    "start_time": "2023-06-03T15:51:37.827Z"
   },
   {
    "duration": 11,
    "start_time": "2023-06-03T15:51:39.865Z"
   },
   {
    "duration": 32,
    "start_time": "2023-06-03T15:51:47.676Z"
   },
   {
    "duration": 15,
    "start_time": "2023-06-03T15:52:03.239Z"
   },
   {
    "duration": 17,
    "start_time": "2023-06-03T15:52:03.678Z"
   },
   {
    "duration": 324,
    "start_time": "2023-06-03T15:52:04.640Z"
   },
   {
    "duration": 27,
    "start_time": "2023-06-03T15:52:16.037Z"
   },
   {
    "duration": 26,
    "start_time": "2023-06-03T15:52:18.995Z"
   },
   {
    "duration": 24,
    "start_time": "2023-06-03T15:52:28.914Z"
   },
   {
    "duration": 9,
    "start_time": "2023-06-03T15:52:47.740Z"
   },
   {
    "duration": 13,
    "start_time": "2023-06-03T16:01:07.558Z"
   },
   {
    "duration": 11,
    "start_time": "2023-06-03T16:01:15.346Z"
   },
   {
    "duration": 11,
    "start_time": "2023-06-03T16:01:25.518Z"
   },
   {
    "duration": 11,
    "start_time": "2023-06-03T16:01:29.986Z"
   },
   {
    "duration": 99,
    "start_time": "2023-06-03T16:02:38.120Z"
   },
   {
    "duration": 19,
    "start_time": "2023-06-03T16:02:43.849Z"
   },
   {
    "duration": 20,
    "start_time": "2023-06-03T16:02:46.393Z"
   },
   {
    "duration": 20,
    "start_time": "2023-06-03T16:03:21.683Z"
   },
   {
    "duration": 20,
    "start_time": "2023-06-03T16:05:46.235Z"
   },
   {
    "duration": 19,
    "start_time": "2023-06-03T16:05:54.249Z"
   },
   {
    "duration": 14,
    "start_time": "2023-06-03T16:06:13.446Z"
   },
   {
    "duration": 13,
    "start_time": "2023-06-03T16:06:52.586Z"
   },
   {
    "duration": 13,
    "start_time": "2023-06-03T16:06:58.922Z"
   },
   {
    "duration": 13,
    "start_time": "2023-06-03T16:07:11.516Z"
   },
   {
    "duration": 14,
    "start_time": "2023-06-03T16:07:19.872Z"
   },
   {
    "duration": 4,
    "start_time": "2023-06-03T16:10:04.373Z"
   },
   {
    "duration": 14,
    "start_time": "2023-06-03T16:10:48.023Z"
   },
   {
    "duration": 4,
    "start_time": "2023-06-03T16:10:48.386Z"
   },
   {
    "duration": 25,
    "start_time": "2023-06-03T16:13:28.628Z"
   },
   {
    "duration": 3,
    "start_time": "2023-06-03T16:13:41.092Z"
   },
   {
    "duration": 149,
    "start_time": "2023-06-03T16:13:41.097Z"
   },
   {
    "duration": 35,
    "start_time": "2023-06-03T16:13:41.247Z"
   },
   {
    "duration": 7,
    "start_time": "2023-06-03T16:13:41.284Z"
   },
   {
    "duration": 3,
    "start_time": "2023-06-03T16:13:41.292Z"
   },
   {
    "duration": 6,
    "start_time": "2023-06-03T16:13:41.297Z"
   },
   {
    "duration": 20,
    "start_time": "2023-06-03T16:13:41.305Z"
   },
   {
    "duration": 15,
    "start_time": "2023-06-03T16:13:41.327Z"
   },
   {
    "duration": 91,
    "start_time": "2023-06-03T16:13:41.344Z"
   },
   {
    "duration": 43,
    "start_time": "2023-06-03T16:13:41.437Z"
   },
   {
    "duration": 23,
    "start_time": "2023-06-03T16:13:41.482Z"
   },
   {
    "duration": 7,
    "start_time": "2023-06-03T16:13:41.507Z"
   },
   {
    "duration": 7,
    "start_time": "2023-06-03T16:13:41.515Z"
   },
   {
    "duration": 9,
    "start_time": "2023-06-03T16:13:41.523Z"
   },
   {
    "duration": 49,
    "start_time": "2023-06-03T16:13:41.534Z"
   },
   {
    "duration": 57,
    "start_time": "2023-06-03T16:13:41.585Z"
   },
   {
    "duration": 94,
    "start_time": "2023-06-03T16:13:41.644Z"
   },
   {
    "duration": 17,
    "start_time": "2023-06-03T16:13:41.740Z"
   },
   {
    "duration": 87,
    "start_time": "2023-06-03T16:13:41.758Z"
   },
   {
    "duration": 38,
    "start_time": "2023-06-03T16:13:41.847Z"
   },
   {
    "duration": 29,
    "start_time": "2023-06-03T16:13:41.886Z"
   },
   {
    "duration": 7,
    "start_time": "2023-06-03T16:13:41.917Z"
   },
   {
    "duration": 11,
    "start_time": "2023-06-03T16:13:41.926Z"
   },
   {
    "duration": 51,
    "start_time": "2023-06-03T16:13:41.939Z"
   },
   {
    "duration": 17,
    "start_time": "2023-06-03T16:13:41.992Z"
   },
   {
    "duration": 16,
    "start_time": "2023-06-03T16:13:42.011Z"
   },
   {
    "duration": 263,
    "start_time": "2023-06-03T16:13:42.029Z"
   },
   {
    "duration": 26,
    "start_time": "2023-06-03T16:13:42.294Z"
   },
   {
    "duration": 26,
    "start_time": "2023-06-03T16:13:42.324Z"
   },
   {
    "duration": 45,
    "start_time": "2023-06-03T16:13:42.352Z"
   },
   {
    "duration": 6,
    "start_time": "2023-06-03T16:13:42.399Z"
   },
   {
    "duration": 15,
    "start_time": "2023-06-03T16:13:42.406Z"
   },
   {
    "duration": 4,
    "start_time": "2023-06-03T16:13:42.423Z"
   },
   {
    "duration": 14,
    "start_time": "2023-06-03T16:13:42.428Z"
   },
   {
    "duration": 81,
    "start_time": "2023-06-03T16:13:42.444Z"
   },
   {
    "duration": 28,
    "start_time": "2023-06-03T16:13:42.527Z"
   },
   {
    "duration": 29,
    "start_time": "2023-06-03T16:13:42.557Z"
   },
   {
    "duration": 26,
    "start_time": "2023-06-03T16:13:42.588Z"
   },
   {
    "duration": 22,
    "start_time": "2023-06-03T16:13:42.616Z"
   },
   {
    "duration": 227,
    "start_time": "2023-06-03T16:13:42.640Z"
   },
   {
    "duration": 57,
    "start_time": "2023-06-03T16:13:42.869Z"
   },
   {
    "duration": 11,
    "start_time": "2023-06-03T16:13:42.928Z"
   },
   {
    "duration": 46,
    "start_time": "2023-06-03T16:13:42.941Z"
   },
   {
    "duration": 55,
    "start_time": "2023-06-03T16:13:42.988Z"
   },
   {
    "duration": 8,
    "start_time": "2023-06-03T16:13:43.044Z"
   },
   {
    "duration": 185,
    "start_time": "2023-06-03T16:13:43.053Z"
   },
   {
    "duration": 10,
    "start_time": "2023-06-03T16:13:43.239Z"
   },
   {
    "duration": 4,
    "start_time": "2023-06-03T16:13:43.251Z"
   },
   {
    "duration": 54,
    "start_time": "2023-06-03T16:13:43.256Z"
   },
   {
    "duration": 4,
    "start_time": "2023-06-03T16:13:43.312Z"
   },
   {
    "duration": 89,
    "start_time": "2023-06-03T16:13:43.318Z"
   },
   {
    "duration": 2,
    "start_time": "2023-06-03T16:13:43.409Z"
   },
   {
    "duration": 24,
    "start_time": "2023-06-03T16:13:43.413Z"
   },
   {
    "duration": 18,
    "start_time": "2023-06-03T16:13:43.439Z"
   },
   {
    "duration": 4,
    "start_time": "2023-06-03T16:13:43.479Z"
   },
   {
    "duration": 32,
    "start_time": "2023-06-03T16:13:43.484Z"
   },
   {
    "duration": 4,
    "start_time": "2023-06-03T16:13:43.518Z"
   },
   {
    "duration": 27,
    "start_time": "2023-06-03T16:13:43.524Z"
   },
   {
    "duration": 30,
    "start_time": "2023-06-03T16:13:43.552Z"
   },
   {
    "duration": 31,
    "start_time": "2023-06-03T16:13:43.583Z"
   },
   {
    "duration": 4,
    "start_time": "2023-06-03T16:13:43.616Z"
   },
   {
    "duration": 30,
    "start_time": "2023-06-03T16:13:43.622Z"
   },
   {
    "duration": 26,
    "start_time": "2023-06-03T16:13:43.654Z"
   },
   {
    "duration": 4,
    "start_time": "2023-06-03T16:13:43.682Z"
   },
   {
    "duration": 29,
    "start_time": "2023-06-03T16:13:43.688Z"
   },
   {
    "duration": 18,
    "start_time": "2023-06-03T16:13:43.718Z"
   },
   {
    "duration": 47,
    "start_time": "2023-06-03T16:13:43.738Z"
   },
   {
    "duration": 22,
    "start_time": "2023-06-03T16:13:43.787Z"
   },
   {
    "duration": 21,
    "start_time": "2023-06-03T16:13:43.811Z"
   },
   {
    "duration": 50,
    "start_time": "2023-06-03T16:13:43.834Z"
   },
   {
    "duration": 20,
    "start_time": "2023-06-03T16:13:43.885Z"
   },
   {
    "duration": 17,
    "start_time": "2023-06-03T16:13:43.906Z"
   },
   {
    "duration": 29,
    "start_time": "2023-06-03T16:13:43.925Z"
   },
   {
    "duration": 45,
    "start_time": "2023-06-03T16:13:43.955Z"
   },
   {
    "duration": 29,
    "start_time": "2023-06-03T16:13:44.002Z"
   },
   {
    "duration": 26,
    "start_time": "2023-06-03T16:13:44.033Z"
   },
   {
    "duration": 34,
    "start_time": "2023-06-03T16:13:44.061Z"
   },
   {
    "duration": 22,
    "start_time": "2023-06-03T16:13:46.765Z"
   },
   {
    "duration": 26,
    "start_time": "2023-06-03T16:13:52.277Z"
   },
   {
    "duration": 27,
    "start_time": "2023-06-03T16:14:10.151Z"
   },
   {
    "duration": 25,
    "start_time": "2023-06-03T16:14:27.351Z"
   },
   {
    "duration": 21,
    "start_time": "2023-06-03T16:14:41.089Z"
   },
   {
    "duration": 36,
    "start_time": "2023-06-03T16:14:46.538Z"
   },
   {
    "duration": 13,
    "start_time": "2023-06-03T16:15:01.130Z"
   },
   {
    "duration": 27,
    "start_time": "2023-06-03T16:15:08.414Z"
   },
   {
    "duration": 24,
    "start_time": "2023-06-03T16:15:13.451Z"
   },
   {
    "duration": 29,
    "start_time": "2023-06-03T16:15:19.140Z"
   },
   {
    "duration": 1221,
    "start_time": "2023-06-03T16:16:29.208Z"
   },
   {
    "duration": 150,
    "start_time": "2023-06-03T16:16:30.431Z"
   },
   {
    "duration": 20,
    "start_time": "2023-06-03T16:16:30.583Z"
   },
   {
    "duration": 29,
    "start_time": "2023-06-03T16:16:30.605Z"
   },
   {
    "duration": 46,
    "start_time": "2023-06-03T16:16:30.637Z"
   },
   {
    "duration": 43,
    "start_time": "2023-06-03T16:16:30.685Z"
   },
   {
    "duration": 50,
    "start_time": "2023-06-03T16:16:30.730Z"
   },
   {
    "duration": 19,
    "start_time": "2023-06-03T16:16:30.782Z"
   },
   {
    "duration": 87,
    "start_time": "2023-06-03T16:16:30.802Z"
   },
   {
    "duration": 17,
    "start_time": "2023-06-03T16:16:30.891Z"
   },
   {
    "duration": 44,
    "start_time": "2023-06-03T16:16:30.910Z"
   },
   {
    "duration": 30,
    "start_time": "2023-06-03T16:16:30.955Z"
   },
   {
    "duration": 33,
    "start_time": "2023-06-03T16:16:30.986Z"
   },
   {
    "duration": 19,
    "start_time": "2023-06-03T16:16:31.022Z"
   },
   {
    "duration": 48,
    "start_time": "2023-06-03T16:16:31.043Z"
   },
   {
    "duration": 81,
    "start_time": "2023-06-03T16:16:31.093Z"
   },
   {
    "duration": 84,
    "start_time": "2023-06-03T16:16:31.176Z"
   },
   {
    "duration": 28,
    "start_time": "2023-06-03T16:16:31.262Z"
   },
   {
    "duration": 100,
    "start_time": "2023-06-03T16:16:31.291Z"
   },
   {
    "duration": 22,
    "start_time": "2023-06-03T16:16:31.392Z"
   },
   {
    "duration": 30,
    "start_time": "2023-06-03T16:16:31.416Z"
   },
   {
    "duration": 12,
    "start_time": "2023-06-03T16:16:31.448Z"
   },
   {
    "duration": 24,
    "start_time": "2023-06-03T16:16:31.461Z"
   },
   {
    "duration": 28,
    "start_time": "2023-06-03T16:16:31.487Z"
   },
   {
    "duration": 28,
    "start_time": "2023-06-03T16:16:31.516Z"
   },
   {
    "duration": 46,
    "start_time": "2023-06-03T16:16:31.546Z"
   },
   {
    "duration": 329,
    "start_time": "2023-06-03T16:16:31.593Z"
   },
   {
    "duration": 26,
    "start_time": "2023-06-03T16:16:31.924Z"
   },
   {
    "duration": 49,
    "start_time": "2023-06-03T16:16:31.951Z"
   },
   {
    "duration": 24,
    "start_time": "2023-06-03T16:16:32.002Z"
   },
   {
    "duration": 7,
    "start_time": "2023-06-03T16:16:32.028Z"
   },
   {
    "duration": 28,
    "start_time": "2023-06-03T16:16:32.037Z"
   },
   {
    "duration": 32,
    "start_time": "2023-06-03T16:16:32.067Z"
   },
   {
    "duration": 9,
    "start_time": "2023-06-03T16:16:32.101Z"
   },
   {
    "duration": 44,
    "start_time": "2023-06-03T16:16:32.111Z"
   },
   {
    "duration": 28,
    "start_time": "2023-06-03T16:16:32.156Z"
   },
   {
    "duration": 10,
    "start_time": "2023-06-03T16:16:32.185Z"
   },
   {
    "duration": 22,
    "start_time": "2023-06-03T16:16:32.196Z"
   },
   {
    "duration": 34,
    "start_time": "2023-06-03T16:16:32.220Z"
   },
   {
    "duration": 204,
    "start_time": "2023-06-03T16:16:32.255Z"
   },
   {
    "duration": 58,
    "start_time": "2023-06-03T16:16:32.463Z"
   },
   {
    "duration": 11,
    "start_time": "2023-06-03T16:16:32.522Z"
   },
   {
    "duration": 23,
    "start_time": "2023-06-03T16:16:32.535Z"
   },
   {
    "duration": 69,
    "start_time": "2023-06-03T16:16:32.560Z"
   },
   {
    "duration": 8,
    "start_time": "2023-06-03T16:16:32.630Z"
   },
   {
    "duration": 172,
    "start_time": "2023-06-03T16:16:32.639Z"
   },
   {
    "duration": 8,
    "start_time": "2023-06-03T16:16:32.813Z"
   },
   {
    "duration": 9,
    "start_time": "2023-06-03T16:16:32.823Z"
   },
   {
    "duration": 49,
    "start_time": "2023-06-03T16:16:32.833Z"
   },
   {
    "duration": 4,
    "start_time": "2023-06-03T16:16:32.884Z"
   },
   {
    "duration": 73,
    "start_time": "2023-06-03T16:16:32.890Z"
   },
   {
    "duration": 13,
    "start_time": "2023-06-03T16:16:32.965Z"
   },
   {
    "duration": 23,
    "start_time": "2023-06-03T16:16:32.980Z"
   },
   {
    "duration": 22,
    "start_time": "2023-06-03T16:16:33.005Z"
   },
   {
    "duration": 4,
    "start_time": "2023-06-03T16:16:33.029Z"
   },
   {
    "duration": 52,
    "start_time": "2023-06-03T16:16:33.034Z"
   },
   {
    "duration": 4,
    "start_time": "2023-06-03T16:16:33.088Z"
   },
   {
    "duration": 24,
    "start_time": "2023-06-03T16:16:33.093Z"
   },
   {
    "duration": 312,
    "start_time": "2023-06-03T16:16:33.119Z"
   },
   {
    "duration": 39,
    "start_time": "2023-06-03T16:16:33.433Z"
   },
   {
    "duration": 4,
    "start_time": "2023-06-03T16:16:33.474Z"
   },
   {
    "duration": 23,
    "start_time": "2023-06-03T16:16:33.479Z"
   },
   {
    "duration": 5,
    "start_time": "2023-06-03T16:16:33.504Z"
   },
   {
    "duration": 6,
    "start_time": "2023-06-03T16:16:33.510Z"
   },
   {
    "duration": 28,
    "start_time": "2023-06-03T16:16:33.517Z"
   },
   {
    "duration": 44,
    "start_time": "2023-06-03T16:16:33.546Z"
   },
   {
    "duration": 32,
    "start_time": "2023-06-03T16:16:33.591Z"
   },
   {
    "duration": 23,
    "start_time": "2023-06-03T16:16:33.624Z"
   },
   {
    "duration": 51,
    "start_time": "2023-06-03T16:16:33.649Z"
   },
   {
    "duration": 22,
    "start_time": "2023-06-03T16:16:33.702Z"
   },
   {
    "duration": 20,
    "start_time": "2023-06-03T16:16:33.725Z"
   },
   {
    "duration": 52,
    "start_time": "2023-06-03T16:16:33.747Z"
   },
   {
    "duration": 35,
    "start_time": "2023-06-03T16:16:33.801Z"
   },
   {
    "duration": 40,
    "start_time": "2023-06-03T16:16:33.838Z"
   },
   {
    "duration": 36,
    "start_time": "2023-06-03T16:16:33.880Z"
   },
   {
    "duration": 21,
    "start_time": "2023-06-03T16:16:33.917Z"
   },
   {
    "duration": 39,
    "start_time": "2023-06-03T16:16:33.940Z"
   },
   {
    "duration": 31,
    "start_time": "2023-06-03T16:16:33.981Z"
   },
   {
    "duration": 22,
    "start_time": "2023-06-03T16:16:34.014Z"
   },
   {
    "duration": 55,
    "start_time": "2023-06-03T16:16:34.038Z"
   },
   {
    "duration": 26,
    "start_time": "2023-06-03T16:16:34.095Z"
   },
   {
    "duration": 30,
    "start_time": "2023-06-03T16:16:34.123Z"
   },
   {
    "duration": 46,
    "start_time": "2023-06-03T16:16:34.155Z"
   }
  ],
  "kernelspec": {
   "display_name": "Python 3",
   "language": "python",
   "name": "python3"
  },
  "language_info": {
   "codemirror_mode": {
    "name": "ipython",
    "version": 3
   },
   "file_extension": ".py",
   "mimetype": "text/x-python",
   "name": "python",
   "nbconvert_exporter": "python",
   "pygments_lexer": "ipython3",
   "version": "3.10.9"
  },
  "toc": {
   "base_numbering": 1,
   "nav_menu": {},
   "number_sections": false,
   "sideBar": true,
   "skip_h1_title": false,
   "title_cell": "Table of Contents",
   "title_sidebar": "Contents",
   "toc_cell": false,
   "toc_position": {
    "height": "calc(100% - 180px)",
    "left": "10px",
    "top": "150px",
    "width": "210px"
   },
   "toc_section_display": true,
   "toc_window_display": false
  }
 },
 "nbformat": 4,
 "nbformat_minor": 2
}
